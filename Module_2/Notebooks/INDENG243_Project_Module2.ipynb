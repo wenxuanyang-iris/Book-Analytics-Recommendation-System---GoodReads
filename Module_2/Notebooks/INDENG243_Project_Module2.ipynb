{
 "cells": [
  {
   "cell_type": "markdown",
   "id": "60c8cfc0",
   "metadata": {},
   "source": [
    "# INDENG 243 &nbsp; Project - Module 2"
   ]
  },
  {
   "cell_type": "markdown",
   "id": "0bdc6fbb",
   "metadata": {},
   "source": [
    "## *GoodReads*: Book Analytics & Recommendation System\n",
    "\n",
    "- @Group: 18\n",
    "---"
   ]
  },
  {
   "cell_type": "markdown",
   "id": "b707f3f9",
   "metadata": {},
   "source": [
    "## Agenda\n",
    "\n",
    "- Model Data Preparation\n",
    "- Recommendation models\n",
    "    - Popularity Model (Baseline)\n",
    "    - Content-based Filtering\n",
    "    - Collaborative Filtering\n",
    "    - Hybrid Model\n",
    "- NLP Model\n",
    "    - Tag filtering system\n",
    "    - Extractive summarization\n",
    "- Summay & Future plans"
   ]
  },
  {
   "cell_type": "markdown",
   "id": "f020cbc2",
   "metadata": {},
   "source": [
    "## Part 1) &nbsp; Model data preparation"
   ]
  },
  {
   "cell_type": "code",
   "execution_count": 1,
   "id": "9ae79a1e",
   "metadata": {},
   "outputs": [],
   "source": [
    "import pandas as pd\n",
    "import numpy as np\n",
    "\n",
    "df_original = pd.read_csv('./Datasets/Book_info_original.csv')"
   ]
  },
  {
   "cell_type": "markdown",
   "id": "8e81ab88",
   "metadata": {},
   "source": [
    "### 1.1 &nbsp; Data Revise\n",
    "\n",
    "#### In previous exploratory data analysis, we observed some potential flaws in original datasets:"
   ]
  },
  {
   "cell_type": "markdown",
   "id": "1183c430",
   "metadata": {},
   "source": [
    "#### 1.1 &nbsp; Insufficient *manga* books\n",
    "\n",
    "- Books under genre ***manga*** seems being especially insufficient in data (only 20 books) compared to other genres (100\\~300 books)"
   ]
  },
  {
   "cell_type": "code",
   "execution_count": 10,
   "id": "a85b0408",
   "metadata": {
    "scrolled": true
   },
   "outputs": [
    {
     "data": {
      "text/plain": [
       "20"
      ]
     },
     "execution_count": 10,
     "metadata": {},
     "output_type": "execute_result"
    }
   ],
   "source": [
    "len(df_original[df_original['Genre'] == 'manga'])"
   ]
  },
  {
   "cell_type": "markdown",
   "id": "3f9bf36f",
   "metadata": {},
   "source": [
    "#### 1.2 &nbsp; Hidden duplicated books\n",
    "\n",
    "- Interestingly, some books are implicitly duplicated in original data: they only differ in `Genre` but all these records refer to a same book;\n",
    "- The resaon is that in our previous web scraping, for simplicity we keep the pre-defined 40 genres as the main `Genre` attribute for each book, but sometimes a single book will be listed under many different genres, resulting in *'duplicated'* records.\n",
    "    - E.g. See the following *Harry Potter and the Chamber of Secrests*, it actually was listed under fantasy, fiction, children, etc\n",
    "<br></br>\n",
    "- However, these implicit duplicates are not detected by codes directly using ***.duplicated()***"
   ]
  },
  {
   "cell_type": "code",
   "execution_count": 12,
   "id": "dd7d8c04",
   "metadata": {},
   "outputs": [
    {
     "data": {
      "text/plain": [
       "0"
      ]
     },
     "execution_count": 12,
     "metadata": {},
     "output_type": "execute_result"
    }
   ],
   "source": [
    "# if directly using .duplicated() to detect duplicates\n",
    "df_original.duplicated().sum()"
   ]
  },
  {
   "cell_type": "code",
   "execution_count": 15,
   "id": "23a1f6e5",
   "metadata": {},
   "outputs": [
    {
     "data": {
      "text/html": [
       "<div>\n",
       "<style scoped>\n",
       "    .dataframe tbody tr th:only-of-type {\n",
       "        vertical-align: middle;\n",
       "    }\n",
       "\n",
       "    .dataframe tbody tr th {\n",
       "        vertical-align: top;\n",
       "    }\n",
       "\n",
       "    .dataframe thead th {\n",
       "        text-align: right;\n",
       "    }\n",
       "</style>\n",
       "<table border=\"1\" class=\"dataframe\">\n",
       "  <thead>\n",
       "    <tr style=\"text-align: right;\">\n",
       "      <th></th>\n",
       "      <th>Uid</th>\n",
       "      <th>Title</th>\n",
       "      <th>Author</th>\n",
       "      <th>Genre</th>\n",
       "      <th>Sub_Genres</th>\n",
       "      <th>Rating</th>\n",
       "      <th>Publish_Date</th>\n",
       "      <th>Page_Num</th>\n",
       "      <th>Award</th>\n",
       "      <th>Description</th>\n",
       "      <th>Author_Desc</th>\n",
       "      <th>Book_Authored</th>\n",
       "      <th>Follower_Num</th>\n",
       "      <th>Review_Num</th>\n",
       "      <th>Rating_Num</th>\n",
       "      <th>Rating_Dist</th>\n",
       "    </tr>\n",
       "  </thead>\n",
       "  <tbody>\n",
       "    <tr>\n",
       "      <th>974</th>\n",
       "      <td>15881</td>\n",
       "      <td>Harry Potter and the Chamber of Secrets</td>\n",
       "      <td>J.K. Rowling</td>\n",
       "      <td>children-s</td>\n",
       "      <td>['Fiction', 'Young Adult', 'Magic', 'Childrens...</td>\n",
       "      <td>4.43</td>\n",
       "      <td>July 2, 1998</td>\n",
       "      <td>341</td>\n",
       "      <td>['Mythopoeic Fantasy Award', 'British Book Awa...</td>\n",
       "      <td>Ever since Harry Potter had come home for the ...</td>\n",
       "      <td>See also: Robert GalbraithAlthough she writes ...</td>\n",
       "      <td>402</td>\n",
       "      <td>221k</td>\n",
       "      <td>69407</td>\n",
       "      <td>3521877</td>\n",
       "      <td>['2089806 (59%)', '962935 (27%)', '382971 (10%...</td>\n",
       "    </tr>\n",
       "    <tr>\n",
       "      <th>2509</th>\n",
       "      <td>15881</td>\n",
       "      <td>Harry Potter and the Chamber of Secrets</td>\n",
       "      <td>J.K. Rowling</td>\n",
       "      <td>ebooks</td>\n",
       "      <td>['Fiction', 'Young Adult', 'Magic', 'Childrens...</td>\n",
       "      <td>4.43</td>\n",
       "      <td>July 2, 1998</td>\n",
       "      <td>341</td>\n",
       "      <td>['Mythopoeic Fantasy Award', 'British Book Awa...</td>\n",
       "      <td>Ever since Harry Potter had come home for the ...</td>\n",
       "      <td>See also: Robert GalbraithAlthough she writes ...</td>\n",
       "      <td>403</td>\n",
       "      <td>221k</td>\n",
       "      <td>69413</td>\n",
       "      <td>3522124</td>\n",
       "      <td>['2089955 (59%)', '963001 (27%)', '382992 (10%...</td>\n",
       "    </tr>\n",
       "    <tr>\n",
       "      <th>2671</th>\n",
       "      <td>15881</td>\n",
       "      <td>Harry Potter and the Chamber of Secrets</td>\n",
       "      <td>J.K. Rowling</td>\n",
       "      <td>fantasy</td>\n",
       "      <td>['Fiction', 'Young Adult', 'Magic', 'Childrens...</td>\n",
       "      <td>4.43</td>\n",
       "      <td>July 2, 1998</td>\n",
       "      <td>341</td>\n",
       "      <td>['Mythopoeic Fantasy Award', 'British Book Awa...</td>\n",
       "      <td>Ever since Harry Potter had come home for the ...</td>\n",
       "      <td>See also: Robert GalbraithAlthough she writes ...</td>\n",
       "      <td>403</td>\n",
       "      <td>221k</td>\n",
       "      <td>69415</td>\n",
       "      <td>3522180</td>\n",
       "      <td>['2089984 (59%)', '963023 (27%)', '382996 (10%...</td>\n",
       "    </tr>\n",
       "    <tr>\n",
       "      <th>2869</th>\n",
       "      <td>15881</td>\n",
       "      <td>Harry Potter and the Chamber of Secrets</td>\n",
       "      <td>J.K. Rowling</td>\n",
       "      <td>fiction</td>\n",
       "      <td>['Fiction', 'Young Adult', 'Magic', 'Childrens...</td>\n",
       "      <td>4.43</td>\n",
       "      <td>July 2, 1998</td>\n",
       "      <td>341</td>\n",
       "      <td>['Mythopoeic Fantasy Award', 'British Book Awa...</td>\n",
       "      <td>Ever since Harry Potter had come home for the ...</td>\n",
       "      <td>See also: Robert GalbraithAlthough she writes ...</td>\n",
       "      <td>403</td>\n",
       "      <td>221k</td>\n",
       "      <td>69415</td>\n",
       "      <td>3522180</td>\n",
       "      <td>['2089984 (59%)', '963023 (27%)', '382996 (10%...</td>\n",
       "    </tr>\n",
       "  </tbody>\n",
       "</table>\n",
       "</div>"
      ],
      "text/plain": [
       "        Uid                                    Title        Author  \\\n",
       "974   15881  Harry Potter and the Chamber of Secrets  J.K. Rowling   \n",
       "2509  15881  Harry Potter and the Chamber of Secrets  J.K. Rowling   \n",
       "2671  15881  Harry Potter and the Chamber of Secrets  J.K. Rowling   \n",
       "2869  15881  Harry Potter and the Chamber of Secrets  J.K. Rowling   \n",
       "\n",
       "           Genre                                         Sub_Genres  Rating  \\\n",
       "974   children-s  ['Fiction', 'Young Adult', 'Magic', 'Childrens...    4.43   \n",
       "2509      ebooks  ['Fiction', 'Young Adult', 'Magic', 'Childrens...    4.43   \n",
       "2671     fantasy  ['Fiction', 'Young Adult', 'Magic', 'Childrens...    4.43   \n",
       "2869     fiction  ['Fiction', 'Young Adult', 'Magic', 'Childrens...    4.43   \n",
       "\n",
       "      Publish_Date  Page_Num  \\\n",
       "974   July 2, 1998       341   \n",
       "2509  July 2, 1998       341   \n",
       "2671  July 2, 1998       341   \n",
       "2869  July 2, 1998       341   \n",
       "\n",
       "                                                  Award  \\\n",
       "974   ['Mythopoeic Fantasy Award', 'British Book Awa...   \n",
       "2509  ['Mythopoeic Fantasy Award', 'British Book Awa...   \n",
       "2671  ['Mythopoeic Fantasy Award', 'British Book Awa...   \n",
       "2869  ['Mythopoeic Fantasy Award', 'British Book Awa...   \n",
       "\n",
       "                                            Description  \\\n",
       "974   Ever since Harry Potter had come home for the ...   \n",
       "2509  Ever since Harry Potter had come home for the ...   \n",
       "2671  Ever since Harry Potter had come home for the ...   \n",
       "2869  Ever since Harry Potter had come home for the ...   \n",
       "\n",
       "                                            Author_Desc Book_Authored  \\\n",
       "974   See also: Robert GalbraithAlthough she writes ...           402   \n",
       "2509  See also: Robert GalbraithAlthough she writes ...           403   \n",
       "2671  See also: Robert GalbraithAlthough she writes ...           403   \n",
       "2869  See also: Robert GalbraithAlthough she writes ...           403   \n",
       "\n",
       "     Follower_Num  Review_Num  Rating_Num  \\\n",
       "974          221k       69407     3521877   \n",
       "2509         221k       69413     3522124   \n",
       "2671         221k       69415     3522180   \n",
       "2869         221k       69415     3522180   \n",
       "\n",
       "                                            Rating_Dist  \n",
       "974   ['2089806 (59%)', '962935 (27%)', '382971 (10%...  \n",
       "2509  ['2089955 (59%)', '963001 (27%)', '382992 (10%...  \n",
       "2671  ['2089984 (59%)', '963023 (27%)', '382996 (10%...  \n",
       "2869  ['2089984 (59%)', '963023 (27%)', '382996 (10%...  "
      ]
     },
     "execution_count": 15,
     "metadata": {},
     "output_type": "execute_result"
    }
   ],
   "source": [
    "df_original[df_original['Uid'] == 15881].head(4)"
   ]
  },
  {
   "cell_type": "markdown",
   "id": "dcc61366",
   "metadata": {},
   "source": [
    "Subsequently this observatin gives a rise to other fundamental problems: \n",
    "- 1) ***Which of these duplicated records should we keep?*** (i.e. Which genre you think these books should be?)\n",
    "    - It is hard to answer because a book's content might interact with many different genres and randomly keeping one record is unreasonable;\n",
    "    - So we decided to obtain each book's genre list by re-scrape it under book's information page, rather than genre classification given by website\n",
    "<br></br>\n",
    "- 2) If we drop the duplicates, the number of unique books are greatly reduced (8032 --> 5545)"
   ]
  },
  {
   "cell_type": "code",
   "execution_count": 116,
   "id": "82ec4d9c",
   "metadata": {},
   "outputs": [
    {
     "name": "stdout",
     "output_type": "stream",
     "text": [
      "The original total book number is:  8032\n",
      "The unique book number is:  5545\n"
     ]
    }
   ],
   "source": [
    "print(\"The original total book number is: \", len(df_original))\n",
    "print(\"The unique book number is: \", len(df_original.drop_duplicates(subset=['Uid', 'Title'])))"
   ]
  },
  {
   "cell_type": "markdown",
   "id": "fe53ecee",
   "metadata": {},
   "source": [
    "#### 1.3 &nbsp; Biased reviews\n",
    "\n",
    "- Review dataset might be biased: more positive reviews than negative ones (feedback from Module 1)\n",
    "- Currently  # **Negative** review (Rating: 1\\~3) : # **Positive** review (Rating: 4\\~5) = **1 : 4** (roughly), unbalanced"
   ]
  },
  {
   "cell_type": "markdown",
   "id": "cb7335bf",
   "metadata": {},
   "source": [
    "#### To solve the above problems, we decide to re-scrape additional book data, which is in nature the best and straightforward solution\n",
    "\n",
    "The revised dataset has the following improvements targeting previous probems:\n",
    "- More *manga* books: 20 --> 140\n",
    "- Re-scrape the book genre list: see detailed code in `Uid_Genre.py`\n",
    "- Re-scrape more unique books, 5545 --> 7846 (`Genre_Book_Add.py`)\n",
    "- Correspondingly more book reviews: 80461 --> 115033 and we purposely select more negative reviews to make dataset more balanced\n",
    "    -  \\# **Negative** review (Rating: 1\\~3) : \\# **Positive** review (Rating: 4~5) = **1 : 2** (more balanced compared to before)\n",
    "\n",
    "For data combination, cleansing and some pre-processing steps, since they are lengthy and not close to this module's topic, you can see detailed codes in [Data_Revise_Cleansing.ipynb](./Data_Revise_Cleansing.ipynb) if you like. We will directly use the further cleaned datasets in following sections:\n",
    "- **Book_info_cleaned.csv**\n",
    "- **Book_reviews_cleaned.csv**\n",
    "- **Book_stats** (folder for all book statistics, since 1 book has 4 x 170 entries, we keep them separately)"
   ]
  },
  {
   "cell_type": "markdown",
   "id": "8e3a1c1e",
   "metadata": {},
   "source": [
    "### 1.2 &nbsp; Datasets modification for model use"
   ]
  },
  {
   "cell_type": "markdown",
   "id": "0361b024",
   "metadata": {},
   "source": [
    "### 1.2.1 &nbsp; Book information dataset: `df_info` dataframe"
   ]
  },
  {
   "cell_type": "code",
   "execution_count": 16,
   "id": "3f683873",
   "metadata": {},
   "outputs": [],
   "source": [
    "df_info = pd.read_csv('./Datasets/Basic_datasets/Book_info_cleaned.csv')"
   ]
  },
  {
   "cell_type": "code",
   "execution_count": 17,
   "id": "c7b654f5",
   "metadata": {},
   "outputs": [
    {
     "name": "stdout",
     "output_type": "stream",
     "text": [
      "<class 'pandas.core.frame.DataFrame'>\n",
      "RangeIndex: 7776 entries, 0 to 7775\n",
      "Data columns (total 19 columns):\n",
      " #   Column         Non-Null Count  Dtype  \n",
      "---  ------         --------------  -----  \n",
      " 0   Uid            7776 non-null   int64  \n",
      " 1   Title          7776 non-null   object \n",
      " 2   Genres         7776 non-null   object \n",
      " 3   Author         7776 non-null   object \n",
      " 4   Rating         7776 non-null   float64\n",
      " 5   Publish_Date   7776 non-null   object \n",
      " 6   Page_Num       7776 non-null   int64  \n",
      " 7   Award          7776 non-null   object \n",
      " 8   Description    7761 non-null   object \n",
      " 9   Author_Desc    7116 non-null   object \n",
      " 10  Book_Authored  7776 non-null   int64  \n",
      " 11  Follower_Num   7776 non-null   int64  \n",
      " 12  Review_Num     7776 non-null   int64  \n",
      " 13  Rating_Num     7776 non-null   int64  \n",
      " 14  Five_Star      7776 non-null   int64  \n",
      " 15  Four_Star      7776 non-null   int64  \n",
      " 16  Three_Star     7776 non-null   int64  \n",
      " 17  Two_Star       7776 non-null   int64  \n",
      " 18  One_Star       7776 non-null   int64  \n",
      "dtypes: float64(1), int64(11), object(7)\n",
      "memory usage: 1.1+ MB\n"
     ]
    }
   ],
   "source": [
    "df_info.info()"
   ]
  },
  {
   "cell_type": "markdown",
   "id": "ca049967",
   "metadata": {},
   "source": [
    "#### Turn rating distribution into percentage\n",
    "\n",
    "- Since different books have different volume of ratings number, it is more reasonable to look at the percentage of each rating category rather than the real rating number. So we first compute the rating percentages as follows:"
   ]
  },
  {
   "cell_type": "code",
   "execution_count": 18,
   "id": "6cde4eb1",
   "metadata": {},
   "outputs": [],
   "source": [
    "df_info['Five_star_percent'] =  df_info['Five_Star'] / df_info['Rating_Num']\n",
    "df_info['Four_star_percent'] =  df_info['Four_Star'] / df_info['Rating_Num']\n",
    "df_info['Three_star_percent'] =  df_info['Three_Star'] / df_info['Rating_Num']\n",
    "df_info['Two_star_percent'] =  df_info['Two_Star'] / df_info['Rating_Num']\n",
    "df_info['One_star_percent'] =  df_info['One_Star'] / df_info['Rating_Num']"
   ]
  },
  {
   "cell_type": "code",
   "execution_count": 110,
   "id": "cafabeff",
   "metadata": {},
   "outputs": [],
   "source": [
    "df_info = df_info.drop(['Five_Star', 'Four_Star', 'Three_Star', 'Two_Star', 'One_Star'], axis=1)"
   ]
  },
  {
   "cell_type": "markdown",
   "id": "ffda7c3e",
   "metadata": {
    "id": "ffda7c3e"
   },
   "source": [
    "#### Data pre-processing before using `df_info` dataframe\n",
    "\n",
    "- Because the list-type data are stored as *strings*, we need to turn them back to the correct data type."
   ]
  },
  {
   "cell_type": "code",
   "execution_count": 20,
   "id": "c3c24a4d",
   "metadata": {},
   "outputs": [],
   "source": [
    "from ast import literal_eval\n",
    "\n",
    "df_info['Genres'] = df_info['Genres'].apply(lambda x: literal_eval(x) if \"[\" in x else x)\n",
    "df_info['Award'] = df_info['Award'].apply(lambda x: literal_eval(x) if \"[\" in x else x)"
   ]
  },
  {
   "cell_type": "markdown",
   "id": "938688a3",
   "metadata": {},
   "source": [
    "#### Award - Ordinal Encoding\n",
    "- We use the number of awards the book has obtained to represent the 'Award' attribute\n",
    "- https://analyticsindiamag.com/a-complete-guide-to-categorical-data-encoding/"
   ]
  },
  {
   "cell_type": "code",
   "execution_count": 21,
   "id": "c3e3b4de",
   "metadata": {},
   "outputs": [],
   "source": [
    "Award_Num = df_info['Award'].apply(lambda x: 0 if x == ['no'] else len(x))\n",
    "df_info['Award_Num'] = Award_Num"
   ]
  },
  {
   "cell_type": "markdown",
   "id": "493086ba",
   "metadata": {},
   "source": [
    "#### We look at the book ratings' distribution"
   ]
  },
  {
   "cell_type": "code",
   "execution_count": 48,
   "id": "fefe7bf8",
   "metadata": {},
   "outputs": [
    {
     "name": "stdout",
     "output_type": "stream",
     "text": [
      "The number of low rating books (Rating <= 4.0):  2992\n",
      "The number of high rating books (Rating > 4.0):  4784\n"
     ]
    }
   ],
   "source": [
    "print(\"The number of low rating books (Rating <= 4.0): \", len(df_info[df_info['Rating'] < 4.0]))\n",
    "print(\"The number of high rating books (Rating > 4.0): \", len(df_info[df_info['Rating'] >= 4.0]))"
   ]
  },
  {
   "cell_type": "markdown",
   "id": "28b3bd04",
   "metadata": {},
   "source": [
    "#### Book Statistics\n",
    "\n",
    "The book statistics data reflects the ***changes*** (compared to previous day) in the following attributes over past 6 months:\n",
    "- **date**: The date for these statistics\n",
    "- **added**: changes of times this book has been added to users' bookshelves from previous day\n",
    "- **ratings**: changes of times this book has been rated by users from previous day\n",
    "- **reveiws**: changes of times this book is left reviews by users from previous day\n",
    "- **to-read**: changes of times this book has been marked as 'to-read' by users\n",
    "\n",
    "(*Note: the first row in file is the sum of these statistics until the day we scraped the data*)\n",
    "\n",
    "We want to combine book statistics into its information dataframe `df_info`, however, each book only has one entry in information dataframe, while it has 4 x 170 records for its statistics. Directly combining them will make the dimensionality messy and hard to interpret, so we decide to use their statistical indicators for better measurement:\n",
    "- **Median**: measures the central tendency of data distribution \n",
    "- **IQR** (Interquatile Range): measures the dispersion level of data distributiion (*more robust to scale problem compared to variance*)\n",
    "    - https://en.wikipedia.org/wiki/Robust_measures_of_scale"
   ]
  },
  {
   "cell_type": "code",
   "execution_count": 36,
   "id": "1bb5f15c",
   "metadata": {},
   "outputs": [],
   "source": [
    "import os\n",
    "\n",
    "path = './Partial_datasets/Book_stats/'\n",
    "filenames = os.listdir(path)"
   ]
  },
  {
   "cell_type": "code",
   "execution_count": 60,
   "id": "fdc93780",
   "metadata": {},
   "outputs": [
    {
     "name": "stdout",
     "output_type": "stream",
     "text": [
      "<class 'pandas.core.frame.DataFrame'>\n",
      "RangeIndex: 172 entries, 0 to 171\n",
      "Data columns (total 5 columns):\n",
      " #   Column   Non-Null Count  Dtype \n",
      "---  ------   --------------  ----- \n",
      " 0   date     172 non-null    object\n",
      " 1   added    172 non-null    int64 \n",
      " 2   ratings  172 non-null    int64 \n",
      " 3   reviews  172 non-null    int64 \n",
      " 4   to-read  172 non-null    int64 \n",
      "dtypes: int64(4), object(1)\n",
      "memory usage: 6.8+ KB\n"
     ]
    }
   ],
   "source": [
    "df_demo = pd.read_csv(path + filenames[0])\n",
    "df_demo.info()"
   ]
  },
  {
   "cell_type": "markdown",
   "id": "964ff96d",
   "metadata": {},
   "source": [
    "#### Combine book statistics and compute statistical indicators simultaneously"
   ]
  },
  {
   "cell_type": "code",
   "execution_count": 38,
   "id": "58316c82",
   "metadata": {},
   "outputs": [],
   "source": [
    "df_info_stats = pd.DataFrame()\n",
    "\n",
    "for file in filenames:\n",
    "    uid = int(file.split('_stats')[0])\n",
    "    stats_df = pd.read_csv(path + file)\n",
    "    \n",
    "    # the first line is the sum of all following statistics, so separately processing it\n",
    "    data = stats_df.iloc[0, [1, 4]].astype('int64').values\n",
    "    data_df = pd.DataFrame(data = [uid] + list(data), index = ['Uid', 'AddedShelf', 'ToRead'])\n",
    "    \n",
    "    # compute median & IQR\n",
    "    stats = stats_df.iloc[1:, 1:]\n",
    "    IQR_df = (stats.quantile(q=0.75) - stats.quantile(q=0.25)).add_suffix('_IQR')\n",
    "    median_df = stats.median().add_suffix('_median')\n",
    "    \n",
    "    stats_combine = pd.concat([data_df, median_df, IQR_df]).T\n",
    "    df_info_stats = pd.concat([df_info_stats, stats_combine], ignore_index=True)"
   ]
  },
  {
   "cell_type": "code",
   "execution_count": 39,
   "id": "5e9fd586",
   "metadata": {},
   "outputs": [
    {
     "data": {
      "text/html": [
       "<div>\n",
       "<style scoped>\n",
       "    .dataframe tbody tr th:only-of-type {\n",
       "        vertical-align: middle;\n",
       "    }\n",
       "\n",
       "    .dataframe tbody tr th {\n",
       "        vertical-align: top;\n",
       "    }\n",
       "\n",
       "    .dataframe thead th {\n",
       "        text-align: right;\n",
       "    }\n",
       "</style>\n",
       "<table border=\"1\" class=\"dataframe\">\n",
       "  <thead>\n",
       "    <tr style=\"text-align: right;\">\n",
       "      <th></th>\n",
       "      <th>Uid</th>\n",
       "      <th>AddedShelf</th>\n",
       "      <th>ToRead</th>\n",
       "      <th>added_median</th>\n",
       "      <th>ratings_median</th>\n",
       "      <th>reviews_median</th>\n",
       "      <th>to-read_median</th>\n",
       "      <th>added_IQR</th>\n",
       "      <th>ratings_IQR</th>\n",
       "      <th>reviews_IQR</th>\n",
       "      <th>to-read_IQR</th>\n",
       "    </tr>\n",
       "  </thead>\n",
       "  <tbody>\n",
       "    <tr>\n",
       "      <th>0</th>\n",
       "      <td>100021</td>\n",
       "      <td>13107</td>\n",
       "      <td>6471</td>\n",
       "      <td>7.0</td>\n",
       "      <td>2.0</td>\n",
       "      <td>0.0</td>\n",
       "      <td>4.0</td>\n",
       "      <td>3.00</td>\n",
       "      <td>2.00</td>\n",
       "      <td>0.0</td>\n",
       "      <td>2.5</td>\n",
       "    </tr>\n",
       "    <tr>\n",
       "      <th>1</th>\n",
       "      <td>10006486</td>\n",
       "      <td>2627</td>\n",
       "      <td>1703</td>\n",
       "      <td>1.0</td>\n",
       "      <td>0.0</td>\n",
       "      <td>0.0</td>\n",
       "      <td>1.0</td>\n",
       "      <td>1.00</td>\n",
       "      <td>0.00</td>\n",
       "      <td>0.0</td>\n",
       "      <td>2.0</td>\n",
       "    </tr>\n",
       "    <tr>\n",
       "      <th>2</th>\n",
       "      <td>1000751</td>\n",
       "      <td>124063</td>\n",
       "      <td>26433</td>\n",
       "      <td>24.0</td>\n",
       "      <td>7.0</td>\n",
       "      <td>1.0</td>\n",
       "      <td>7.0</td>\n",
       "      <td>8.00</td>\n",
       "      <td>7.00</td>\n",
       "      <td>1.0</td>\n",
       "      <td>4.0</td>\n",
       "    </tr>\n",
       "    <tr>\n",
       "      <th>3</th>\n",
       "      <td>10008056</td>\n",
       "      <td>36918</td>\n",
       "      <td>6637</td>\n",
       "      <td>12.0</td>\n",
       "      <td>4.0</td>\n",
       "      <td>0.0</td>\n",
       "      <td>2.0</td>\n",
       "      <td>6.00</td>\n",
       "      <td>4.75</td>\n",
       "      <td>0.0</td>\n",
       "      <td>2.0</td>\n",
       "    </tr>\n",
       "    <tr>\n",
       "      <th>4</th>\n",
       "      <td>10009377</td>\n",
       "      <td>27195</td>\n",
       "      <td>11902</td>\n",
       "      <td>22.0</td>\n",
       "      <td>6.0</td>\n",
       "      <td>0.0</td>\n",
       "      <td>9.0</td>\n",
       "      <td>17.75</td>\n",
       "      <td>5.00</td>\n",
       "      <td>1.0</td>\n",
       "      <td>8.0</td>\n",
       "    </tr>\n",
       "    <tr>\n",
       "      <th>...</th>\n",
       "      <td>...</td>\n",
       "      <td>...</td>\n",
       "      <td>...</td>\n",
       "      <td>...</td>\n",
       "      <td>...</td>\n",
       "      <td>...</td>\n",
       "      <td>...</td>\n",
       "      <td>...</td>\n",
       "      <td>...</td>\n",
       "      <td>...</td>\n",
       "      <td>...</td>\n",
       "    </tr>\n",
       "    <tr>\n",
       "      <th>7771</th>\n",
       "      <td>99713</td>\n",
       "      <td>22569</td>\n",
       "      <td>8889</td>\n",
       "      <td>3.0</td>\n",
       "      <td>1.0</td>\n",
       "      <td>0.0</td>\n",
       "      <td>2.0</td>\n",
       "      <td>3.00</td>\n",
       "      <td>1.00</td>\n",
       "      <td>0.0</td>\n",
       "      <td>2.0</td>\n",
       "    </tr>\n",
       "    <tr>\n",
       "      <th>7772</th>\n",
       "      <td>998</td>\n",
       "      <td>244540</td>\n",
       "      <td>121383</td>\n",
       "      <td>101.0</td>\n",
       "      <td>28.0</td>\n",
       "      <td>1.0</td>\n",
       "      <td>59.0</td>\n",
       "      <td>39.00</td>\n",
       "      <td>12.00</td>\n",
       "      <td>2.0</td>\n",
       "      <td>23.5</td>\n",
       "    </tr>\n",
       "    <tr>\n",
       "      <th>7773</th>\n",
       "      <td>99944</td>\n",
       "      <td>192255</td>\n",
       "      <td>98182</td>\n",
       "      <td>58.0</td>\n",
       "      <td>10.0</td>\n",
       "      <td>1.0</td>\n",
       "      <td>35.0</td>\n",
       "      <td>18.00</td>\n",
       "      <td>7.00</td>\n",
       "      <td>1.0</td>\n",
       "      <td>12.0</td>\n",
       "    </tr>\n",
       "    <tr>\n",
       "      <th>7774</th>\n",
       "      <td>99955</td>\n",
       "      <td>35739</td>\n",
       "      <td>18080</td>\n",
       "      <td>5.0</td>\n",
       "      <td>1.0</td>\n",
       "      <td>0.0</td>\n",
       "      <td>3.0</td>\n",
       "      <td>2.50</td>\n",
       "      <td>1.00</td>\n",
       "      <td>0.0</td>\n",
       "      <td>3.0</td>\n",
       "    </tr>\n",
       "    <tr>\n",
       "      <th>7775</th>\n",
       "      <td>9999107</td>\n",
       "      <td>85198</td>\n",
       "      <td>32656</td>\n",
       "      <td>19.0</td>\n",
       "      <td>5.0</td>\n",
       "      <td>0.0</td>\n",
       "      <td>7.0</td>\n",
       "      <td>7.75</td>\n",
       "      <td>5.00</td>\n",
       "      <td>1.0</td>\n",
       "      <td>4.0</td>\n",
       "    </tr>\n",
       "  </tbody>\n",
       "</table>\n",
       "<p>7776 rows × 11 columns</p>\n",
       "</div>"
      ],
      "text/plain": [
       "           Uid  AddedShelf  ToRead  added_median  ratings_median  \\\n",
       "0       100021       13107    6471           7.0             2.0   \n",
       "1     10006486        2627    1703           1.0             0.0   \n",
       "2      1000751      124063   26433          24.0             7.0   \n",
       "3     10008056       36918    6637          12.0             4.0   \n",
       "4     10009377       27195   11902          22.0             6.0   \n",
       "...        ...         ...     ...           ...             ...   \n",
       "7771     99713       22569    8889           3.0             1.0   \n",
       "7772       998      244540  121383         101.0            28.0   \n",
       "7773     99944      192255   98182          58.0            10.0   \n",
       "7774     99955       35739   18080           5.0             1.0   \n",
       "7775   9999107       85198   32656          19.0             5.0   \n",
       "\n",
       "      reviews_median  to-read_median  added_IQR  ratings_IQR  reviews_IQR  \\\n",
       "0                0.0             4.0       3.00         2.00          0.0   \n",
       "1                0.0             1.0       1.00         0.00          0.0   \n",
       "2                1.0             7.0       8.00         7.00          1.0   \n",
       "3                0.0             2.0       6.00         4.75          0.0   \n",
       "4                0.0             9.0      17.75         5.00          1.0   \n",
       "...              ...             ...        ...          ...          ...   \n",
       "7771             0.0             2.0       3.00         1.00          0.0   \n",
       "7772             1.0            59.0      39.00        12.00          2.0   \n",
       "7773             1.0            35.0      18.00         7.00          1.0   \n",
       "7774             0.0             3.0       2.50         1.00          0.0   \n",
       "7775             0.0             7.0       7.75         5.00          1.0   \n",
       "\n",
       "      to-read_IQR  \n",
       "0             2.5  \n",
       "1             2.0  \n",
       "2             4.0  \n",
       "3             2.0  \n",
       "4             8.0  \n",
       "...           ...  \n",
       "7771          2.0  \n",
       "7772         23.5  \n",
       "7773         12.0  \n",
       "7774          3.0  \n",
       "7775          4.0  \n",
       "\n",
       "[7776 rows x 11 columns]"
      ]
     },
     "execution_count": 39,
     "metadata": {},
     "output_type": "execute_result"
    }
   ],
   "source": [
    "df_info_stats[['Uid', 'AddedShelf', 'ToRead']] = df_info_stats[['Uid', 'AddedShelf', 'ToRead']].astype('int64')\n",
    "df_info_stats"
   ]
  },
  {
   "cell_type": "markdown",
   "id": "aa69bea2",
   "metadata": {},
   "source": [
    "#### Combine statistics data with origianl `df_info` dataframe"
   ]
  },
  {
   "cell_type": "code",
   "execution_count": 41,
   "id": "5017ea9b",
   "metadata": {},
   "outputs": [],
   "source": [
    "df_info = df_info.merge(df_info_stats, on='Uid')"
   ]
  },
  {
   "cell_type": "code",
   "execution_count": 42,
   "id": "edfbf863",
   "metadata": {},
   "outputs": [],
   "source": [
    "# Store as csv for further use\n",
    "df_info.to_csv('./Datasets/Basic_datasets/Book_info_model.csv', index=False)"
   ]
  },
  {
   "cell_type": "markdown",
   "id": "81d54f4b",
   "metadata": {},
   "source": [
    "### 1.2.2 &nbsp; Book reviews dataset: `df_reviews` dataframe"
   ]
  },
  {
   "cell_type": "code",
   "execution_count": 117,
   "id": "ee7f8277",
   "metadata": {},
   "outputs": [
    {
     "name": "stdout",
     "output_type": "stream",
     "text": [
      "<class 'pandas.core.frame.DataFrame'>\n",
      "RangeIndex: 114034 entries, 0 to 114033\n",
      "Data columns (total 10 columns):\n",
      " #   Column         Non-Null Count   Dtype \n",
      "---  ------         --------------   ----- \n",
      " 0   Uid            114034 non-null  int64 \n",
      " 1   Title          114034 non-null  object\n",
      " 2   Reviewer       114034 non-null  object\n",
      " 3   N_Review       114034 non-null  int64 \n",
      " 4   N_Follower     114034 non-null  int64 \n",
      " 5   Review_Rating  114034 non-null  int64 \n",
      " 6   Review_Date    114034 non-null  object\n",
      " 7   Content        114034 non-null  object\n",
      " 8   N_Likes        114034 non-null  int64 \n",
      " 9   N_Comments     114034 non-null  int64 \n",
      "dtypes: int64(6), object(4)\n",
      "memory usage: 8.7+ MB\n"
     ]
    }
   ],
   "source": [
    "df_reviews = pd.read_csv('./Datasets/Basic_datasets/Book_reviews_cleaned.csv')\n",
    "df_reviews.info()"
   ]
  },
  {
   "cell_type": "markdown",
   "id": "b483f801",
   "metadata": {},
   "source": [
    "#### Generally we keep the same ratio of negative : positive ratings as book information datasets (around 1 : 2) "
   ]
  },
  {
   "cell_type": "code",
   "execution_count": 118,
   "id": "c9153f78",
   "metadata": {},
   "outputs": [
    {
     "name": "stdout",
     "output_type": "stream",
     "text": [
      "The number of negative reviews (Rating: 1~3):  35203\n",
      "The number of positive reviews (Rating: 4~5):  78831\n"
     ]
    }
   ],
   "source": [
    "print(\"The number of negative reviews (Rating: 1~3): \", len(df_reviews[df_reviews['Review_Rating'] < 4]))\n",
    "print(\"The number of positive reviews (Rating: 4~5): \", len(df_reviews[df_reviews['Review_Rating'] >= 4]))"
   ]
  },
  {
   "cell_type": "markdown",
   "id": "61246c89",
   "metadata": {},
   "source": [
    "#### We want to examine our *unique* users for the use in further recommendation models\n",
    "- Here ***unique*** means these users not only share the same name but also the same number of reviews (`Reviewer` + `N_Review`)\n",
    "- Because GoodReads allow users to use the same username to register an account, we would like to use the `N_Review` (# of reviews written to help identification)"
   ]
  },
  {
   "cell_type": "code",
   "execution_count": 119,
   "id": "b97f4bd6",
   "metadata": {},
   "outputs": [
    {
     "data": {
      "text/html": [
       "<div>\n",
       "<style scoped>\n",
       "    .dataframe tbody tr th:only-of-type {\n",
       "        vertical-align: middle;\n",
       "    }\n",
       "\n",
       "    .dataframe tbody tr th {\n",
       "        vertical-align: top;\n",
       "    }\n",
       "\n",
       "    .dataframe thead th {\n",
       "        text-align: right;\n",
       "    }\n",
       "</style>\n",
       "<table border=\"1\" class=\"dataframe\">\n",
       "  <thead>\n",
       "    <tr style=\"text-align: right;\">\n",
       "      <th></th>\n",
       "      <th></th>\n",
       "      <th>Uid</th>\n",
       "      <th>Title</th>\n",
       "      <th>N_Follower</th>\n",
       "      <th>Review_Rating</th>\n",
       "      <th>Review_Date</th>\n",
       "      <th>Content</th>\n",
       "      <th>N_Likes</th>\n",
       "      <th>N_Comments</th>\n",
       "    </tr>\n",
       "    <tr>\n",
       "      <th>Reviewer</th>\n",
       "      <th>N_Review</th>\n",
       "      <th></th>\n",
       "      <th></th>\n",
       "      <th></th>\n",
       "      <th></th>\n",
       "      <th></th>\n",
       "      <th></th>\n",
       "      <th></th>\n",
       "      <th></th>\n",
       "    </tr>\n",
       "  </thead>\n",
       "  <tbody>\n",
       "    <tr>\n",
       "      <th>☘Amanda☘</th>\n",
       "      <th>31</th>\n",
       "      <td>1</td>\n",
       "      <td>1</td>\n",
       "      <td>1</td>\n",
       "      <td>1</td>\n",
       "      <td>1</td>\n",
       "      <td>1</td>\n",
       "      <td>1</td>\n",
       "      <td>1</td>\n",
       "    </tr>\n",
       "    <tr>\n",
       "      <th>Luna</th>\n",
       "      <th>265</th>\n",
       "      <td>4</td>\n",
       "      <td>4</td>\n",
       "      <td>4</td>\n",
       "      <td>4</td>\n",
       "      <td>4</td>\n",
       "      <td>4</td>\n",
       "      <td>4</td>\n",
       "      <td>4</td>\n",
       "    </tr>\n",
       "    <tr>\n",
       "      <th>(shan) Littlebookcove</th>\n",
       "      <th>152</th>\n",
       "      <td>1</td>\n",
       "      <td>1</td>\n",
       "      <td>1</td>\n",
       "      <td>1</td>\n",
       "      <td>1</td>\n",
       "      <td>1</td>\n",
       "      <td>1</td>\n",
       "      <td>1</td>\n",
       "    </tr>\n",
       "    <tr>\n",
       "      <th>- The Polybrary -</th>\n",
       "      <th>313</th>\n",
       "      <td>1</td>\n",
       "      <td>1</td>\n",
       "      <td>1</td>\n",
       "      <td>1</td>\n",
       "      <td>1</td>\n",
       "      <td>1</td>\n",
       "      <td>1</td>\n",
       "      <td>1</td>\n",
       "    </tr>\n",
       "    <tr>\n",
       "      <th>A.</th>\n",
       "      <th>1163</th>\n",
       "      <td>11</td>\n",
       "      <td>11</td>\n",
       "      <td>11</td>\n",
       "      <td>11</td>\n",
       "      <td>11</td>\n",
       "      <td>11</td>\n",
       "      <td>11</td>\n",
       "      <td>11</td>\n",
       "    </tr>\n",
       "    <tr>\n",
       "      <th>...</th>\n",
       "      <th>...</th>\n",
       "      <td>...</td>\n",
       "      <td>...</td>\n",
       "      <td>...</td>\n",
       "      <td>...</td>\n",
       "      <td>...</td>\n",
       "      <td>...</td>\n",
       "      <td>...</td>\n",
       "      <td>...</td>\n",
       "    </tr>\n",
       "    <tr>\n",
       "      <th>검스마</th>\n",
       "      <th>165</th>\n",
       "      <td>1</td>\n",
       "      <td>1</td>\n",
       "      <td>1</td>\n",
       "      <td>1</td>\n",
       "      <td>1</td>\n",
       "      <td>1</td>\n",
       "      <td>1</td>\n",
       "      <td>1</td>\n",
       "    </tr>\n",
       "    <tr>\n",
       "      <th>여리고</th>\n",
       "      <th>71</th>\n",
       "      <td>1</td>\n",
       "      <td>1</td>\n",
       "      <td>1</td>\n",
       "      <td>1</td>\n",
       "      <td>1</td>\n",
       "      <td>1</td>\n",
       "      <td>1</td>\n",
       "      <td>1</td>\n",
       "    </tr>\n",
       "    <tr>\n",
       "      <th>Ｄｒｅｙ</th>\n",
       "      <th>167</th>\n",
       "      <td>6</td>\n",
       "      <td>6</td>\n",
       "      <td>6</td>\n",
       "      <td>6</td>\n",
       "      <td>6</td>\n",
       "      <td>6</td>\n",
       "      <td>6</td>\n",
       "      <td>6</td>\n",
       "    </tr>\n",
       "    <tr>\n",
       "      <th>Ｆｒａｎｋｈ</th>\n",
       "      <th>845</th>\n",
       "      <td>17</td>\n",
       "      <td>17</td>\n",
       "      <td>17</td>\n",
       "      <td>17</td>\n",
       "      <td>17</td>\n",
       "      <td>17</td>\n",
       "      <td>17</td>\n",
       "      <td>17</td>\n",
       "    </tr>\n",
       "    <tr>\n",
       "      <th>ｅｌｌｉｅ</th>\n",
       "      <th>152</th>\n",
       "      <td>1</td>\n",
       "      <td>1</td>\n",
       "      <td>1</td>\n",
       "      <td>1</td>\n",
       "      <td>1</td>\n",
       "      <td>1</td>\n",
       "      <td>1</td>\n",
       "      <td>1</td>\n",
       "    </tr>\n",
       "  </tbody>\n",
       "</table>\n",
       "<p>41271 rows × 8 columns</p>\n",
       "</div>"
      ],
      "text/plain": [
       "                                 Uid  Title  N_Follower  Review_Rating  \\\n",
       "Reviewer               N_Review                                          \n",
       "       ☘Amanda☘        31          1      1           1              1   \n",
       "  Luna                 265         4      4           4              4   \n",
       " (shan) Littlebookcove 152         1      1           1              1   \n",
       " - The Polybrary -     313         1      1           1              1   \n",
       " A.                    1163       11     11          11             11   \n",
       "...                              ...    ...         ...            ...   \n",
       "검스마                    165         1      1           1              1   \n",
       "여리고                    71          1      1           1              1   \n",
       "Ｄｒｅｙ                   167         6      6           6              6   \n",
       "Ｆｒａｎｋｈ                 845        17     17          17             17   \n",
       "ｅｌｌｉｅ                  152         1      1           1              1   \n",
       "\n",
       "                                 Review_Date  Content  N_Likes  N_Comments  \n",
       "Reviewer               N_Review                                             \n",
       "       ☘Amanda☘        31                  1        1        1           1  \n",
       "  Luna                 265                 4        4        4           4  \n",
       " (shan) Littlebookcove 152                 1        1        1           1  \n",
       " - The Polybrary -     313                 1        1        1           1  \n",
       " A.                    1163               11       11       11          11  \n",
       "...                                      ...      ...      ...         ...  \n",
       "검스마                    165                 1        1        1           1  \n",
       "여리고                    71                  1        1        1           1  \n",
       "Ｄｒｅｙ                   167                 6        6        6           6  \n",
       "Ｆｒａｎｋｈ                 845                17       17       17          17  \n",
       "ｅｌｌｉｅ                  152                 1        1        1           1  \n",
       "\n",
       "[41271 rows x 8 columns]"
      ]
     },
     "execution_count": 119,
     "metadata": {},
     "output_type": "execute_result"
    }
   ],
   "source": [
    "df_reviews.groupby(by=['Reviewer', 'N_Review']).count()"
   ]
  },
  {
   "cell_type": "markdown",
   "id": "fd4bb3e9",
   "metadata": {},
   "source": [
    "#### But the above result of unique users is actually inaccurate, please see the following example:\n",
    "- These two users with the same name 'Luna' but different number of reviews are actually the **same** user (we checked on website)\n",
    "- But why we see this situation happens? The reasons are the following:\n",
    "    - 1) GoodReads website has some historical problem about user information updates, i.e. the user might have more reivew numbers than some historical timestamps, but the website did not update these information cascade;\n",
    "    - 2) Our web scraping takes some time, the user's review number might have changed in this time interval, making them *different*.\n",
    "\n",
    "P.S. You might notice that they have different `N_Follower` numbers, that is caused by web scraping error, we will solve it in the following part"
   ]
  },
  {
   "cell_type": "code",
   "execution_count": 121,
   "id": "80d34e7b",
   "metadata": {},
   "outputs": [
    {
     "data": {
      "text/html": [
       "<div>\n",
       "<style scoped>\n",
       "    .dataframe tbody tr th:only-of-type {\n",
       "        vertical-align: middle;\n",
       "    }\n",
       "\n",
       "    .dataframe tbody tr th {\n",
       "        vertical-align: top;\n",
       "    }\n",
       "\n",
       "    .dataframe thead th {\n",
       "        text-align: right;\n",
       "    }\n",
       "</style>\n",
       "<table border=\"1\" class=\"dataframe\">\n",
       "  <thead>\n",
       "    <tr style=\"text-align: right;\">\n",
       "      <th></th>\n",
       "      <th>Uid</th>\n",
       "      <th>Title</th>\n",
       "      <th>Reviewer</th>\n",
       "      <th>N_Review</th>\n",
       "      <th>N_Follower</th>\n",
       "      <th>Review_Rating</th>\n",
       "      <th>Review_Date</th>\n",
       "      <th>Content</th>\n",
       "      <th>N_Likes</th>\n",
       "      <th>N_Comments</th>\n",
       "    </tr>\n",
       "  </thead>\n",
       "  <tbody>\n",
       "    <tr>\n",
       "      <th>36645</th>\n",
       "      <td>47944</td>\n",
       "      <td>Empress of the World</td>\n",
       "      <td>Luna</td>\n",
       "      <td>638</td>\n",
       "      <td>43</td>\n",
       "      <td>4</td>\n",
       "      <td>August 21, 2011</td>\n",
       "      <td>There's not one thing that makes this book goo...</td>\n",
       "      <td>3</td>\n",
       "      <td>2</td>\n",
       "    </tr>\n",
       "    <tr>\n",
       "      <th>110764</th>\n",
       "      <td>112118</td>\n",
       "      <td>This Cold Heaven Seven Seasons in Greenland</td>\n",
       "      <td>Luna</td>\n",
       "      <td>645</td>\n",
       "      <td>4</td>\n",
       "      <td>4</td>\n",
       "      <td>April 6, 2011</td>\n",
       "      <td>Oh, Greenland. Someday I will get there and sa...</td>\n",
       "      <td>5</td>\n",
       "      <td>0</td>\n",
       "    </tr>\n",
       "  </tbody>\n",
       "</table>\n",
       "</div>"
      ],
      "text/plain": [
       "           Uid                                        Title Reviewer  \\\n",
       "36645    47944                         Empress of the World     Luna   \n",
       "110764  112118  This Cold Heaven Seven Seasons in Greenland     Luna   \n",
       "\n",
       "        N_Review  N_Follower  Review_Rating      Review_Date  \\\n",
       "36645        638          43              4  August 21, 2011   \n",
       "110764       645           4              4    April 6, 2011   \n",
       "\n",
       "                                                  Content  N_Likes  N_Comments  \n",
       "36645   There's not one thing that makes this book goo...        3           2  \n",
       "110764  Oh, Greenland. Someday I will get there and sa...        5           0  "
      ]
     },
     "execution_count": 121,
     "metadata": {},
     "output_type": "execute_result"
    }
   ],
   "source": [
    "df_reviews[df_reviews['Reviewer'] == 'Luna']"
   ]
  },
  {
   "cell_type": "markdown",
   "id": "4657fda4",
   "metadata": {},
   "source": [
    "#### First we modify the user names for better matching\n",
    "- Some reviewers actually are the same person, but the empty space inside the names make them *different* in code level:\n",
    "    - e.g. 'Luna' and  ' &nbsp;   Luna'\n",
    "- But we should also consider cases **if these users are actually not the same person, how can we distinguish them?** We will discuss this problem shortly after this. We first just modify the reviewer names for better format.\n",
    "    - Actually the following user with name 'Luna' is an example, the 1st and 5th are the same user, while the other 4 are a different user"
   ]
  },
  {
   "cell_type": "code",
   "execution_count": 128,
   "id": "dc4d85e1",
   "metadata": {},
   "outputs": [
    {
     "name": "stdout",
     "output_type": "stream",
     "text": [
      "(36645, 'Luna')\n",
      "(59944, '  Luna ')\n",
      "(60198, '  Luna ')\n",
      "(60782, '  Luna ')\n",
      "(110764, 'Luna')\n",
      "(110967, '  Luna ')\n"
     ]
    }
   ],
   "source": [
    "for index, row in df_reviews.iloc[[36645, 59944, 60198, 60782, 110764, 110967], 2].iteritems():\n",
    "    print((index, row))"
   ]
  },
  {
   "cell_type": "code",
   "execution_count": 129,
   "id": "cb790e22",
   "metadata": {},
   "outputs": [
    {
     "data": {
      "text/html": [
       "<div>\n",
       "<style scoped>\n",
       "    .dataframe tbody tr th:only-of-type {\n",
       "        vertical-align: middle;\n",
       "    }\n",
       "\n",
       "    .dataframe tbody tr th {\n",
       "        vertical-align: top;\n",
       "    }\n",
       "\n",
       "    .dataframe thead th {\n",
       "        text-align: right;\n",
       "    }\n",
       "</style>\n",
       "<table border=\"1\" class=\"dataframe\">\n",
       "  <thead>\n",
       "    <tr style=\"text-align: right;\">\n",
       "      <th></th>\n",
       "      <th>Uid</th>\n",
       "      <th>Title</th>\n",
       "      <th>Reviewer</th>\n",
       "      <th>N_Review</th>\n",
       "      <th>N_Follower</th>\n",
       "      <th>Review_Rating</th>\n",
       "      <th>Review_Date</th>\n",
       "      <th>Content</th>\n",
       "      <th>N_Likes</th>\n",
       "      <th>N_Comments</th>\n",
       "    </tr>\n",
       "  </thead>\n",
       "  <tbody>\n",
       "    <tr>\n",
       "      <th>36645</th>\n",
       "      <td>47944</td>\n",
       "      <td>Empress of the World</td>\n",
       "      <td>Luna</td>\n",
       "      <td>638</td>\n",
       "      <td>43</td>\n",
       "      <td>4</td>\n",
       "      <td>August 21, 2011</td>\n",
       "      <td>There's not one thing that makes this book goo...</td>\n",
       "      <td>3</td>\n",
       "      <td>2</td>\n",
       "    </tr>\n",
       "    <tr>\n",
       "      <th>59944</th>\n",
       "      <td>203310</td>\n",
       "      <td>Poetry Language Thought</td>\n",
       "      <td>Luna</td>\n",
       "      <td>265</td>\n",
       "      <td>16</td>\n",
       "      <td>4</td>\n",
       "      <td>September 22, 2014</td>\n",
       "      <td>This was a refreshing read. What I really like...</td>\n",
       "      <td>2</td>\n",
       "      <td>0</td>\n",
       "    </tr>\n",
       "    <tr>\n",
       "      <th>60198</th>\n",
       "      <td>232743</td>\n",
       "      <td>The Archaeology of Knowledge and The Discourse...</td>\n",
       "      <td>Luna</td>\n",
       "      <td>265</td>\n",
       "      <td>16</td>\n",
       "      <td>2</td>\n",
       "      <td>November 27, 2016</td>\n",
       "      <td>This is the sort of book that you feel that i...</td>\n",
       "      <td>4</td>\n",
       "      <td>0</td>\n",
       "    </tr>\n",
       "    <tr>\n",
       "      <th>60782</th>\n",
       "      <td>252648</td>\n",
       "      <td>The Postmodern Condition A Report on Knowledge</td>\n",
       "      <td>Luna</td>\n",
       "      <td>265</td>\n",
       "      <td>16</td>\n",
       "      <td>5</td>\n",
       "      <td>February 14, 2016</td>\n",
       "      <td>Postmodernism, What now? After the fall of the...</td>\n",
       "      <td>2</td>\n",
       "      <td>0</td>\n",
       "    </tr>\n",
       "    <tr>\n",
       "      <th>110764</th>\n",
       "      <td>112118</td>\n",
       "      <td>This Cold Heaven Seven Seasons in Greenland</td>\n",
       "      <td>Luna</td>\n",
       "      <td>645</td>\n",
       "      <td>4</td>\n",
       "      <td>4</td>\n",
       "      <td>April 6, 2011</td>\n",
       "      <td>Oh, Greenland. Someday I will get there and sa...</td>\n",
       "      <td>5</td>\n",
       "      <td>0</td>\n",
       "    </tr>\n",
       "    <tr>\n",
       "      <th>110967</th>\n",
       "      <td>1171160</td>\n",
       "      <td>Three Dialogues Between Hylas and Philonous</td>\n",
       "      <td>Luna</td>\n",
       "      <td>265</td>\n",
       "      <td>1</td>\n",
       "      <td>5</td>\n",
       "      <td>September 16, 2021</td>\n",
       "      <td>Basically the material world does not exist pe...</td>\n",
       "      <td>1</td>\n",
       "      <td>0</td>\n",
       "    </tr>\n",
       "  </tbody>\n",
       "</table>\n",
       "</div>"
      ],
      "text/plain": [
       "            Uid                                              Title Reviewer  \\\n",
       "36645     47944                               Empress of the World     Luna   \n",
       "59944    203310                            Poetry Language Thought    Luna    \n",
       "60198    232743  The Archaeology of Knowledge and The Discourse...    Luna    \n",
       "60782    252648     The Postmodern Condition A Report on Knowledge    Luna    \n",
       "110764   112118        This Cold Heaven Seven Seasons in Greenland     Luna   \n",
       "110967  1171160        Three Dialogues Between Hylas and Philonous    Luna    \n",
       "\n",
       "        N_Review  N_Follower  Review_Rating         Review_Date  \\\n",
       "36645        638          43              4     August 21, 2011   \n",
       "59944        265          16              4  September 22, 2014   \n",
       "60198        265          16              2   November 27, 2016   \n",
       "60782        265          16              5   February 14, 2016   \n",
       "110764       645           4              4       April 6, 2011   \n",
       "110967       265           1              5  September 16, 2021   \n",
       "\n",
       "                                                  Content  N_Likes  N_Comments  \n",
       "36645   There's not one thing that makes this book goo...        3           2  \n",
       "59944   This was a refreshing read. What I really like...        2           0  \n",
       "60198    This is the sort of book that you feel that i...        4           0  \n",
       "60782   Postmodernism, What now? After the fall of the...        2           0  \n",
       "110764  Oh, Greenland. Someday I will get there and sa...        5           0  \n",
       "110967  Basically the material world does not exist pe...        1           0  "
      ]
     },
     "execution_count": 129,
     "metadata": {},
     "output_type": "execute_result"
    }
   ],
   "source": [
    "df_reviews.iloc[[36645, 59944, 60198, 60782, 110764, 110967], :]"
   ]
  },
  {
   "cell_type": "code",
   "execution_count": 130,
   "id": "9dbe8220",
   "metadata": {},
   "outputs": [],
   "source": [
    "from string import punctuation\n",
    "\n",
    "def remove_punctuation(document):\n",
    "    document = document.replace(' ', '') # remove empty space\n",
    "    no_punct = ''.join([character for character in document if character not in punctuation])\n",
    "    \n",
    "    if no_punct == '':\n",
    "        return document\n",
    "    else:\n",
    "        return no_punct"
   ]
  },
  {
   "cell_type": "code",
   "execution_count": 131,
   "id": "15e75521",
   "metadata": {},
   "outputs": [],
   "source": [
    "df_reviews['Reviewer'] = df_reviews['Reviewer'].apply(remove_punctuation)"
   ]
  },
  {
   "cell_type": "code",
   "execution_count": 132,
   "id": "c37df991",
   "metadata": {},
   "outputs": [
    {
     "name": "stdout",
     "output_type": "stream",
     "text": [
      "23347\n"
     ]
    }
   ],
   "source": [
    "# reviewer names\n",
    "names = df_reviews['Reviewer'].unique()\n",
    "print(len(names))"
   ]
  },
  {
   "cell_type": "markdown",
   "id": "0f703273",
   "metadata": {},
   "source": [
    "#### The number of 'unique' (name + review number) users are not much changed from before\n",
    "- To some extent, we would say our operation of modifying name format did not make too much negative impacts on data integrity"
   ]
  },
  {
   "cell_type": "code",
   "execution_count": 133,
   "id": "a05dd75d",
   "metadata": {},
   "outputs": [
    {
     "name": "stdout",
     "output_type": "stream",
     "text": [
      "The number of unique users are:  41255\n"
     ]
    }
   ],
   "source": [
    "print(\"The number of unique users are: \", len(df_reviews.groupby(by=['Reviewer', 'N_Review']).count()))"
   ]
  },
  {
   "cell_type": "markdown",
   "id": "4d1d2647",
   "metadata": {},
   "source": [
    "#### To tackle this problem, our approach is to combine reviewers' entries with the same name & *close* review numbers\n",
    "\n",
    "- We **assume that the user with the same name and close number of reviews are the same user.**\n",
    "- From deep observation and several trials on original data, we set 100 as the limit for the definition of *close* reviews (i.e. absolute difference is smaller or euqal to 100), and we will check the quality of this operation afterwards."
   ]
  },
  {
   "cell_type": "code",
   "execution_count": 382,
   "id": "50c0833a",
   "metadata": {},
   "outputs": [],
   "source": [
    "# we use the copy to avoid directly operating on original data\n",
    "df_reviews_copy = df_reviews.copy()"
   ]
  },
  {
   "cell_type": "code",
   "execution_count": null,
   "id": "013e554d",
   "metadata": {},
   "outputs": [],
   "source": [
    "for name in names:\n",
    "    i = 1\n",
    "    temp_group = []\n",
    "    temp_non_group = []\n",
    "    review_group = [0]\n",
    "    non_review_group = [0]\n",
    "    \n",
    "    flag = False\n",
    "    while (temp_group != review_group) & (temp_non_group != non_review_group):\n",
    "        print(\"Current user name: %s, Round: %d\" % (name, i))\n",
    "        temp_group = review_group[:]\n",
    "        temp_non_group = non_review_group[:]\n",
    "      \n",
    "        if flag:\n",
    "            break\n",
    "        \n",
    "        same_name_entries = df_reviews_copy[df_reviews_copy['Reviewer'] == name]\n",
    "        if len(same_name_entries) > 1:\n",
    "            temp = same_name_entries.groupby(by=['N_Review']).count()['Uid']\n",
    "            if len(temp) == 1:\n",
    "                flag = True\n",
    "                continue\n",
    "                \n",
    "            # find more than one entry user's review number\n",
    "            if i == 1:\n",
    "                review_group = list(temp[temp > 1].index.values)\n",
    "                non_review_group = list(temp[temp == 1].index.values)\n",
    "            else:\n",
    "                review_group = temp_group[:]\n",
    "                non_review_group = temp_non_group[:]\n",
    "            \n",
    "            # if exists aggregated entries\n",
    "            remove_group = []\n",
    "            remove_non_group = []\n",
    "\n",
    "            if review_group:\n",
    "                # group v.s. group\n",
    "                if len(review_group) >= 2:\n",
    "                    for review_num_1 in review_group:\n",
    "                        for review_num_2 in review_group:\n",
    "                            if review_num_1 == review_num_2:\n",
    "                                continue\n",
    "                            \n",
    "                            if np.abs(review_num_1 - review_num_2) <= 100:\n",
    "                                same_name_entries = df_reviews_copy[df_reviews_copy['Reviewer'] == name]\n",
    "                                if review_num_1 < review_num_2:\n",
    "                                    index = list(same_name_entries[same_name_entries['N_Review'] == \\\n",
    "                                                                   review_num_1].index.values)\n",
    "                                    df_reviews_copy.loc[index, 'N_Review'] = review_num_2\n",
    "                                    remove_group.append(review_num_1)\n",
    "\n",
    "                                else:\n",
    "                                    index = list(same_name_entries[same_name_entries['N_Review'] == \\\n",
    "                                                                   review_num_2].index.values)\n",
    "                                    df_reviews_copy.loc[index, 'N_Review'] = review_num_1\n",
    "                                    remove_group.append(review_num_2)\n",
    "\n",
    "#                 print('--------------------------------------------------------')\n",
    "                review_group = [i for i in review_group if i not in set(remove_group)]\n",
    "#                 print(review_group)\n",
    "#                 print(non_review_group)\n",
    "\n",
    "                # group v.s. independent sample\n",
    "                for review_num in review_group:\n",
    "                    for non_group in non_review_group:\n",
    "                        if np.abs(review_num - non_group) <= 100:\n",
    "                            same_name_entries = df_reviews_copy[df_reviews_copy['Reviewer'] == name]\n",
    "                            if review_num > non_group:\n",
    "                                index = list(same_name_entries[same_name_entries['N_Review'] == \\\n",
    "                                                               non_group].index.values)\n",
    "                                df_reviews_copy.loc[index, 'N_Review'] = review_num  # change values\n",
    "                                remove_non_group.append(non_group)  # drop already allocated ones\n",
    "                            else:\n",
    "                                index = list(same_name_entries[same_name_entries['N_Review'] == \\\n",
    "                                                               review_num].index.values)\n",
    "                                df_reviews_copy.loc[index, 'N_Review'] = non_group  # change values\n",
    "                                remove_group.append(review_num)\n",
    "\n",
    "#             print('------------------------------------------------------------')\n",
    "            non_review_group = [i for i in non_review_group if i not in set(remove_non_group)]\n",
    "            review_group = [i for i in review_group if i not in set(remove_group)]\n",
    "#             print(review_group)\n",
    "#             print(non_review_group)\n",
    "\n",
    "            # independent sample v.s. independent sample\n",
    "            if not non_review_group:\n",
    "                flag = True\n",
    "                continue\n",
    "            else:\n",
    "                for non_group_1 in non_review_group:\n",
    "                    for non_group_2 in non_review_group:\n",
    "                        if non_group_1 == non_group_2:\n",
    "                            continue\n",
    "\n",
    "                        if np.abs(non_group_1 - non_group_2) <= 50:\n",
    "                            same_name_entries = df_reviews_copy[df_reviews_copy['Reviewer'] == name]\n",
    "                            if non_group_1 < non_group_2:\n",
    "                                index = list(same_name_entries[same_name_entries['N_Review'] == \\\n",
    "                                                               non_group_1].index.values)\n",
    "                                df_reviews_copy.loc[index, 'N_Review'] = non_group_2\n",
    "                                remove_non_group.append(non_group_1)\n",
    "                            else:\n",
    "                                index = list(same_name_entries[same_name_entries['N_Review'] == \\\n",
    "                                                               non_group_2].index.values)\n",
    "                                df_reviews_copy.loc[index, 'N_Review'] = non_group_1\n",
    "                                remove_non_group.append(non_group_2)\n",
    "\n",
    "#             print('-------------------------------------------------------------')\n",
    "            non_review_group = [i for i in non_review_group if i not in set(remove_non_group)]\n",
    "#             print(review_group)\n",
    "#             print(non_review_group)\n",
    "            \n",
    "            \n",
    "            i += 1"
   ]
  },
  {
   "cell_type": "markdown",
   "id": "4726068b",
   "metadata": {},
   "source": [
    "#### 41255 'unique' users --> 27581 unique users (much reduced)"
   ]
  },
  {
   "cell_type": "code",
   "execution_count": 135,
   "id": "86ca782f",
   "metadata": {},
   "outputs": [
    {
     "name": "stdout",
     "output_type": "stream",
     "text": [
      "The number of unique users after combination are:  27581\n"
     ]
    }
   ],
   "source": [
    "print(\"The number of unique users after combination are: \", len(df_reviews_copy.groupby(by=['Reviewer', 'N_Review']).count()))"
   ]
  },
  {
   "cell_type": "markdown",
   "id": "5e9d3b5c",
   "metadata": {},
   "source": [
    "#### Solve the error caused in web scraping\n",
    "\n",
    "- Minor mistake in regular expressions causes the `N_Follower` data is wrong: only matched the first digit\n",
    "- We use the previous combination result, taking the highest `N_Follower` number of the same user to replace all entries"
   ]
  },
  {
   "cell_type": "code",
   "execution_count": 29,
   "id": "78a76afb",
   "metadata": {},
   "outputs": [],
   "source": [
    "for name in names:\n",
    "    same_name_entries = df_reviews_copy[df_reviews_copy['Reviewer'] == name]\n",
    "    \n",
    "    # only operate on usernames with more than 1 entries\n",
    "    if len(same_name_entries) > 1:\n",
    "            temp = same_name_entries.groupby(by=['N_Review']).count()['Uid']\n",
    "            \n",
    "            # if they already all shares the same N_Review, jump to next one\n",
    "            if len(temp) == len(same_name_entries):\n",
    "                continue\n",
    "                \n",
    "            review_group = list(temp[temp > 1].index.values)\n",
    "            for review_num in review_group:\n",
    "                same_review_df = same_name_entries[same_name_entries['N_Review'] == review_num]\n",
    "                # find the maximum N_follower as the most updated data to replace all other for same user\n",
    "                max_follower_num = [same_review_df['N_Follower'].max()]\n",
    "                \n",
    "                index = list(same_name_entries[same_name_entries['N_Review'] == review_num].index.values)\n",
    "                dup_follower_num = [i for i in max_follower_num for _ in range(len(index))] # duplicate for len(entries) times\n",
    "                df_reviews_copy.loc[index, 'N_Follower'] = dup_follower_num"
   ]
  },
  {
   "cell_type": "markdown",
   "id": "7ecf846a",
   "metadata": {},
   "source": [
    "#### Assign a unique `UserID` for each different user to better distinguish them"
   ]
  },
  {
   "cell_type": "code",
   "execution_count": 222,
   "id": "e898e148",
   "metadata": {},
   "outputs": [],
   "source": [
    "df_reviews_copy.loc[:, 'UserID'] = df_reviews_copy.groupby(['Reviewer', 'N_Review']).ngroup()"
   ]
  },
  {
   "cell_type": "code",
   "execution_count": null,
   "id": "2ae98219",
   "metadata": {},
   "outputs": [],
   "source": [
    "# adjust the column display\n",
    "cols = df_reviews_copy.columns.to_list()\n",
    "\n",
    "cols = cols[0:2] + cols[-1:] + cols[2:3] + cols[5:6] + cols[3:5] + cols[6:-1]\n",
    "df_reviews_copy = df_reviews_copy[cols]"
   ]
  },
  {
   "cell_type": "markdown",
   "id": "bd53a698",
   "metadata": {},
   "source": [
    "#### We can see that 3 different users with the same name 'Luna' has been identified and the wrong `N_Follower` has been modified"
   ]
  },
  {
   "cell_type": "code",
   "execution_count": 136,
   "id": "772d1a33",
   "metadata": {},
   "outputs": [
    {
     "data": {
      "text/html": [
       "<div>\n",
       "<style scoped>\n",
       "    .dataframe tbody tr th:only-of-type {\n",
       "        vertical-align: middle;\n",
       "    }\n",
       "\n",
       "    .dataframe tbody tr th {\n",
       "        vertical-align: top;\n",
       "    }\n",
       "\n",
       "    .dataframe thead th {\n",
       "        text-align: right;\n",
       "    }\n",
       "</style>\n",
       "<table border=\"1\" class=\"dataframe\">\n",
       "  <thead>\n",
       "    <tr style=\"text-align: right;\">\n",
       "      <th></th>\n",
       "      <th>Uid</th>\n",
       "      <th>Title</th>\n",
       "      <th>UserID</th>\n",
       "      <th>Reviewer</th>\n",
       "      <th>Review_Rating</th>\n",
       "      <th>N_Review</th>\n",
       "      <th>N_Follower</th>\n",
       "      <th>Review_Date</th>\n",
       "      <th>Content</th>\n",
       "      <th>N_Likes</th>\n",
       "      <th>N_Comments</th>\n",
       "    </tr>\n",
       "  </thead>\n",
       "  <tbody>\n",
       "    <tr>\n",
       "      <th>32810</th>\n",
       "      <td>465226</td>\n",
       "      <td>The Redbreast</td>\n",
       "      <td>15570</td>\n",
       "      <td>Luna</td>\n",
       "      <td>5</td>\n",
       "      <td>126</td>\n",
       "      <td>23</td>\n",
       "      <td>October 28, 2022</td>\n",
       "      <td>INCREDIBLE. Really just a work of art! You kn...</td>\n",
       "      <td>34</td>\n",
       "      <td>18</td>\n",
       "    </tr>\n",
       "    <tr>\n",
       "      <th>36645</th>\n",
       "      <td>47944</td>\n",
       "      <td>Empress of the World</td>\n",
       "      <td>15572</td>\n",
       "      <td>Luna</td>\n",
       "      <td>4</td>\n",
       "      <td>645</td>\n",
       "      <td>43</td>\n",
       "      <td>August 21, 2011</td>\n",
       "      <td>There's not one thing that makes this book goo...</td>\n",
       "      <td>3</td>\n",
       "      <td>2</td>\n",
       "    </tr>\n",
       "    <tr>\n",
       "      <th>59944</th>\n",
       "      <td>203310</td>\n",
       "      <td>Poetry Language Thought</td>\n",
       "      <td>15571</td>\n",
       "      <td>Luna</td>\n",
       "      <td>4</td>\n",
       "      <td>265</td>\n",
       "      <td>16</td>\n",
       "      <td>September 22, 2014</td>\n",
       "      <td>This was a refreshing read. What I really like...</td>\n",
       "      <td>2</td>\n",
       "      <td>0</td>\n",
       "    </tr>\n",
       "    <tr>\n",
       "      <th>60198</th>\n",
       "      <td>232743</td>\n",
       "      <td>The Archaeology of Knowledge and The Discourse...</td>\n",
       "      <td>15571</td>\n",
       "      <td>Luna</td>\n",
       "      <td>2</td>\n",
       "      <td>265</td>\n",
       "      <td>16</td>\n",
       "      <td>November 27, 2016</td>\n",
       "      <td>This is the sort of book that you feel that i...</td>\n",
       "      <td>4</td>\n",
       "      <td>0</td>\n",
       "    </tr>\n",
       "    <tr>\n",
       "      <th>60782</th>\n",
       "      <td>252648</td>\n",
       "      <td>The Postmodern Condition A Report on Knowledge</td>\n",
       "      <td>15571</td>\n",
       "      <td>Luna</td>\n",
       "      <td>5</td>\n",
       "      <td>265</td>\n",
       "      <td>16</td>\n",
       "      <td>February 14, 2016</td>\n",
       "      <td>Postmodernism, What now? After the fall of the...</td>\n",
       "      <td>2</td>\n",
       "      <td>0</td>\n",
       "    </tr>\n",
       "    <tr>\n",
       "      <th>110752</th>\n",
       "      <td>112118</td>\n",
       "      <td>This Cold Heaven Seven Seasons in Greenland</td>\n",
       "      <td>15572</td>\n",
       "      <td>Luna</td>\n",
       "      <td>4</td>\n",
       "      <td>645</td>\n",
       "      <td>43</td>\n",
       "      <td>April 6, 2011</td>\n",
       "      <td>Oh, Greenland. Someday I will get there and sa...</td>\n",
       "      <td>5</td>\n",
       "      <td>0</td>\n",
       "    </tr>\n",
       "    <tr>\n",
       "      <th>110955</th>\n",
       "      <td>1171160</td>\n",
       "      <td>Three Dialogues Between Hylas and Philonous</td>\n",
       "      <td>15571</td>\n",
       "      <td>Luna</td>\n",
       "      <td>5</td>\n",
       "      <td>265</td>\n",
       "      <td>16</td>\n",
       "      <td>September 16, 2021</td>\n",
       "      <td>Basically the material world does not exist pe...</td>\n",
       "      <td>1</td>\n",
       "      <td>0</td>\n",
       "    </tr>\n",
       "  </tbody>\n",
       "</table>\n",
       "</div>"
      ],
      "text/plain": [
       "            Uid                                              Title  UserID  \\\n",
       "32810    465226                                      The Redbreast   15570   \n",
       "36645     47944                               Empress of the World   15572   \n",
       "59944    203310                            Poetry Language Thought   15571   \n",
       "60198    232743  The Archaeology of Knowledge and The Discourse...   15571   \n",
       "60782    252648     The Postmodern Condition A Report on Knowledge   15571   \n",
       "110752   112118        This Cold Heaven Seven Seasons in Greenland   15572   \n",
       "110955  1171160        Three Dialogues Between Hylas and Philonous   15571   \n",
       "\n",
       "       Reviewer  Review_Rating  N_Review  N_Follower         Review_Date  \\\n",
       "32810      Luna              5       126          23    October 28, 2022   \n",
       "36645      Luna              4       645          43     August 21, 2011   \n",
       "59944      Luna              4       265          16  September 22, 2014   \n",
       "60198      Luna              2       265          16   November 27, 2016   \n",
       "60782      Luna              5       265          16   February 14, 2016   \n",
       "110752     Luna              4       645          43       April 6, 2011   \n",
       "110955     Luna              5       265          16  September 16, 2021   \n",
       "\n",
       "                                                  Content  N_Likes  N_Comments  \n",
       "32810    INCREDIBLE. Really just a work of art! You kn...       34          18  \n",
       "36645   There's not one thing that makes this book goo...        3           2  \n",
       "59944   This was a refreshing read. What I really like...        2           0  \n",
       "60198    This is the sort of book that you feel that i...        4           0  \n",
       "60782   Postmodernism, What now? After the fall of the...        2           0  \n",
       "110752  Oh, Greenland. Someday I will get there and sa...        5           0  \n",
       "110955  Basically the material world does not exist pe...        1           0  "
      ]
     },
     "execution_count": 136,
     "metadata": {},
     "output_type": "execute_result"
    }
   ],
   "source": [
    "df_reviews_copy[df_reviews_copy['Reviewer'] == 'Luna']"
   ]
  },
  {
   "cell_type": "markdown",
   "id": "189969cd",
   "metadata": {},
   "source": [
    "#### But one potential flaw of this approach is that: we might introduce one extra review of a 'same' user for the same book \n",
    "- We checked this problem, the maximum number of same-named reviewers under the same book is 2, and we drop one of these entries"
   ]
  },
  {
   "cell_type": "code",
   "execution_count": 231,
   "id": "c0735080",
   "metadata": {
    "scrolled": true
   },
   "outputs": [
    {
     "data": {
      "text/html": [
       "<div>\n",
       "<style scoped>\n",
       "    .dataframe tbody tr th:only-of-type {\n",
       "        vertical-align: middle;\n",
       "    }\n",
       "\n",
       "    .dataframe tbody tr th {\n",
       "        vertical-align: top;\n",
       "    }\n",
       "\n",
       "    .dataframe thead th {\n",
       "        text-align: right;\n",
       "    }\n",
       "</style>\n",
       "<table border=\"1\" class=\"dataframe\">\n",
       "  <thead>\n",
       "    <tr style=\"text-align: right;\">\n",
       "      <th></th>\n",
       "      <th></th>\n",
       "      <th>Title</th>\n",
       "      <th>Reviewer</th>\n",
       "      <th>Review_Rating</th>\n",
       "      <th>N_Review</th>\n",
       "      <th>N_Follower</th>\n",
       "      <th>Review_Date</th>\n",
       "      <th>Content</th>\n",
       "      <th>N_Likes</th>\n",
       "      <th>N_Comments</th>\n",
       "    </tr>\n",
       "    <tr>\n",
       "      <th>Uid</th>\n",
       "      <th>UserID</th>\n",
       "      <th></th>\n",
       "      <th></th>\n",
       "      <th></th>\n",
       "      <th></th>\n",
       "      <th></th>\n",
       "      <th></th>\n",
       "      <th></th>\n",
       "      <th></th>\n",
       "      <th></th>\n",
       "    </tr>\n",
       "  </thead>\n",
       "  <tbody>\n",
       "    <tr>\n",
       "      <th>40604846</th>\n",
       "      <th>4246</th>\n",
       "      <td>2</td>\n",
       "      <td>2</td>\n",
       "      <td>2</td>\n",
       "      <td>2</td>\n",
       "      <td>2</td>\n",
       "      <td>2</td>\n",
       "      <td>2</td>\n",
       "      <td>2</td>\n",
       "      <td>2</td>\n",
       "    </tr>\n",
       "    <tr>\n",
       "      <th>53138099</th>\n",
       "      <th>12977</th>\n",
       "      <td>2</td>\n",
       "      <td>2</td>\n",
       "      <td>2</td>\n",
       "      <td>2</td>\n",
       "      <td>2</td>\n",
       "      <td>2</td>\n",
       "      <td>2</td>\n",
       "      <td>2</td>\n",
       "      <td>2</td>\n",
       "    </tr>\n",
       "    <tr>\n",
       "      <th>31463</th>\n",
       "      <th>1860</th>\n",
       "      <td>2</td>\n",
       "      <td>2</td>\n",
       "      <td>2</td>\n",
       "      <td>2</td>\n",
       "      <td>2</td>\n",
       "      <td>2</td>\n",
       "      <td>2</td>\n",
       "      <td>2</td>\n",
       "      <td>2</td>\n",
       "    </tr>\n",
       "    <tr>\n",
       "      <th>57693474</th>\n",
       "      <th>12977</th>\n",
       "      <td>2</td>\n",
       "      <td>2</td>\n",
       "      <td>2</td>\n",
       "      <td>2</td>\n",
       "      <td>2</td>\n",
       "      <td>2</td>\n",
       "      <td>2</td>\n",
       "      <td>2</td>\n",
       "      <td>2</td>\n",
       "    </tr>\n",
       "    <tr>\n",
       "      <th>30241</th>\n",
       "      <th>21737</th>\n",
       "      <td>2</td>\n",
       "      <td>2</td>\n",
       "      <td>2</td>\n",
       "      <td>2</td>\n",
       "      <td>2</td>\n",
       "      <td>2</td>\n",
       "      <td>2</td>\n",
       "      <td>2</td>\n",
       "      <td>2</td>\n",
       "    </tr>\n",
       "    <tr>\n",
       "      <th>153540</th>\n",
       "      <th>4246</th>\n",
       "      <td>2</td>\n",
       "      <td>2</td>\n",
       "      <td>2</td>\n",
       "      <td>2</td>\n",
       "      <td>2</td>\n",
       "      <td>2</td>\n",
       "      <td>2</td>\n",
       "      <td>2</td>\n",
       "      <td>2</td>\n",
       "    </tr>\n",
       "    <tr>\n",
       "      <th>18104725</th>\n",
       "      <th>4246</th>\n",
       "      <td>2</td>\n",
       "      <td>2</td>\n",
       "      <td>2</td>\n",
       "      <td>2</td>\n",
       "      <td>2</td>\n",
       "      <td>2</td>\n",
       "      <td>2</td>\n",
       "      <td>2</td>\n",
       "      <td>2</td>\n",
       "    </tr>\n",
       "  </tbody>\n",
       "</table>\n",
       "</div>"
      ],
      "text/plain": [
       "                 Title  Reviewer  Review_Rating  N_Review  N_Follower  \\\n",
       "Uid      UserID                                                         \n",
       "40604846 4246        2         2              2         2           2   \n",
       "53138099 12977       2         2              2         2           2   \n",
       "31463    1860        2         2              2         2           2   \n",
       "57693474 12977       2         2              2         2           2   \n",
       "30241    21737       2         2              2         2           2   \n",
       "153540   4246        2         2              2         2           2   \n",
       "18104725 4246        2         2              2         2           2   \n",
       "\n",
       "                 Review_Date  Content  N_Likes  N_Comments  \n",
       "Uid      UserID                                             \n",
       "40604846 4246              2        2        2           2  \n",
       "53138099 12977             2        2        2           2  \n",
       "31463    1860              2        2        2           2  \n",
       "57693474 12977             2        2        2           2  \n",
       "30241    21737             2        2        2           2  \n",
       "153540   4246              2        2        2           2  \n",
       "18104725 4246              2        2        2           2  "
      ]
     },
     "execution_count": 231,
     "metadata": {},
     "output_type": "execute_result"
    }
   ],
   "source": [
    "same_book_reviewer = df_reviews_copy.groupby(by=['Uid', 'UserID']).count().sort_values(by=['Title'])\n",
    "same_book_reviewer[same_book_reviewer['Title'] > 1]"
   ]
  },
  {
   "cell_type": "code",
   "execution_count": 238,
   "id": "5709b2ba",
   "metadata": {},
   "outputs": [],
   "source": [
    "df_reviews_copy.drop_duplicates(subset=['Uid', 'UserID'], inplace=True)"
   ]
  },
  {
   "cell_type": "code",
   "execution_count": 239,
   "id": "6269d3ac",
   "metadata": {},
   "outputs": [
    {
     "name": "stdout",
     "output_type": "stream",
     "text": [
      "<class 'pandas.core.frame.DataFrame'>\n",
      "Int64Index: 114013 entries, 0 to 114019\n",
      "Data columns (total 11 columns):\n",
      " #   Column         Non-Null Count   Dtype \n",
      "---  ------         --------------   ----- \n",
      " 0   Uid            114013 non-null  int64 \n",
      " 1   Title          114013 non-null  object\n",
      " 2   UserID         114013 non-null  int64 \n",
      " 3   Reviewer       114013 non-null  object\n",
      " 4   Review_Rating  114013 non-null  int64 \n",
      " 5   N_Review       114013 non-null  int64 \n",
      " 6   N_Follower     114013 non-null  int64 \n",
      " 7   Review_Date    114013 non-null  object\n",
      " 8   Content        114013 non-null  object\n",
      " 9   N_Likes        114013 non-null  int64 \n",
      " 10  N_Comments     114013 non-null  int64 \n",
      "dtypes: int64(7), object(4)\n",
      "memory usage: 10.4+ MB\n"
     ]
    }
   ],
   "source": [
    "df_reviews_copy.info()"
   ]
  },
  {
   "cell_type": "code",
   "execution_count": 240,
   "id": "e725b39d",
   "metadata": {},
   "outputs": [],
   "source": [
    "# store modified reviews dataset\n",
    "\n",
    "df_reviews_copy.to_csv('./Datasets/Basic_datasets/Book_reviews_modified.csv', index=False)"
   ]
  },
  {
   "cell_type": "markdown",
   "id": "69e9c690",
   "metadata": {},
   "source": [
    "### 1.2.3 &nbsp; Mitigate the sparsity of recommendation matrix"
   ]
  },
  {
   "cell_type": "markdown",
   "id": "74828829",
   "metadata": {},
   "source": [
    "#### The above modification process is time-consuming, you can simply start from reading our modified files for following operations"
   ]
  },
  {
   "cell_type": "code",
   "execution_count": 241,
   "id": "d4150d29",
   "metadata": {},
   "outputs": [],
   "source": [
    "df_reviews_copy = pd.read_csv('./Datasets/Basic_datasets/Book_reviews_modified.csv')"
   ]
  },
  {
   "cell_type": "markdown",
   "id": "0ecd5f32",
   "metadata": {},
   "source": [
    "#### We look at how many reviews each user has left for books in our dataset\n",
    "- Most users actually only left 1 review, making our dataset super sparse: we need to estimate almost 99.5% of ratings"
   ]
  },
  {
   "cell_type": "code",
   "execution_count": 242,
   "id": "abc8e7c1",
   "metadata": {},
   "outputs": [
    {
     "data": {
      "text/html": [
       "<div>\n",
       "<style scoped>\n",
       "    .dataframe tbody tr th:only-of-type {\n",
       "        vertical-align: middle;\n",
       "    }\n",
       "\n",
       "    .dataframe tbody tr th {\n",
       "        vertical-align: top;\n",
       "    }\n",
       "\n",
       "    .dataframe thead th {\n",
       "        text-align: right;\n",
       "    }\n",
       "</style>\n",
       "<table border=\"1\" class=\"dataframe\">\n",
       "  <thead>\n",
       "    <tr style=\"text-align: right;\">\n",
       "      <th></th>\n",
       "      <th>Uid</th>\n",
       "      <th>Title</th>\n",
       "      <th>Reviewer</th>\n",
       "      <th>Review_Rating</th>\n",
       "      <th>N_Review</th>\n",
       "      <th>N_Follower</th>\n",
       "      <th>Review_Date</th>\n",
       "      <th>Content</th>\n",
       "      <th>N_Likes</th>\n",
       "      <th>N_Comments</th>\n",
       "    </tr>\n",
       "    <tr>\n",
       "      <th>UserID</th>\n",
       "      <th></th>\n",
       "      <th></th>\n",
       "      <th></th>\n",
       "      <th></th>\n",
       "      <th></th>\n",
       "      <th></th>\n",
       "      <th></th>\n",
       "      <th></th>\n",
       "      <th></th>\n",
       "      <th></th>\n",
       "    </tr>\n",
       "  </thead>\n",
       "  <tbody>\n",
       "    <tr>\n",
       "      <th>15602</th>\n",
       "      <td>380</td>\n",
       "      <td>380</td>\n",
       "      <td>380</td>\n",
       "      <td>380</td>\n",
       "      <td>380</td>\n",
       "      <td>380</td>\n",
       "      <td>380</td>\n",
       "      <td>380</td>\n",
       "      <td>380</td>\n",
       "      <td>380</td>\n",
       "    </tr>\n",
       "    <tr>\n",
       "      <th>17161</th>\n",
       "      <td>350</td>\n",
       "      <td>350</td>\n",
       "      <td>350</td>\n",
       "      <td>350</td>\n",
       "      <td>350</td>\n",
       "      <td>350</td>\n",
       "      <td>350</td>\n",
       "      <td>350</td>\n",
       "      <td>350</td>\n",
       "      <td>350</td>\n",
       "    </tr>\n",
       "    <tr>\n",
       "      <th>2557</th>\n",
       "      <td>347</td>\n",
       "      <td>347</td>\n",
       "      <td>347</td>\n",
       "      <td>347</td>\n",
       "      <td>347</td>\n",
       "      <td>347</td>\n",
       "      <td>347</td>\n",
       "      <td>347</td>\n",
       "      <td>347</td>\n",
       "      <td>347</td>\n",
       "    </tr>\n",
       "    <tr>\n",
       "      <th>7740</th>\n",
       "      <td>318</td>\n",
       "      <td>318</td>\n",
       "      <td>318</td>\n",
       "      <td>318</td>\n",
       "      <td>318</td>\n",
       "      <td>318</td>\n",
       "      <td>318</td>\n",
       "      <td>318</td>\n",
       "      <td>318</td>\n",
       "      <td>318</td>\n",
       "    </tr>\n",
       "    <tr>\n",
       "      <th>1863</th>\n",
       "      <td>315</td>\n",
       "      <td>315</td>\n",
       "      <td>315</td>\n",
       "      <td>315</td>\n",
       "      <td>315</td>\n",
       "      <td>315</td>\n",
       "      <td>315</td>\n",
       "      <td>315</td>\n",
       "      <td>315</td>\n",
       "      <td>315</td>\n",
       "    </tr>\n",
       "    <tr>\n",
       "      <th>...</th>\n",
       "      <td>...</td>\n",
       "      <td>...</td>\n",
       "      <td>...</td>\n",
       "      <td>...</td>\n",
       "      <td>...</td>\n",
       "      <td>...</td>\n",
       "      <td>...</td>\n",
       "      <td>...</td>\n",
       "      <td>...</td>\n",
       "      <td>...</td>\n",
       "    </tr>\n",
       "    <tr>\n",
       "      <th>11248</th>\n",
       "      <td>1</td>\n",
       "      <td>1</td>\n",
       "      <td>1</td>\n",
       "      <td>1</td>\n",
       "      <td>1</td>\n",
       "      <td>1</td>\n",
       "      <td>1</td>\n",
       "      <td>1</td>\n",
       "      <td>1</td>\n",
       "      <td>1</td>\n",
       "    </tr>\n",
       "    <tr>\n",
       "      <th>11246</th>\n",
       "      <td>1</td>\n",
       "      <td>1</td>\n",
       "      <td>1</td>\n",
       "      <td>1</td>\n",
       "      <td>1</td>\n",
       "      <td>1</td>\n",
       "      <td>1</td>\n",
       "      <td>1</td>\n",
       "      <td>1</td>\n",
       "      <td>1</td>\n",
       "    </tr>\n",
       "    <tr>\n",
       "      <th>11245</th>\n",
       "      <td>1</td>\n",
       "      <td>1</td>\n",
       "      <td>1</td>\n",
       "      <td>1</td>\n",
       "      <td>1</td>\n",
       "      <td>1</td>\n",
       "      <td>1</td>\n",
       "      <td>1</td>\n",
       "      <td>1</td>\n",
       "      <td>1</td>\n",
       "    </tr>\n",
       "    <tr>\n",
       "      <th>11244</th>\n",
       "      <td>1</td>\n",
       "      <td>1</td>\n",
       "      <td>1</td>\n",
       "      <td>1</td>\n",
       "      <td>1</td>\n",
       "      <td>1</td>\n",
       "      <td>1</td>\n",
       "      <td>1</td>\n",
       "      <td>1</td>\n",
       "      <td>1</td>\n",
       "    </tr>\n",
       "    <tr>\n",
       "      <th>27580</th>\n",
       "      <td>1</td>\n",
       "      <td>1</td>\n",
       "      <td>1</td>\n",
       "      <td>1</td>\n",
       "      <td>1</td>\n",
       "      <td>1</td>\n",
       "      <td>1</td>\n",
       "      <td>1</td>\n",
       "      <td>1</td>\n",
       "      <td>1</td>\n",
       "    </tr>\n",
       "  </tbody>\n",
       "</table>\n",
       "<p>27581 rows × 10 columns</p>\n",
       "</div>"
      ],
      "text/plain": [
       "        Uid  Title  Reviewer  Review_Rating  N_Review  N_Follower  \\\n",
       "UserID                                                              \n",
       "15602   380    380       380            380       380         380   \n",
       "17161   350    350       350            350       350         350   \n",
       "2557    347    347       347            347       347         347   \n",
       "7740    318    318       318            318       318         318   \n",
       "1863    315    315       315            315       315         315   \n",
       "...     ...    ...       ...            ...       ...         ...   \n",
       "11248     1      1         1              1         1           1   \n",
       "11246     1      1         1              1         1           1   \n",
       "11245     1      1         1              1         1           1   \n",
       "11244     1      1         1              1         1           1   \n",
       "27580     1      1         1              1         1           1   \n",
       "\n",
       "        Review_Date  Content  N_Likes  N_Comments  \n",
       "UserID                                             \n",
       "15602           380      380      380         380  \n",
       "17161           350      350      350         350  \n",
       "2557            347      347      347         347  \n",
       "7740            318      318      318         318  \n",
       "1863            315      315      315         315  \n",
       "...             ...      ...      ...         ...  \n",
       "11248             1        1        1           1  \n",
       "11246             1        1        1           1  \n",
       "11245             1        1        1           1  \n",
       "11244             1        1        1           1  \n",
       "27580             1        1        1           1  \n",
       "\n",
       "[27581 rows x 10 columns]"
      ]
     },
     "execution_count": 242,
     "metadata": {},
     "output_type": "execute_result"
    }
   ],
   "source": [
    "reviewer_book_count = df_reviews_copy.groupby(by=['UserID']).count()\n",
    "reviewer_book_count.sort_values(['Uid'], ascending=False)"
   ]
  },
  {
   "cell_type": "code",
   "execution_count": 245,
   "id": "a3bd49db",
   "metadata": {},
   "outputs": [
    {
     "name": "stdout",
     "output_type": "stream",
     "text": [
      "The user number is:  27581\n",
      "The number of books is:  7776\n",
      " \n",
      "The total ratings needed are:  214469856\n",
      "The known records are:  114013\n",
      "The rating entries need to be estimated are:  214355843\n",
      "\n",
      "The ratio of known data is: 0.05%\n"
     ]
    }
   ],
   "source": [
    "print(\"The user number is: \", len(reviewer_book_count))\n",
    "print(\"The number of books is: \", len(df_info))\n",
    "print(\" \")\n",
    "print(\"The total ratings needed are: \", len(reviewer_book_count) * len(df_info))\n",
    "print(\"The known records are: \", len(df_reviews_copy))\n",
    "print(\"The rating entries need to be estimated are: \", \\\n",
    "      len(reviewer_book_count) * len(df_info) - len(df_reviews_copy))\n",
    "print('')\n",
    "\n",
    "ratio = len(df_reviews_copy) / (len(reviewer_book_count) * len(df_info))\n",
    "print(\"The ratio of known data is: %.2f\" % (ratio * 100) + '%')"
   ]
  },
  {
   "cell_type": "markdown",
   "id": "efe5d707",
   "metadata": {},
   "source": [
    "#### Currently our dataset will be too sparse, so we consider to make it more compat from two directions:\n",
    "- 1) Drop some books without enough reviews\n",
    "- 2) Set an interaction threshold to select users more actively rate and review books "
   ]
  },
  {
   "cell_type": "markdown",
   "id": "cb757a34",
   "metadata": {},
   "source": [
    "#### 1) Drop books without enough reviews"
   ]
  },
  {
   "cell_type": "code",
   "execution_count": 246,
   "id": "22ee2045",
   "metadata": {},
   "outputs": [],
   "source": [
    "book_review_count = df_reviews_copy.groupby(by = ['Uid']).count()"
   ]
  },
  {
   "cell_type": "code",
   "execution_count": 247,
   "id": "006edaec",
   "metadata": {},
   "outputs": [
    {
     "name": "stdout",
     "output_type": "stream",
     "text": [
      "The number of books left are:  7627\n",
      "The number of review records left are:  113025\n"
     ]
    }
   ],
   "source": [
    "# drop books without enough reviews\n",
    "uid_remove = book_review_count[book_review_count['UserID'] < 10].index.values\n",
    "print(\"The number of books left are: \", len(df_info) - len(uid_remove))\n",
    "\n",
    "# use a copy to keep original dataframe for repeated experiments\n",
    "df_reviews_modified = df_reviews_copy.copy()\n",
    "df_reviews_modified = df_reviews_modified[~df_reviews_modified['Uid'].isin(uid_remove)]\n",
    "\n",
    "print(\"The number of review records left are: \", len(df_reviews_modified))"
   ]
  },
  {
   "cell_type": "markdown",
   "id": "d75d1bff",
   "metadata": {},
   "source": [
    "#### 2) Set a threshold to select more active users, we visualize this process to find some *balanced* points\n",
    "- *balanced*: less sparse, but keep as much books as possible"
   ]
  },
  {
   "cell_type": "code",
   "execution_count": 248,
   "id": "d620e54e",
   "metadata": {},
   "outputs": [],
   "source": [
    "threshold_list = np.linspace(0, 120, 121, dtype='int64')\n",
    "\n",
    "ratio = []\n",
    "book_num = []\n",
    "record_num = []\n",
    "\n",
    "for threshold in threshold_list:\n",
    "    reviewer_id = reviewer_book_count[reviewer_book_count['Uid'] >= threshold].index.get_level_values('UserID').to_list()\n",
    "    reviewer_df = df_reviews_modified[(df_reviews_modified['UserID'].isin(reviewer_id))]\n",
    "    \n",
    "    total = len(reviewer_id) * len(reviewer_df['Uid'].unique())  # total ratings needed\n",
    "    records = len(reviewer_df)\n",
    "    \n",
    "    book_num.append(len(reviewer_df['Uid'].unique()))\n",
    "    record_num.append(records)\n",
    "    ratio.append(records / total)"
   ]
  },
  {
   "cell_type": "code",
   "execution_count": 249,
   "id": "e4304f0a",
   "metadata": {
    "scrolled": true
   },
   "outputs": [
    {
     "data": {
      "image/png": "[encoded data removed]",
      "text/plain": [
       "<Figure size 1296x432 with 3 Axes>"
      ]
     },
     "metadata": {
      "needs_background": "light"
     },
     "output_type": "display_data"
    }
   ],
   "source": [
    "import matplotlib.pyplot as plt\n",
    "\n",
    "plt.figure(figsize=(18, 6))\n",
    "plt.subplot(1, 3, 1)\n",
    "plt.plot(threshold_list, ratio)\n",
    "plt.xlabel('Threshold')\n",
    "plt.ylabel('Ratio')\n",
    "\n",
    "plt.subplot(1, 3, 2)\n",
    "plt.plot(threshold_list, book_num)\n",
    "plt.xlabel('Threshold')\n",
    "plt.ylabel('Book_num')\n",
    "\n",
    "plt.subplot(1, 3, 3)\n",
    "plt.plot(threshold_list, record_num)\n",
    "plt.xlabel('Threshold')\n",
    "plt.ylabel('Record_num')\n",
    "\n",
    "plt.show()"
   ]
  },
  {
   "cell_type": "markdown",
   "id": "a66123f8",
   "metadata": {},
   "source": [
    "#### Finally we choose the threshold as 40 (i.e. users with >= 40 reviews will be kept)\n",
    "- Improve the sparsity to 1.14% known data (0.05% previously)"
   ]
  },
  {
   "cell_type": "code",
   "execution_count": 250,
   "id": "9c0d531d",
   "metadata": {},
   "outputs": [
    {
     "name": "stdout",
     "output_type": "stream",
     "text": [
      "The total reviewer number is:  449\n",
      "The total book number is:  7133\n",
      "\n",
      "The total number of ratings needed are:  3202717\n",
      "The known records are:  36555\n",
      "The rating entries need to be estimated are:  3166162\n",
      "\n",
      "The ratio of known data is: 1.14%\n"
     ]
    }
   ],
   "source": [
    "threshold = 40\n",
    "\n",
    "reviewer_id = reviewer_book_count[reviewer_book_count['Uid'] >= threshold].index.get_level_values('UserID').to_list()\n",
    "reviewer_df = df_reviews_modified[(df_reviews_modified['UserID'].isin(reviewer_id))]\n",
    "    \n",
    "total = len(reviewer_id) * len(reviewer_df['Uid'].unique())  # total ratings needed\n",
    "print(\"The total reviewer number is: \", len(reviewer_id))\n",
    "print(\"The total book number is: \", len(reviewer_df['Uid'].unique()))\n",
    "\n",
    "records = len(reviewer_df)\n",
    "print('')\n",
    "print(\"The total number of ratings needed are: \", total)\n",
    "print(\"The known records are: \", len(reviewer_df))\n",
    "print(\"The rating entries need to be estimated are: \", total - len(reviewer_df))\n",
    "\n",
    "ratio = records / total\n",
    "print('')\n",
    "print(\"The ratio of known data is: %.2f\" % (ratio * 100) + '%')"
   ]
  },
  {
   "cell_type": "code",
   "execution_count": 251,
   "id": "d3477384",
   "metadata": {},
   "outputs": [],
   "source": [
    "# reset index\n",
    "reviewer_df  = reviewer_df.reset_index(drop=True)\n",
    "\n",
    "# store for recommendation models\n",
    "reviewer_df.to_csv('./Datasets/Rec_models_datasets/User_interaction.csv', index=False)"
   ]
  },
  {
   "cell_type": "markdown",
   "id": "2e47965e",
   "metadata": {},
   "source": [
    "#### Correspondingly we keep only those books are selected"
   ]
  },
  {
   "cell_type": "code",
   "execution_count": 252,
   "id": "b3b89ced",
   "metadata": {},
   "outputs": [],
   "source": [
    "df_info_model = pd.read_csv('./Datasets/Basic_datasets/Book_info_model.csv')"
   ]
  },
  {
   "cell_type": "code",
   "execution_count": 253,
   "id": "13a9a67e",
   "metadata": {},
   "outputs": [],
   "source": [
    "book_selected_uid = reviewer_df['Uid'].unique()\n",
    "selected_book = df_info_model[df_info_model['Uid'].isin(book_selected_uid)].reset_index(drop=True)\n",
    "\n",
    "# keep only the selected books\n",
    "selected_book.to_csv('./Datasets/Rec_models_datasets/Selected_book_info.csv', index=False)"
   ]
  },
  {
   "cell_type": "markdown",
   "id": "eec4a403",
   "metadata": {},
   "source": [
    "---"
   ]
  },
  {
   "cell_type": "markdown",
   "id": "6878aa76",
   "metadata": {},
   "source": [
    "## Part 2) &nbsp; Recommendation Models"
   ]
  },
  {
   "cell_type": "markdown",
   "id": "0a1432df",
   "metadata": {},
   "source": [
    "**<u>Goal</u>**:  Accurately recommend to users unread books that match their reading preferences. \n",
    "- Tasks: our models will predict users’ ratings for their unread books and then recommend (predicted) high-rating books to them."
   ]
  },
  {
   "cell_type": "code",
   "execution_count": 99,
   "id": "0f0a28fb",
   "metadata": {},
   "outputs": [],
   "source": [
    "import numpy as np\n",
    "import pandas as pd\n",
    "import matplotlib.pyplot as plt\n",
    "import os\n",
    "import math\n",
    "import random\n",
    "\n",
    "import warnings\n",
    "warnings.filterwarnings(\"ignore\")"
   ]
  },
  {
   "cell_type": "markdown",
   "id": "f46dd264",
   "metadata": {},
   "source": [
    "#### Load book data & user reviews data"
   ]
  },
  {
   "cell_type": "code",
   "execution_count": 84,
   "id": "01c2119c",
   "metadata": {
    "colab": {
     "base_uri": "https://localhost:8080/",
     "height": 317
    },
    "executionInfo": {
     "elapsed": 376,
     "status": "ok",
     "timestamp": 1678151075235,
     "user": {
      "displayName": "Xinlin Huang",
      "userId": "16066583170481102313"
     },
     "user_tz": 480
    },
    "id": "BKLn2aMmSXmU",
    "outputId": "8e8fe472-1633-47d8-bfba-7a28ebd66a4e"
   },
   "outputs": [
    {
     "data": {
      "text/html": [
       "<div>\n",
       "<style scoped>\n",
       "    .dataframe tbody tr th:only-of-type {\n",
       "        vertical-align: middle;\n",
       "    }\n",
       "\n",
       "    .dataframe tbody tr th {\n",
       "        vertical-align: top;\n",
       "    }\n",
       "\n",
       "    .dataframe thead th {\n",
       "        text-align: right;\n",
       "    }\n",
       "</style>\n",
       "<table border=\"1\" class=\"dataframe\">\n",
       "  <thead>\n",
       "    <tr style=\"text-align: right;\">\n",
       "      <th></th>\n",
       "      <th>Uid</th>\n",
       "      <th>Title</th>\n",
       "      <th>Genres</th>\n",
       "      <th>Author</th>\n",
       "      <th>Rating</th>\n",
       "      <th>Publish_Date</th>\n",
       "      <th>Page_Num</th>\n",
       "      <th>Award</th>\n",
       "      <th>Description</th>\n",
       "      <th>Author_Desc</th>\n",
       "      <th>...</th>\n",
       "      <th>AddedShelf</th>\n",
       "      <th>ToRead</th>\n",
       "      <th>added_median</th>\n",
       "      <th>ratings_median</th>\n",
       "      <th>reviews_median</th>\n",
       "      <th>to-read_median</th>\n",
       "      <th>added_IQR</th>\n",
       "      <th>ratings_IQR</th>\n",
       "      <th>reviews_IQR</th>\n",
       "      <th>to-read_IQR</th>\n",
       "    </tr>\n",
       "  </thead>\n",
       "  <tbody>\n",
       "    <tr>\n",
       "      <th>0</th>\n",
       "      <td>13642600</td>\n",
       "      <td>A Splash of Red The Life and Art of Horace Pippin</td>\n",
       "      <td>['picture-books', 'biography', 'art', 'nonfict...</td>\n",
       "      <td>Jen Bryant</td>\n",
       "      <td>3.87</td>\n",
       "      <td>January 8, 2013</td>\n",
       "      <td>34</td>\n",
       "      <td>['schneider_family_book_award', 'vermonts_pict...</td>\n",
       "      <td>As a child in the late 1800s, Horace Pippin lo...</td>\n",
       "      <td>Jen Bryant (Jennifer Fisher Bryant) writes pic...</td>\n",
       "      <td>...</td>\n",
       "      <td>8832</td>\n",
       "      <td>2979</td>\n",
       "      <td>0.0</td>\n",
       "      <td>0.0</td>\n",
       "      <td>0.0</td>\n",
       "      <td>0.0</td>\n",
       "      <td>1.00</td>\n",
       "      <td>0.0</td>\n",
       "      <td>0.0</td>\n",
       "      <td>0.00</td>\n",
       "    </tr>\n",
       "    <tr>\n",
       "      <th>1</th>\n",
       "      <td>137933</td>\n",
       "      <td>After the End of Art Contemporary Art and the ...</td>\n",
       "      <td>['art', 'philosophy', 'nonfiction', 'art-histo...</td>\n",
       "      <td>Arthur C. Danto</td>\n",
       "      <td>4.03</td>\n",
       "      <td>January 1, 1997</td>\n",
       "      <td>264</td>\n",
       "      <td>['no']</td>\n",
       "      <td>Over a decade ago, Arthur Danto announced that...</td>\n",
       "      <td>Arthur C. Danto was Johnsonian Professor Emeri...</td>\n",
       "      <td>...</td>\n",
       "      <td>3176</td>\n",
       "      <td>1946</td>\n",
       "      <td>1.0</td>\n",
       "      <td>0.0</td>\n",
       "      <td>0.0</td>\n",
       "      <td>0.0</td>\n",
       "      <td>1.00</td>\n",
       "      <td>0.0</td>\n",
       "      <td>0.0</td>\n",
       "      <td>1.00</td>\n",
       "    </tr>\n",
       "    <tr>\n",
       "      <th>2</th>\n",
       "      <td>52374</td>\n",
       "      <td>Against Interpretation and Other Essays</td>\n",
       "      <td>['essays', 'nonfiction', 'philosophy', 'art', ...</td>\n",
       "      <td>Susan Sontag</td>\n",
       "      <td>4.13</td>\n",
       "      <td>January 1, 1966</td>\n",
       "      <td>312</td>\n",
       "      <td>['national_book_award_finalist']</td>\n",
       "      <td>Against Interpretation was Susan Sontag's firs...</td>\n",
       "      <td>Susan Sontag was born in New York City on Janu...</td>\n",
       "      <td>...</td>\n",
       "      <td>38314</td>\n",
       "      <td>26588</td>\n",
       "      <td>19.0</td>\n",
       "      <td>2.0</td>\n",
       "      <td>0.0</td>\n",
       "      <td>14.0</td>\n",
       "      <td>9.75</td>\n",
       "      <td>2.0</td>\n",
       "      <td>0.0</td>\n",
       "      <td>7.75</td>\n",
       "    </tr>\n",
       "    <tr>\n",
       "      <th>3</th>\n",
       "      <td>140987</td>\n",
       "      <td>Air Guitar Essays on Art and Democracy</td>\n",
       "      <td>['art', 'nonfiction', 'essays', 'music', 'crit...</td>\n",
       "      <td>Dave Hickey</td>\n",
       "      <td>4.08</td>\n",
       "      <td>August 2, 1997</td>\n",
       "      <td>208</td>\n",
       "      <td>['no']</td>\n",
       "      <td>The 23 essays (or \"love songs\") that make up t...</td>\n",
       "      <td>David Hickey (born circa 1939) is an American ...</td>\n",
       "      <td>...</td>\n",
       "      <td>5670</td>\n",
       "      <td>2929</td>\n",
       "      <td>1.0</td>\n",
       "      <td>0.0</td>\n",
       "      <td>0.0</td>\n",
       "      <td>0.0</td>\n",
       "      <td>1.00</td>\n",
       "      <td>0.0</td>\n",
       "      <td>0.0</td>\n",
       "      <td>1.00</td>\n",
       "    </tr>\n",
       "    <tr>\n",
       "      <th>4</th>\n",
       "      <td>51245</td>\n",
       "      <td>Amphigorey Also</td>\n",
       "      <td>['art', 'humor', 'graphic-novels', 'comics', '...</td>\n",
       "      <td>Edward Gorey</td>\n",
       "      <td>4.40</td>\n",
       "      <td>January 1, 1983</td>\n",
       "      <td>256</td>\n",
       "      <td>['no']</td>\n",
       "      <td>Contents: The Utter Zoo, The Blue Aspic, The E...</td>\n",
       "      <td>Born in Chicago, Gorey came from a colourful f...</td>\n",
       "      <td>...</td>\n",
       "      <td>7502</td>\n",
       "      <td>1238</td>\n",
       "      <td>1.0</td>\n",
       "      <td>0.0</td>\n",
       "      <td>0.0</td>\n",
       "      <td>0.0</td>\n",
       "      <td>1.00</td>\n",
       "      <td>1.0</td>\n",
       "      <td>0.0</td>\n",
       "      <td>1.00</td>\n",
       "    </tr>\n",
       "  </tbody>\n",
       "</table>\n",
       "<p>5 rows × 30 columns</p>\n",
       "</div>"
      ],
      "text/plain": [
       "        Uid                                              Title  \\\n",
       "0  13642600  A Splash of Red The Life and Art of Horace Pippin   \n",
       "1    137933  After the End of Art Contemporary Art and the ...   \n",
       "2     52374            Against Interpretation and Other Essays   \n",
       "3    140987             Air Guitar Essays on Art and Democracy   \n",
       "4     51245                                    Amphigorey Also   \n",
       "\n",
       "                                              Genres           Author  Rating  \\\n",
       "0  ['picture-books', 'biography', 'art', 'nonfict...       Jen Bryant    3.87   \n",
       "1  ['art', 'philosophy', 'nonfiction', 'art-histo...  Arthur C. Danto    4.03   \n",
       "2  ['essays', 'nonfiction', 'philosophy', 'art', ...     Susan Sontag    4.13   \n",
       "3  ['art', 'nonfiction', 'essays', 'music', 'crit...      Dave Hickey    4.08   \n",
       "4  ['art', 'humor', 'graphic-novels', 'comics', '...     Edward Gorey    4.40   \n",
       "\n",
       "      Publish_Date  Page_Num  \\\n",
       "0  January 8, 2013        34   \n",
       "1  January 1, 1997       264   \n",
       "2  January 1, 1966       312   \n",
       "3   August 2, 1997       208   \n",
       "4  January 1, 1983       256   \n",
       "\n",
       "                                               Award  \\\n",
       "0  ['schneider_family_book_award', 'vermonts_pict...   \n",
       "1                                             ['no']   \n",
       "2                   ['national_book_award_finalist']   \n",
       "3                                             ['no']   \n",
       "4                                             ['no']   \n",
       "\n",
       "                                         Description  \\\n",
       "0  As a child in the late 1800s, Horace Pippin lo...   \n",
       "1  Over a decade ago, Arthur Danto announced that...   \n",
       "2  Against Interpretation was Susan Sontag's firs...   \n",
       "3  The 23 essays (or \"love songs\") that make up t...   \n",
       "4  Contents: The Utter Zoo, The Blue Aspic, The E...   \n",
       "\n",
       "                                         Author_Desc  ...  AddedShelf  ToRead  \\\n",
       "0  Jen Bryant (Jennifer Fisher Bryant) writes pic...  ...        8832    2979   \n",
       "1  Arthur C. Danto was Johnsonian Professor Emeri...  ...        3176    1946   \n",
       "2  Susan Sontag was born in New York City on Janu...  ...       38314   26588   \n",
       "3  David Hickey (born circa 1939) is an American ...  ...        5670    2929   \n",
       "4  Born in Chicago, Gorey came from a colourful f...  ...        7502    1238   \n",
       "\n",
       "   added_median  ratings_median  reviews_median  to-read_median  added_IQR  \\\n",
       "0           0.0             0.0             0.0             0.0       1.00   \n",
       "1           1.0             0.0             0.0             0.0       1.00   \n",
       "2          19.0             2.0             0.0            14.0       9.75   \n",
       "3           1.0             0.0             0.0             0.0       1.00   \n",
       "4           1.0             0.0             0.0             0.0       1.00   \n",
       "\n",
       "   ratings_IQR  reviews_IQR  to-read_IQR  \n",
       "0          0.0          0.0         0.00  \n",
       "1          0.0          0.0         1.00  \n",
       "2          2.0          0.0         7.75  \n",
       "3          0.0          0.0         1.00  \n",
       "4          1.0          0.0         1.00  \n",
       "\n",
       "[5 rows x 30 columns]"
      ]
     },
     "execution_count": 84,
     "metadata": {},
     "output_type": "execute_result"
    }
   ],
   "source": [
    "books_selected = pd.read_csv('./Datasets/Rec_models_datasets/Selected_book_info.csv')\n",
    "books_selected.head(5)"
   ]
  },
  {
   "cell_type": "code",
   "execution_count": 114,
   "id": "98b1f1dc",
   "metadata": {},
   "outputs": [],
   "source": [
    "from ast import literal_eval\n",
    "\n",
    "# Turn 'list-like' string data into lists\n",
    "books_selected['Genres'] = books_selected['Genres'].apply(lambda x: literal_eval(x) if \"[\" in x else x)\n",
    "books_selected['Award'] = books_selected['Award'].apply(lambda x: literal_eval(x) if \"[\" in x else x)"
   ]
  },
  {
   "cell_type": "code",
   "execution_count": 10,
   "id": "9bef0a0b",
   "metadata": {
    "colab": {
     "base_uri": "https://localhost:8080/",
     "height": 337
    },
    "executionInfo": {
     "elapsed": 1667,
     "status": "ok",
     "timestamp": 1678151078687,
     "user": {
      "displayName": "Xinlin Huang",
      "userId": "16066583170481102313"
     },
     "user_tz": 480
    },
    "id": "5Pwz4q1GjEcl",
    "outputId": "bd6904d0-243f-4e46-822d-c4cbc18e4670"
   },
   "outputs": [
    {
     "data": {
      "text/html": [
       "<div>\n",
       "<style scoped>\n",
       "    .dataframe tbody tr th:only-of-type {\n",
       "        vertical-align: middle;\n",
       "    }\n",
       "\n",
       "    .dataframe tbody tr th {\n",
       "        vertical-align: top;\n",
       "    }\n",
       "\n",
       "    .dataframe thead th {\n",
       "        text-align: right;\n",
       "    }\n",
       "</style>\n",
       "<table border=\"1\" class=\"dataframe\">\n",
       "  <thead>\n",
       "    <tr style=\"text-align: right;\">\n",
       "      <th></th>\n",
       "      <th>Uid</th>\n",
       "      <th>Title</th>\n",
       "      <th>UserID</th>\n",
       "      <th>Reviewer</th>\n",
       "      <th>Review_Rating</th>\n",
       "      <th>N_Review</th>\n",
       "      <th>N_Follower</th>\n",
       "      <th>Review_Date</th>\n",
       "      <th>Content</th>\n",
       "      <th>N_Likes</th>\n",
       "      <th>N_Comments</th>\n",
       "    </tr>\n",
       "  </thead>\n",
       "  <tbody>\n",
       "    <tr>\n",
       "      <th>0</th>\n",
       "      <td>13642600</td>\n",
       "      <td>A Splash of Red The Life and Art of Horace Pippin</td>\n",
       "      <td>192</td>\n",
       "      <td>Abigail</td>\n",
       "      <td>4</td>\n",
       "      <td>7086</td>\n",
       "      <td>173</td>\n",
       "      <td>February 20, 2021</td>\n",
       "      <td>Author Jen Bryant and illustrator Melissa Swee...</td>\n",
       "      <td>3</td>\n",
       "      <td>2</td>\n",
       "    </tr>\n",
       "    <tr>\n",
       "      <th>1</th>\n",
       "      <td>13642600</td>\n",
       "      <td>A Splash of Red The Life and Art of Horace Pippin</td>\n",
       "      <td>17464</td>\n",
       "      <td>Michelle</td>\n",
       "      <td>4</td>\n",
       "      <td>301</td>\n",
       "      <td>38</td>\n",
       "      <td>July 10, 2013</td>\n",
       "      <td>Audience: PrimaryGenre: Non-Fiction/Informatio...</td>\n",
       "      <td>3</td>\n",
       "      <td>0</td>\n",
       "    </tr>\n",
       "    <tr>\n",
       "      <th>2</th>\n",
       "      <td>137933</td>\n",
       "      <td>After the End of Art Contemporary Art and the ...</td>\n",
       "      <td>17298</td>\n",
       "      <td>Michael</td>\n",
       "      <td>5</td>\n",
       "      <td>718</td>\n",
       "      <td>969</td>\n",
       "      <td>November 14, 2007</td>\n",
       "      <td>As I recall, a great book despite my predilect...</td>\n",
       "      <td>1</td>\n",
       "      <td>1</td>\n",
       "    </tr>\n",
       "    <tr>\n",
       "      <th>3</th>\n",
       "      <td>137933</td>\n",
       "      <td>After the End of Art Contemporary Art and the ...</td>\n",
       "      <td>13002</td>\n",
       "      <td>Kate</td>\n",
       "      <td>5</td>\n",
       "      <td>396</td>\n",
       "      <td>316</td>\n",
       "      <td>January 7, 2008</td>\n",
       "      <td>Changed entirely how I think about art. It sta...</td>\n",
       "      <td>1</td>\n",
       "      <td>0</td>\n",
       "    </tr>\n",
       "    <tr>\n",
       "      <th>4</th>\n",
       "      <td>52374</td>\n",
       "      <td>Against Interpretation and Other Essays</td>\n",
       "      <td>17298</td>\n",
       "      <td>Michael</td>\n",
       "      <td>4</td>\n",
       "      <td>718</td>\n",
       "      <td>969</td>\n",
       "      <td>March 16, 2020</td>\n",
       "      <td>A wide-ranging debut collection of essays on a...</td>\n",
       "      <td>67</td>\n",
       "      <td>2</td>\n",
       "    </tr>\n",
       "  </tbody>\n",
       "</table>\n",
       "</div>"
      ],
      "text/plain": [
       "        Uid                                              Title  UserID  \\\n",
       "0  13642600  A Splash of Red The Life and Art of Horace Pippin     192   \n",
       "1  13642600  A Splash of Red The Life and Art of Horace Pippin   17464   \n",
       "2    137933  After the End of Art Contemporary Art and the ...   17298   \n",
       "3    137933  After the End of Art Contemporary Art and the ...   13002   \n",
       "4     52374            Against Interpretation and Other Essays   17298   \n",
       "\n",
       "   Reviewer  Review_Rating  N_Review  N_Follower        Review_Date  \\\n",
       "0   Abigail              4      7086         173  February 20, 2021   \n",
       "1  Michelle              4       301          38      July 10, 2013   \n",
       "2   Michael              5       718         969  November 14, 2007   \n",
       "3      Kate              5       396         316    January 7, 2008   \n",
       "4   Michael              4       718         969     March 16, 2020   \n",
       "\n",
       "                                             Content  N_Likes  N_Comments  \n",
       "0  Author Jen Bryant and illustrator Melissa Swee...        3           2  \n",
       "1  Audience: PrimaryGenre: Non-Fiction/Informatio...        3           0  \n",
       "2  As I recall, a great book despite my predilect...        1           1  \n",
       "3  Changed entirely how I think about art. It sta...        1           0  \n",
       "4  A wide-ranging debut collection of essays on a...       67           2  "
      ]
     },
     "execution_count": 10,
     "metadata": {},
     "output_type": "execute_result"
    }
   ],
   "source": [
    "interactions_df = pd.read_csv('./Datasets/Rec_models_datasets/User_interaction.csv')\n",
    "interactions_df.head(5)"
   ]
  },
  {
   "cell_type": "markdown",
   "id": "25cfd624",
   "metadata": {},
   "source": [
    "#### Train & test split"
   ]
  },
  {
   "cell_type": "code",
   "execution_count": 12,
   "id": "6e66ce9e",
   "metadata": {
    "colab": {
     "base_uri": "https://localhost:8080/"
    },
    "executionInfo": {
     "elapsed": 241,
     "status": "ok",
     "timestamp": 1678151082661,
     "user": {
      "displayName": "Xinlin Huang",
      "userId": "16066583170481102313"
     },
     "user_tz": 480
    },
    "id": "E5Sp9SlCSXqx",
    "outputId": "92915236-d4ee-4f09-ce86-f565d94cc3b7"
   },
   "outputs": [
    {
     "name": "stdout",
     "output_type": "stream",
     "text": [
      "# interactions on Train set: 29249\n",
      "# interactions on Test set: 7313\n"
     ]
    }
   ],
   "source": [
    "from sklearn.model_selection import train_test_split\n",
    "\n",
    "interactions_train_df, interactions_test_df = train_test_split(interactions_df,\n",
    "                                   stratify=interactions_df['UserID'], \n",
    "                                   test_size=0.20,\n",
    "                                   random_state=42)\n",
    "\n",
    "print('# interactions on Train set: %d' % len(interactions_train_df))\n",
    "print('# interactions on Test set: %d' % len(interactions_test_df))"
   ]
  },
  {
   "cell_type": "code",
   "execution_count": 13,
   "id": "aba2b573",
   "metadata": {
    "executionInfo": {
     "elapsed": 239,
     "status": "ok",
     "timestamp": 1678151086376,
     "user": {
      "displayName": "Xinlin Huang",
      "userId": "16066583170481102313"
     },
     "user_tz": 480
    },
    "id": "_34V26dKSXtI"
   },
   "outputs": [],
   "source": [
    "# Indexing by 'UserID' to speed up the searches during evaluation\n",
    "\n",
    "interactions_full_indexed_df = interactions_df.set_index('UserID')\n",
    "interactions_train_indexed_df = interactions_train_df.set_index('UserID')\n",
    "interactions_test_indexed_df = interactions_test_df.set_index('UserID')"
   ]
  },
  {
   "cell_type": "markdown",
   "id": "6e7b9976",
   "metadata": {
    "_cell_guid": "be788cfc-2733-4184-8dfb-24d789e3b7da",
    "_uuid": "9a1ce40c5b2b7f89c2e34a8fce1adbeb0cfabf46"
   },
   "source": [
    "#### Evaluation - Top-N accuracy metrics\n",
    "\n",
    "We use the **Top-N accuracy metrics** to evaluate our recommendation models' performance:\n",
    "- Accuracy of the top recommendations provided to a user, comparing to the items the user has actually interacted in test set \n",
    "\n",
    "**<u>Pseudo code</u>**:\n",
    "* For each user:\n",
    "    * For each item the user has interacted in test set:\n",
    "        * Sample 100 other items the user has **never interacted**;\n",
    "        * Recommendation model produces a ranked list of items, from a set composed 1 interacted item and other 100 non-interacted items;\n",
    "        * Compute the Top-N accuracy metrics for this user and interacted item from the recommendations ranked list\n",
    "* Aggregate the ***global*** Top-N accuracy metrics"
   ]
  },
  {
   "cell_type": "markdown",
   "id": "461cd397",
   "metadata": {
    "_cell_guid": "a6f711db-3848-42de-9cb1-8adbe9fffbbd",
    "_uuid": "cb9da9e9269f20d347c9a7d0320da02f5b5d9cda"
   },
   "source": [
    "Here we use **Recall@N**: whether the interacted item is among the top N items (*hit*) in the ranked list of 101 recommendations for a user\n",
    "- **Metrics**: Recall@5 and Recall@10\n",
    "- E.g. Recall@5: For one user, if we have 100 randomly selected books, the percentage of the interacted books in the test set will be ranked among the top 5 books by the model"
   ]
  },
  {
   "cell_type": "code",
   "execution_count": 31,
   "id": "b174d9bf",
   "metadata": {
    "executionInfo": {
     "elapsed": 333,
     "status": "ok",
     "timestamp": 1678151090687,
     "user": {
      "displayName": "Xinlin Huang",
      "userId": "16066583170481102313"
     },
     "user_tz": 480
    },
    "id": "hznTAVJnSXvk"
   },
   "outputs": [],
   "source": [
    "# Get all bookIDs that the given user has interacted with \n",
    "\n",
    "def get_items_interacted(person_id, interactions_df):\n",
    "    \n",
    "    interacted_items = interactions_df.loc[person_id]['Uid']  # interacted (books') Uids\n",
    "    \n",
    "    return set(interacted_items if type(interacted_items) == pd.Series else [interacted_items])"
   ]
  },
  {
   "cell_type": "code",
   "execution_count": 33,
   "id": "9353fe7c",
   "metadata": {
    "executionInfo": {
     "elapsed": 242,
     "status": "ok",
     "timestamp": 1678151093726,
     "user": {
      "displayName": "Xinlin Huang",
      "userId": "16066583170481102313"
     },
     "user_tz": 480
    },
    "id": "QmPJgeCiSXxy"
   },
   "outputs": [],
   "source": [
    "# number of non-interacted items to be combined together for test\n",
    "EVAL_RANDOM_SAMPLE_NON_INTERACTED_ITEMS = 100\n",
    "\n",
    "class ModelEvaluator:\n",
    "\n",
    "    def get_not_interacted_items_sample(self, person_id, sample_size, seed=42):\n",
    "        interacted_items = get_items_interacted(person_id, interactions_full_indexed_df)\n",
    "        all_items = set(books_selected['Uid'])\n",
    "        non_interacted_items = all_items - interacted_items\n",
    "\n",
    "        random.seed(seed)\n",
    "        \n",
    "        # Supress depreciation warning. random.sample will lose support for Sets, \n",
    "        # should be convereted to a list or tuple instead\n",
    "        with warnings.catch_warnings():\n",
    "            warnings.filterwarnings(\"ignore\")\n",
    "            non_interacted_items_sample = random.sample(non_interacted_items, sample_size) \n",
    "        \n",
    "        return set(non_interacted_items_sample)\n",
    "\n",
    "    def _verify_hit_top_n(self, item_id, recommended_items, topn):        \n",
    "            try:\n",
    "                index = next(i for i, c in enumerate(recommended_items) if c == item_id)\n",
    "            except:\n",
    "                index = -1\n",
    "            hit = int(index in range(0, topn))\n",
    "            return hit, index\n",
    "\n",
    "    def evaluate_model_for_user(self, model, person_id):\n",
    "        # Getting the items in test set\n",
    "        interacted_values_testset = interactions_test_indexed_df.loc[person_id]\n",
    "        if type(interacted_values_testset['Uid']) == pd.Series:\n",
    "            person_interacted_items_testset = set(interacted_values_testset['Uid'])\n",
    "        else:\n",
    "            person_interacted_items_testset = set([int(interacted_values_testset['Uid'])])  \n",
    "        interacted_items_count_testset = len(person_interacted_items_testset) \n",
    "\n",
    "        # Getting a ranked recommendation list from a model for a given user\n",
    "        person_recs_df = model.recommend_items(person_id, \n",
    "                                               items_to_ignore=get_items_interacted(person_id, interactions_train_indexed_df), \n",
    "                                               topn=10000000000)\n",
    "\n",
    "        hits_at_5_count = 0\n",
    "        hits_at_10_count = 0\n",
    "        \n",
    "        # For each item the user has interacted in test set\n",
    "        for item_id in person_interacted_items_testset:\n",
    "            # Getting a random sample (100) items the user has not interacted \n",
    "            non_interacted_items_sample = self.get_not_interacted_items_sample(person_id, \n",
    "                                                                          sample_size=EVAL_RANDOM_SAMPLE_NON_INTERACTED_ITEMS, \n",
    "                                                                          seed=item_id%(2**32))\n",
    "\n",
    "            # Combining the current interacted item with the 100 random items\n",
    "            items_to_filter_recs = non_interacted_items_sample.union(set([item_id]))\n",
    "\n",
    "            # Filtering only recommendations that are either the interacted item \n",
    "            # or from a random sample of 100 non-interacted items\n",
    "            valid_recs_df = person_recs_df[person_recs_df['Uid'].isin(items_to_filter_recs)]                    \n",
    "            valid_recs = valid_recs_df['Uid'].values\n",
    "            \n",
    "            # Verifying if the current interacted item is among the Top-N recommended items\n",
    "            hit_at_5, index_at_5 = self._verify_hit_top_n(item_id, valid_recs, 5)\n",
    "            hits_at_5_count += hit_at_5\n",
    "            hit_at_10, index_at_10 = self._verify_hit_top_n(item_id, valid_recs, 10)\n",
    "            hits_at_10_count += hit_at_10\n",
    "\n",
    "        # Recall is the rate of the interacted items that are ranked among the Top-N recommended items\n",
    "        recall_at_5 = hits_at_5_count / float(interacted_items_count_testset)\n",
    "        recall_at_10 = hits_at_10_count / float(interacted_items_count_testset)\n",
    "\n",
    "        person_metrics = {'hits@5_count':hits_at_5_count, \n",
    "                          'hits@10_count':hits_at_10_count, \n",
    "                          'interacted_count': interacted_items_count_testset,\n",
    "                          'recall@5': recall_at_5,\n",
    "                          'recall@10': recall_at_10}\n",
    "        return person_metrics\n",
    "\n",
    "    def evaluate_model(self, model):\n",
    "        # print('Running evaluation for users')\n",
    "        people_metrics = []\n",
    "        for idx, person_id in enumerate(list(interactions_test_indexed_df.index.unique().values)):\n",
    "            person_metrics = self.evaluate_model_for_user(model, person_id)  \n",
    "            person_metrics['_person_id'] = person_id\n",
    "            \n",
    "            people_metrics.append(person_metrics) # append into a complete list\n",
    "\n",
    "        detailed_results_df = pd.DataFrame(people_metrics) \\\n",
    "                            .sort_values('interacted_count', ascending=False)\n",
    "        \n",
    "        # Global metrics for all users\n",
    "        global_recall_at_5 = detailed_results_df['hits@5_count'].sum() / float(detailed_results_df['interacted_count'].sum())\n",
    "        global_recall_at_10 = detailed_results_df['hits@10_count'].sum() / float(detailed_results_df['interacted_count'].sum())\n",
    "        \n",
    "        global_metrics = {'modelName': model.get_model_name(),\n",
    "                          'recall@5': global_recall_at_5,\n",
    "                          'recall@10': global_recall_at_10} \n",
    "        \n",
    "        return global_metrics, detailed_results_df"
   ]
  },
  {
   "cell_type": "code",
   "execution_count": 34,
   "id": "d4bef37d",
   "metadata": {},
   "outputs": [],
   "source": [
    "model_evaluator = ModelEvaluator()  "
   ]
  },
  {
   "cell_type": "markdown",
   "id": "c4eb8870",
   "metadata": {},
   "source": [
    "### 2.1 &nbsp; Popularity Model (Baseline)"
   ]
  },
  {
   "cell_type": "markdown",
   "id": "80fb7c9b",
   "metadata": {
    "_cell_guid": "4e6ee0fc-a695-4e0e-8548-321109f2a6fb",
    "_uuid": "a1af9bca32a056b9ea7e265531dfd52bad29c0b5"
   },
   "source": [
    "This model is not actually personalized - it simply recommends to a user ***the most popular items that the user has not previously consumed***. \n",
    "- As the popularity accounts for the \"wisdom of the crowds\", it usually provides good recommendations, generally interesting for most people;\n",
    "\n",
    "- But the main objective of a recommender system is to leverage the ***long-tail items*** to the users with very specific interests, which goes far beyond this simple technique. So we will use this model as a **baseline**."
   ]
  },
  {
   "cell_type": "code",
   "execution_count": 35,
   "id": "6ff97e61",
   "metadata": {
    "colab": {
     "base_uri": "https://localhost:8080/",
     "height": 363
    },
    "executionInfo": {
     "elapsed": 321,
     "status": "ok",
     "timestamp": 1678151267065,
     "user": {
      "displayName": "Xinlin Huang",
      "userId": "16066583170481102313"
     },
     "user_tz": 480
    },
    "id": "S4NyX59cSX2w",
    "outputId": "5c873751-1959-498b-ffe9-609a40fb9da2"
   },
   "outputs": [
    {
     "data": {
      "text/html": [
       "<div>\n",
       "<style scoped>\n",
       "    .dataframe tbody tr th:only-of-type {\n",
       "        vertical-align: middle;\n",
       "    }\n",
       "\n",
       "    .dataframe tbody tr th {\n",
       "        vertical-align: top;\n",
       "    }\n",
       "\n",
       "    .dataframe thead th {\n",
       "        text-align: right;\n",
       "    }\n",
       "</style>\n",
       "<table border=\"1\" class=\"dataframe\">\n",
       "  <thead>\n",
       "    <tr style=\"text-align: right;\">\n",
       "      <th></th>\n",
       "      <th>Uid</th>\n",
       "      <th>Review_Rating</th>\n",
       "    </tr>\n",
       "  </thead>\n",
       "  <tbody>\n",
       "    <tr>\n",
       "      <th>0</th>\n",
       "      <td>36576608</td>\n",
       "      <td>87</td>\n",
       "    </tr>\n",
       "    <tr>\n",
       "      <th>1</th>\n",
       "      <td>464260</td>\n",
       "      <td>73</td>\n",
       "    </tr>\n",
       "    <tr>\n",
       "      <th>2</th>\n",
       "      <td>11588</td>\n",
       "      <td>71</td>\n",
       "    </tr>\n",
       "    <tr>\n",
       "      <th>3</th>\n",
       "      <td>17899948</td>\n",
       "      <td>71</td>\n",
       "    </tr>\n",
       "    <tr>\n",
       "      <th>4</th>\n",
       "      <td>53799686</td>\n",
       "      <td>69</td>\n",
       "    </tr>\n",
       "    <tr>\n",
       "      <th>5</th>\n",
       "      <td>96358</td>\n",
       "      <td>69</td>\n",
       "    </tr>\n",
       "    <tr>\n",
       "      <th>6</th>\n",
       "      <td>18386</td>\n",
       "      <td>68</td>\n",
       "    </tr>\n",
       "    <tr>\n",
       "      <th>7</th>\n",
       "      <td>7126</td>\n",
       "      <td>68</td>\n",
       "    </tr>\n",
       "    <tr>\n",
       "      <th>8</th>\n",
       "      <td>5907</td>\n",
       "      <td>67</td>\n",
       "    </tr>\n",
       "    <tr>\n",
       "      <th>9</th>\n",
       "      <td>36373463</td>\n",
       "      <td>67</td>\n",
       "    </tr>\n",
       "  </tbody>\n",
       "</table>\n",
       "</div>"
      ],
      "text/plain": [
       "        Uid  Review_Rating\n",
       "0  36576608             87\n",
       "1    464260             73\n",
       "2     11588             71\n",
       "3  17899948             71\n",
       "4  53799686             69\n",
       "5     96358             69\n",
       "6     18386             68\n",
       "7      7126             68\n",
       "8      5907             67\n",
       "9  36373463             67"
      ]
     },
     "execution_count": 35,
     "metadata": {},
     "output_type": "execute_result"
    }
   ],
   "source": [
    "# Computes the most popular items\n",
    "item_popularity_df = interactions_df.groupby('Uid')['Review_Rating'].sum().sort_values(ascending=False).reset_index()\n",
    "item_popularity_df.head(10)"
   ]
  },
  {
   "cell_type": "code",
   "execution_count": 36,
   "id": "f3cdbf85",
   "metadata": {
    "executionInfo": {
     "elapsed": 241,
     "status": "ok",
     "timestamp": 1678154081066,
     "user": {
      "displayName": "Xinlin Huang",
      "userId": "16066583170481102313"
     },
     "user_tz": 480
    },
    "id": "9SDvhr5znDCl"
   },
   "outputs": [],
   "source": [
    "class PopularityRecommender:\n",
    "    \n",
    "    MODEL_NAME = 'Popularity'\n",
    "    \n",
    "    def __init__(self, popularity_df, items_df=None):\n",
    "        self.popularity_df = popularity_df\n",
    "        self.items_df = items_df\n",
    "        \n",
    "    def get_model_name(self):\n",
    "        return self.MODEL_NAME\n",
    "        \n",
    "    def recommend_items(self, user_id, items_to_ignore=[], topn=10, verbose=False):\n",
    "        # Recommend the more popular items that the user hasn't seen yet.\n",
    "        recommendations_df = self.popularity_df[~self.popularity_df['Uid'].isin(items_to_ignore)] \\\n",
    "                               .sort_values('Review_Rating', ascending = False) \\\n",
    "                               .head(topn)\n",
    "\n",
    "        if verbose:\n",
    "            if self.items_df is None:\n",
    "                raise Exception('\"items_df\" is required in verbose mode')\n",
    "\n",
    "            recommendations_df = recommendations_df.merge(self.items_df, how = 'left', \n",
    "                                                          left_on = 'Uid', right_on = 'Uid')[['Review_Rating', 'Uid', 'Title']]\n",
    "\n",
    "        return recommendations_df"
   ]
  },
  {
   "cell_type": "markdown",
   "id": "fdcabb90",
   "metadata": {},
   "source": [
    "#### Initialize an instance for Popularity model"
   ]
  },
  {
   "cell_type": "code",
   "execution_count": 37,
   "id": "395b9b89",
   "metadata": {},
   "outputs": [],
   "source": [
    "popularity_model = PopularityRecommender(item_popularity_df, books_selected)"
   ]
  },
  {
   "cell_type": "code",
   "execution_count": 38,
   "id": "8ada3519",
   "metadata": {
    "colab": {
     "base_uri": "https://localhost:8080/",
     "height": 452
    },
    "executionInfo": {
     "elapsed": 25845,
     "status": "ok",
     "timestamp": 1678154109566,
     "user": {
      "displayName": "Xinlin Huang",
      "userId": "16066583170481102313"
     },
     "user_tz": 480
    },
    "id": "t4kmBnpUnYsg",
    "outputId": "11e4c5fa-d2cd-4b82-a284-6a16af77325e"
   },
   "outputs": [
    {
     "name": "stdout",
     "output_type": "stream",
     "text": [
      "Evaluating Popularity recommendation model...\n",
      "448 users processed\n",
      "\n",
      "Global metrics:\n",
      "{'modelName': 'Popularity', 'recall@5': 0.12457267879119377, 'recall@10': 0.2261725693969643}\n"
     ]
    },
    {
     "data": {
      "text/html": [
       "<div>\n",
       "<style scoped>\n",
       "    .dataframe tbody tr th:only-of-type {\n",
       "        vertical-align: middle;\n",
       "    }\n",
       "\n",
       "    .dataframe tbody tr th {\n",
       "        vertical-align: top;\n",
       "    }\n",
       "\n",
       "    .dataframe thead th {\n",
       "        text-align: right;\n",
       "    }\n",
       "</style>\n",
       "<table border=\"1\" class=\"dataframe\">\n",
       "  <thead>\n",
       "    <tr style=\"text-align: right;\">\n",
       "      <th></th>\n",
       "      <th>hits@5_count</th>\n",
       "      <th>hits@10_count</th>\n",
       "      <th>interacted_count</th>\n",
       "      <th>recall@5</th>\n",
       "      <th>recall@10</th>\n",
       "      <th>_person_id</th>\n",
       "    </tr>\n",
       "  </thead>\n",
       "  <tbody>\n",
       "    <tr>\n",
       "      <th>76</th>\n",
       "      <td>20</td>\n",
       "      <td>33</td>\n",
       "      <td>76</td>\n",
       "      <td>0.263158</td>\n",
       "      <td>0.434211</td>\n",
       "      <td>15602</td>\n",
       "    </tr>\n",
       "    <tr>\n",
       "      <th>40</th>\n",
       "      <td>14</td>\n",
       "      <td>26</td>\n",
       "      <td>70</td>\n",
       "      <td>0.200000</td>\n",
       "      <td>0.371429</td>\n",
       "      <td>17161</td>\n",
       "    </tr>\n",
       "    <tr>\n",
       "      <th>21</th>\n",
       "      <td>9</td>\n",
       "      <td>24</td>\n",
       "      <td>69</td>\n",
       "      <td>0.130435</td>\n",
       "      <td>0.347826</td>\n",
       "      <td>2557</td>\n",
       "    </tr>\n",
       "    <tr>\n",
       "      <th>7</th>\n",
       "      <td>10</td>\n",
       "      <td>20</td>\n",
       "      <td>63</td>\n",
       "      <td>0.158730</td>\n",
       "      <td>0.317460</td>\n",
       "      <td>1863</td>\n",
       "    </tr>\n",
       "    <tr>\n",
       "      <th>92</th>\n",
       "      <td>15</td>\n",
       "      <td>26</td>\n",
       "      <td>63</td>\n",
       "      <td>0.238095</td>\n",
       "      <td>0.412698</td>\n",
       "      <td>7740</td>\n",
       "    </tr>\n",
       "    <tr>\n",
       "      <th>45</th>\n",
       "      <td>12</td>\n",
       "      <td>22</td>\n",
       "      <td>62</td>\n",
       "      <td>0.193548</td>\n",
       "      <td>0.354839</td>\n",
       "      <td>26336</td>\n",
       "    </tr>\n",
       "    <tr>\n",
       "      <th>193</th>\n",
       "      <td>21</td>\n",
       "      <td>30</td>\n",
       "      <td>62</td>\n",
       "      <td>0.338710</td>\n",
       "      <td>0.483871</td>\n",
       "      <td>22026</td>\n",
       "    </tr>\n",
       "    <tr>\n",
       "      <th>57</th>\n",
       "      <td>14</td>\n",
       "      <td>16</td>\n",
       "      <td>61</td>\n",
       "      <td>0.229508</td>\n",
       "      <td>0.262295</td>\n",
       "      <td>421</td>\n",
       "    </tr>\n",
       "    <tr>\n",
       "      <th>287</th>\n",
       "      <td>21</td>\n",
       "      <td>31</td>\n",
       "      <td>60</td>\n",
       "      <td>0.350000</td>\n",
       "      <td>0.516667</td>\n",
       "      <td>16300</td>\n",
       "    </tr>\n",
       "    <tr>\n",
       "      <th>27</th>\n",
       "      <td>19</td>\n",
       "      <td>30</td>\n",
       "      <td>56</td>\n",
       "      <td>0.339286</td>\n",
       "      <td>0.535714</td>\n",
       "      <td>16765</td>\n",
       "    </tr>\n",
       "  </tbody>\n",
       "</table>\n",
       "</div>"
      ],
      "text/plain": [
       "     hits@5_count  hits@10_count  interacted_count  recall@5  recall@10  \\\n",
       "76             20             33                76  0.263158   0.434211   \n",
       "40             14             26                70  0.200000   0.371429   \n",
       "21              9             24                69  0.130435   0.347826   \n",
       "7              10             20                63  0.158730   0.317460   \n",
       "92             15             26                63  0.238095   0.412698   \n",
       "45             12             22                62  0.193548   0.354839   \n",
       "193            21             30                62  0.338710   0.483871   \n",
       "57             14             16                61  0.229508   0.262295   \n",
       "287            21             31                60  0.350000   0.516667   \n",
       "27             19             30                56  0.339286   0.535714   \n",
       "\n",
       "     _person_id  \n",
       "76        15602  \n",
       "40        17161  \n",
       "21         2557  \n",
       "7          1863  \n",
       "92         7740  \n",
       "45        26336  \n",
       "193       22026  \n",
       "57          421  \n",
       "287       16300  \n",
       "27        16765  "
      ]
     },
     "execution_count": 38,
     "metadata": {},
     "output_type": "execute_result"
    }
   ],
   "source": [
    "print('Evaluating Popularity recommendation model...')\n",
    "pop_global_metrics, pop_detailed_results_df = model_evaluator.evaluate_model(popularity_model)\n",
    "\n",
    "print('\\nGlobal metrics:\\n%s' % pop_global_metrics)\n",
    "pop_detailed_results_df.head(10)"
   ]
  },
  {
   "cell_type": "markdown",
   "id": "300204c1",
   "metadata": {},
   "source": [
    "### 2.2 &nbsp; Content-based Filtering"
   ]
  },
  {
   "cell_type": "markdown",
   "id": "0a3a38ee",
   "metadata": {
    "_cell_guid": "20749719-df2b-41ed-970d-a682777d26bd",
    "_uuid": "cd82970851a3b35155770dc48c85f8721f970df9"
   },
   "source": [
    "Content-based filtering approaches leverage description or attributes from items the user has interacted to recommend ***similar items***. \n",
    "- It builds ***users' profiles (tastes)*** depending only on the user previous choices, making this method robust to avoid the *cold-start* problem.\n",
    "\n",
    "Here we are using a very popular technique in information retrieval (search engines) named [**TF-IDF**](https://en.wikipedia.org/wiki/Tf%E2%80%93idf):\n",
    "- This technique converts unstructured text into a vector structure, where each word is represented by a position in the vector, and the value measures ***how relevant a given word is for a book***;\n",
    "- As all items will be represented in the same [Vector Space Model](https://en.wikipedia.org/wiki/Vector_space_model), we will compute ***cosine similarity*** between books."
   ]
  },
  {
   "cell_type": "code",
   "execution_count": null,
   "id": "d321348e",
   "metadata": {},
   "outputs": [],
   "source": [
    "import scipy\n",
    "from sklearn.preprocessing import MinMaxScaler, normalize\n",
    "from sklearn.metrics.pairwise import cosine_similarity"
   ]
  },
  {
   "cell_type": "markdown",
   "id": "d6bcc2b4",
   "metadata": {},
   "source": [
    "#### Check NaN values in `Description`"
   ]
  },
  {
   "cell_type": "code",
   "execution_count": 87,
   "id": "830fd65a",
   "metadata": {},
   "outputs": [
    {
     "name": "stdout",
     "output_type": "stream",
     "text": [
      "There is at least one NaN value in the 'Description' column.\n"
     ]
    }
   ],
   "source": [
    "if books_selected['Description'].isnull().any():\n",
    "    print(\"There is at least one NaN value in the 'Description' column.\")\n",
    "else:\n",
    "    print(\"There are no NaN values in the 'Description' column.\")"
   ]
  },
  {
   "cell_type": "markdown",
   "id": "c73f68ca",
   "metadata": {},
   "source": [
    "#### To cover these missing book descriptions, we choose to use each book's  `Title` + `Genres` + `Description`as its textual information `BookText` for constructing the words' vector space"
   ]
  },
  {
   "cell_type": "code",
   "execution_count": 115,
   "id": "335a560a",
   "metadata": {},
   "outputs": [],
   "source": [
    "for index, row in books_selected.iterrows():\n",
    "    genre = ' '.join([str(i) for i in row['Genres']])\n",
    "    \n",
    "    book_desc = row['Description']\n",
    "#     author_desc = row['Author_Desc']\n",
    "    if isinstance(book_desc, float):\n",
    "        text  = row['Title'] + genre\n",
    "    else:\n",
    "        text = row['Title'] + genre + book_desc\n",
    "    \n",
    "    # replace missing 'Description'\n",
    "    books_selected.loc[index, 'BookText'] = text"
   ]
  },
  {
   "cell_type": "markdown",
   "id": "974c1e0d",
   "metadata": {},
   "source": [
    "#### Train word vectors based on book texts data"
   ]
  },
  {
   "cell_type": "code",
   "execution_count": 122,
   "id": "a59f96ba",
   "metadata": {},
   "outputs": [],
   "source": [
    "from nltk.corpus import stopwords\n",
    "from sklearn.feature_extraction.text import TfidfVectorizer\n",
    "\n",
    "# Stopwords (words with no semantics) from English\n",
    "stopwords_list = stopwords.words('english') + ['book', 'books']\n",
    "\n",
    "# Trains a model whose vectors size is 5000, composed by the main unigrams \n",
    "# and bigrams found in the corpus, ignoring stopwords\n",
    "vectorizer = TfidfVectorizer(analyzer='word',\n",
    "                     ngram_range=(1, 2),\n",
    "                     min_df=0.003,\n",
    "                     max_df=0.5,\n",
    "                     max_features=5000,\n",
    "                     stop_words=stopwords_list)"
   ]
  },
  {
   "cell_type": "code",
   "execution_count": 123,
   "id": "fb313e4d",
   "metadata": {},
   "outputs": [
    {
     "data": {
      "text/plain": [
       "<7133x5000 sparse matrix of type '<class 'numpy.float64'>'\n",
       "\twith 484277 stored elements in Compressed Sparse Row format>"
      ]
     },
     "execution_count": 123,
     "metadata": {},
     "output_type": "execute_result"
    }
   ],
   "source": [
    "# book Uids\n",
    "item_ids = books_selected['Uid'].tolist()\n",
    "\n",
    "# vectorize book description texts\n",
    "tfidf_matrix = vectorizer.fit_transform(books_selected['BookText'])\n",
    "tfidf_feature_names = vectorizer.get_feature_names()\n",
    "tfidf_matrix"
   ]
  },
  {
   "cell_type": "markdown",
   "id": "342d8e8e",
   "metadata": {},
   "source": [
    "#### Obtain the word vector representation of a book in the same feature space as the user profiles (i.e. TF-IDF matrix)\n",
    "- Take all the book files the user has interacted with and average them weighted by user's `Review_Rating`"
   ]
  },
  {
   "cell_type": "code",
   "execution_count": 108,
   "id": "ef07a5dd",
   "metadata": {},
   "outputs": [],
   "source": [
    "def get_item_profile(item_id):\n",
    "    idx = item_ids.index(item_id)\n",
    "    item_profile = tfidf_matrix[idx:idx+1]\n",
    "    return item_profile\n",
    "\n",
    "def get_item_profiles(ids):\n",
    "    item_profiles_list = [get_item_profile(x) for x in ids]\n",
    "    item_profiles = scipy.sparse.vstack(item_profiles_list)\n",
    "    return item_profiles\n",
    "\n",
    "def build_users_profile(person_id, interactions_indexed_df):\n",
    "    interactions_person_df = interactions_indexed_df.loc[person_id]\n",
    "    user_item_profiles = get_item_profiles(interactions_person_df['Uid'])\n",
    "    \n",
    "    user_item_strengths = np.array(interactions_person_df['Review_Rating']).reshape(-1,1)\n",
    "    \n",
    "    # Weighted average of item profiles by the interactions strength, and normalized\n",
    "    user_item_strengths_weighted_avg = np.sum(user_item_profiles.multiply(user_item_strengths), axis=0) \\ \n",
    "                                                                            / np.sum(user_item_strengths)\n",
    "    user_profile_norm = normalize(user_item_strengths_weighted_avg)\n",
    "    \n",
    "    return user_profile_norm\n",
    "\n",
    "def build_users_profiles(): \n",
    "    interactions_indexed_df = interactions_train_df[interactions_train_df['Uid'] \\\n",
    "                                                   .isin(books_selected['Uid'])].set_index('UserID')\n",
    "    user_profiles = {}\n",
    "    for person_id in interactions_indexed_df.index.unique():\n",
    "        user_profiles[person_id] = build_users_profile(person_id, interactions_indexed_df)\n",
    "    return user_profiles"
   ]
  },
  {
   "cell_type": "code",
   "execution_count": 220,
   "id": "fd329dfb",
   "metadata": {},
   "outputs": [],
   "source": [
    "user_profiles = build_users_profiles()"
   ]
  },
  {
   "cell_type": "markdown",
   "id": "871d204d",
   "metadata": {},
   "source": [
    "#### We take a look at a user profile example whose name is 'Abigail' (UserID = 192)\n",
    "- The value in each position represents how relevant is a token (unigram or bigram) for the user named 'Abigail';\n",
    "- It shows that she is very interested in reading books about ***children***: \n",
    "    - Some keywords like ***bear, cat, little*** appear frequently in children's books. \n",
    "    - Also note that ***Dr. Seuss*** is a famous writer for children's literatures "
   ]
  },
  {
   "cell_type": "code",
   "execution_count": 225,
   "id": "9a97dc60",
   "metadata": {
    "scrolled": false
   },
   "outputs": [
    {
     "name": "stdout",
     "output_type": "stream",
     "text": [
      "(1, 5000)\n"
     ]
    },
    {
     "data": {
      "text/html": [
       "<div>\n",
       "<style scoped>\n",
       "    .dataframe tbody tr th:only-of-type {\n",
       "        vertical-align: middle;\n",
       "    }\n",
       "\n",
       "    .dataframe tbody tr th {\n",
       "        vertical-align: top;\n",
       "    }\n",
       "\n",
       "    .dataframe thead th {\n",
       "        text-align: right;\n",
       "    }\n",
       "</style>\n",
       "<table border=\"1\" class=\"dataframe\">\n",
       "  <thead>\n",
       "    <tr style=\"text-align: right;\">\n",
       "      <th></th>\n",
       "      <th>token</th>\n",
       "      <th>relevance</th>\n",
       "    </tr>\n",
       "  </thead>\n",
       "  <tbody>\n",
       "    <tr>\n",
       "      <th>0</th>\n",
       "      <td>children</td>\n",
       "      <td>0.422296</td>\n",
       "    </tr>\n",
       "    <tr>\n",
       "      <th>1</th>\n",
       "      <td>dr seuss</td>\n",
       "      <td>0.169196</td>\n",
       "    </tr>\n",
       "    <tr>\n",
       "      <th>2</th>\n",
       "      <td>seuss</td>\n",
       "      <td>0.169196</td>\n",
       "    </tr>\n",
       "    <tr>\n",
       "      <th>3</th>\n",
       "      <td>children fiction</td>\n",
       "      <td>0.168590</td>\n",
       "    </tr>\n",
       "    <tr>\n",
       "      <th>4</th>\n",
       "      <td>animals</td>\n",
       "      <td>0.166772</td>\n",
       "    </tr>\n",
       "    <tr>\n",
       "      <th>5</th>\n",
       "      <td>picture</td>\n",
       "      <td>0.157434</td>\n",
       "    </tr>\n",
       "    <tr>\n",
       "      <th>6</th>\n",
       "      <td>bear</td>\n",
       "      <td>0.154855</td>\n",
       "    </tr>\n",
       "    <tr>\n",
       "      <th>7</th>\n",
       "      <td>fiction</td>\n",
       "      <td>0.145833</td>\n",
       "    </tr>\n",
       "    <tr>\n",
       "      <th>8</th>\n",
       "      <td>fiction classics</td>\n",
       "      <td>0.124478</td>\n",
       "    </tr>\n",
       "    <tr>\n",
       "      <th>9</th>\n",
       "      <td>dr</td>\n",
       "      <td>0.123242</td>\n",
       "    </tr>\n",
       "    <tr>\n",
       "      <th>10</th>\n",
       "      <td>classics</td>\n",
       "      <td>0.123204</td>\n",
       "    </tr>\n",
       "    <tr>\n",
       "      <th>11</th>\n",
       "      <td>cat</td>\n",
       "      <td>0.114586</td>\n",
       "    </tr>\n",
       "    <tr>\n",
       "      <th>12</th>\n",
       "      <td>little</td>\n",
       "      <td>0.114381</td>\n",
       "    </tr>\n",
       "    <tr>\n",
       "      <th>13</th>\n",
       "      <td>new</td>\n",
       "      <td>0.106283</td>\n",
       "    </tr>\n",
       "    <tr>\n",
       "      <th>14</th>\n",
       "      <td>hat</td>\n",
       "      <td>0.095753</td>\n",
       "    </tr>\n",
       "    <tr>\n",
       "      <th>15</th>\n",
       "      <td>young</td>\n",
       "      <td>0.094332</td>\n",
       "    </tr>\n",
       "    <tr>\n",
       "      <th>16</th>\n",
       "      <td>humor</td>\n",
       "      <td>0.094149</td>\n",
       "    </tr>\n",
       "    <tr>\n",
       "      <th>17</th>\n",
       "      <td>fiction animals</td>\n",
       "      <td>0.090396</td>\n",
       "    </tr>\n",
       "    <tr>\n",
       "      <th>18</th>\n",
       "      <td>picture fiction</td>\n",
       "      <td>0.089813</td>\n",
       "    </tr>\n",
       "    <tr>\n",
       "      <th>19</th>\n",
       "      <td>food</td>\n",
       "      <td>0.088952</td>\n",
       "    </tr>\n",
       "  </tbody>\n",
       "</table>\n",
       "</div>"
      ],
      "text/plain": [
       "               token  relevance\n",
       "0           children   0.422296\n",
       "1           dr seuss   0.169196\n",
       "2              seuss   0.169196\n",
       "3   children fiction   0.168590\n",
       "4            animals   0.166772\n",
       "5            picture   0.157434\n",
       "6               bear   0.154855\n",
       "7            fiction   0.145833\n",
       "8   fiction classics   0.124478\n",
       "9                 dr   0.123242\n",
       "10          classics   0.123204\n",
       "11               cat   0.114586\n",
       "12            little   0.114381\n",
       "13               new   0.106283\n",
       "14               hat   0.095753\n",
       "15             young   0.094332\n",
       "16             humor   0.094149\n",
       "17   fiction animals   0.090396\n",
       "18   picture fiction   0.089813\n",
       "19              food   0.088952"
      ]
     },
     "execution_count": 225,
     "metadata": {},
     "output_type": "execute_result"
    }
   ],
   "source": [
    "aprofile = user_profiles[192]\n",
    "\n",
    "print(aprofile.shape)\n",
    "pd.DataFrame(sorted(zip(tfidf_feature_names, user_profiles[192].flatten().tolist()), key=lambda x: -x[1])[:20],\n",
    "             columns=['token', 'relevance'])"
   ]
  },
  {
   "cell_type": "code",
   "execution_count": 102,
   "id": "f655cf15",
   "metadata": {},
   "outputs": [],
   "source": [
    "class ContentBasedRecommender:\n",
    "    \n",
    "    MODEL_NAME = 'Content-Based'\n",
    "    \n",
    "    def __init__(self, items_df=None):\n",
    "        self.item_ids = item_ids\n",
    "        self.items_df = items_df\n",
    "        \n",
    "    def get_model_name(self):\n",
    "        return self.MODEL_NAME\n",
    "        \n",
    "    def _get_similar_items_to_user_profile(self, person_id, topn=1000):\n",
    "        # Computes the cosine similarity between the user profile and all item profiles\n",
    "        cosine_similarities = cosine_similarity(user_profiles[person_id], tfidf_matrix)\n",
    "        \n",
    "        # Gets the top similar items & sort by similarity\n",
    "        similar_indices = cosine_similarities.argsort().flatten()[-topn:]\n",
    "        similar_items = sorted([(item_ids[i], cosine_similarities[0,i]) for i in similar_indices], key=lambda x: -x[1])\n",
    "        \n",
    "        return similar_items\n",
    "        \n",
    "    def recommend_items(self, user_id, items_to_ignore=[], topn=10, verbose=False):\n",
    "        similar_items = self._get_similar_items_to_user_profile(user_id)\n",
    "        #Ignores items the user has already interacted\n",
    "        similar_items_filtered = list(filter(lambda x: x[0] not in items_to_ignore, similar_items))\n",
    "        \n",
    "        recommendations_df = pd.DataFrame(similar_items_filtered, columns=['Uid', 'Review_Rating']).head(topn)\n",
    "        \n",
    "        # If verbose is set to True, then the method returns a DataFrame that includes additional information \n",
    "        # about the recommended items, such as their title, URL, and language. \n",
    "        if verbose:\n",
    "            if self.items_df is None:\n",
    "                raise Exception('\"items_df\" is required in verbose mode')\n",
    "\n",
    "            recommendations_df = recommendations_df.merge(self.items_df, how = 'left', \n",
    "                                                          left_on = 'Uid', \n",
    "                                                          right_on = 'Uid')[['Review_Rating', 'Uid', 'Title']]\n",
    "\n",
    "\n",
    "        return recommendations_df"
   ]
  },
  {
   "cell_type": "code",
   "execution_count": 126,
   "id": "ba705ae7",
   "metadata": {},
   "outputs": [],
   "source": [
    "content_based_recommender_model = ContentBasedRecommender(books_selected)"
   ]
  },
  {
   "cell_type": "code",
   "execution_count": 127,
   "id": "930a9fd8",
   "metadata": {},
   "outputs": [
    {
     "name": "stdout",
     "output_type": "stream",
     "text": [
      "Evaluating Content-Based Filtering model...\n",
      "448 users processed\n",
      "\n",
      "Global metrics:\n",
      "{'modelName': 'Content-Based', 'recall@5': 0.3638725557226856, 'recall@10': 0.4869410638588814}\n"
     ]
    },
    {
     "data": {
      "text/html": [
       "<div>\n",
       "<style scoped>\n",
       "    .dataframe tbody tr th:only-of-type {\n",
       "        vertical-align: middle;\n",
       "    }\n",
       "\n",
       "    .dataframe tbody tr th {\n",
       "        vertical-align: top;\n",
       "    }\n",
       "\n",
       "    .dataframe thead th {\n",
       "        text-align: right;\n",
       "    }\n",
       "</style>\n",
       "<table border=\"1\" class=\"dataframe\">\n",
       "  <thead>\n",
       "    <tr style=\"text-align: right;\">\n",
       "      <th></th>\n",
       "      <th>hits@5_count</th>\n",
       "      <th>hits@10_count</th>\n",
       "      <th>interacted_count</th>\n",
       "      <th>recall@5</th>\n",
       "      <th>recall@10</th>\n",
       "      <th>_person_id</th>\n",
       "    </tr>\n",
       "  </thead>\n",
       "  <tbody>\n",
       "    <tr>\n",
       "      <th>76</th>\n",
       "      <td>32</td>\n",
       "      <td>41</td>\n",
       "      <td>76</td>\n",
       "      <td>0.421053</td>\n",
       "      <td>0.539474</td>\n",
       "      <td>15602</td>\n",
       "    </tr>\n",
       "    <tr>\n",
       "      <th>40</th>\n",
       "      <td>21</td>\n",
       "      <td>34</td>\n",
       "      <td>70</td>\n",
       "      <td>0.300000</td>\n",
       "      <td>0.485714</td>\n",
       "      <td>17161</td>\n",
       "    </tr>\n",
       "    <tr>\n",
       "      <th>21</th>\n",
       "      <td>17</td>\n",
       "      <td>26</td>\n",
       "      <td>69</td>\n",
       "      <td>0.246377</td>\n",
       "      <td>0.376812</td>\n",
       "      <td>2557</td>\n",
       "    </tr>\n",
       "    <tr>\n",
       "      <th>7</th>\n",
       "      <td>33</td>\n",
       "      <td>36</td>\n",
       "      <td>63</td>\n",
       "      <td>0.523810</td>\n",
       "      <td>0.571429</td>\n",
       "      <td>1863</td>\n",
       "    </tr>\n",
       "    <tr>\n",
       "      <th>92</th>\n",
       "      <td>5</td>\n",
       "      <td>16</td>\n",
       "      <td>63</td>\n",
       "      <td>0.079365</td>\n",
       "      <td>0.253968</td>\n",
       "      <td>7740</td>\n",
       "    </tr>\n",
       "    <tr>\n",
       "      <th>45</th>\n",
       "      <td>19</td>\n",
       "      <td>26</td>\n",
       "      <td>62</td>\n",
       "      <td>0.306452</td>\n",
       "      <td>0.419355</td>\n",
       "      <td>26336</td>\n",
       "    </tr>\n",
       "    <tr>\n",
       "      <th>193</th>\n",
       "      <td>17</td>\n",
       "      <td>27</td>\n",
       "      <td>62</td>\n",
       "      <td>0.274194</td>\n",
       "      <td>0.435484</td>\n",
       "      <td>22026</td>\n",
       "    </tr>\n",
       "    <tr>\n",
       "      <th>57</th>\n",
       "      <td>7</td>\n",
       "      <td>14</td>\n",
       "      <td>61</td>\n",
       "      <td>0.114754</td>\n",
       "      <td>0.229508</td>\n",
       "      <td>421</td>\n",
       "    </tr>\n",
       "    <tr>\n",
       "      <th>287</th>\n",
       "      <td>36</td>\n",
       "      <td>40</td>\n",
       "      <td>60</td>\n",
       "      <td>0.600000</td>\n",
       "      <td>0.666667</td>\n",
       "      <td>16300</td>\n",
       "    </tr>\n",
       "    <tr>\n",
       "      <th>27</th>\n",
       "      <td>12</td>\n",
       "      <td>15</td>\n",
       "      <td>56</td>\n",
       "      <td>0.214286</td>\n",
       "      <td>0.267857</td>\n",
       "      <td>16765</td>\n",
       "    </tr>\n",
       "  </tbody>\n",
       "</table>\n",
       "</div>"
      ],
      "text/plain": [
       "     hits@5_count  hits@10_count  interacted_count  recall@5  recall@10  \\\n",
       "76             32             41                76  0.421053   0.539474   \n",
       "40             21             34                70  0.300000   0.485714   \n",
       "21             17             26                69  0.246377   0.376812   \n",
       "7              33             36                63  0.523810   0.571429   \n",
       "92              5             16                63  0.079365   0.253968   \n",
       "45             19             26                62  0.306452   0.419355   \n",
       "193            17             27                62  0.274194   0.435484   \n",
       "57              7             14                61  0.114754   0.229508   \n",
       "287            36             40                60  0.600000   0.666667   \n",
       "27             12             15                56  0.214286   0.267857   \n",
       "\n",
       "     _person_id  \n",
       "76        15602  \n",
       "40        17161  \n",
       "21         2557  \n",
       "7          1863  \n",
       "92         7740  \n",
       "45        26336  \n",
       "193       22026  \n",
       "57          421  \n",
       "287       16300  \n",
       "27        16765  "
      ]
     },
     "execution_count": 127,
     "metadata": {},
     "output_type": "execute_result"
    }
   ],
   "source": [
    "print('Evaluating Content-Based Filtering model...')\n",
    "cb_global_metrics, cb_detailed_results_df = model_evaluator.evaluate_model(content_based_recommender_model)\n",
    "\n",
    "print('\\nGlobal metrics:\\n%s' % cb_global_metrics)\n",
    "cb_detailed_results_df.head(10)"
   ]
  },
  {
   "cell_type": "markdown",
   "id": "abe3b3bb",
   "metadata": {},
   "source": [
    "Our content-based filtering model provides personalized recommendations with a **Recall@5 ≈ 0.3639**, indicating that around 36% of the items that the user interacted with in the test set were included in the top-5 recommended items generated by the model from a list of 100 random items. Furthermore, the **Recall@10 ≈ 0.4869**. This is a great improvement from baseline, partially proves the power of this technique."
   ]
  },
  {
   "cell_type": "markdown",
   "id": "6e2a714f",
   "metadata": {},
   "source": [
    "### 2.3 &nbsp; Collaborative Filtering model"
   ]
  },
  {
   "cell_type": "markdown",
   "id": "8b71c217",
   "metadata": {},
   "source": [
    "#### We use latent factor model (model-based) for collaborative filtering:\n",
    "- Compress user-item matrix into a **low-dimensional** representation in terms of latent factors, solving sparsity problem;\n",
    "- Here we a use popular latent factor model named [Singular Value Decomposition (SVD)](https://en.wikipedia.org/wiki/Singular_value_decomposition). "
   ]
  },
  {
   "cell_type": "markdown",
   "id": "8b2fe895",
   "metadata": {},
   "source": [
    "#### <u>Singular Value Decomposition</u>:\n",
    "$$M_{m \\times n} = U_{m \\times m} * \\Sigma_{m \\times n} * V^T_{n \\times n} \\ \\ (Full \\ SVD)$$\n",
    "\n",
    "However, we can choose **the number of latent factors $k$** to factor the user-item matrix and *approximate* original matrix using the following formula:\n",
    "$$M_{m \\times n} \\approx U_{m \\times k} * \\Sigma_{k \\times k} * V^T_{k \\times n} \\ \\ (Thin \\ SVD)$$\n",
    "\n",
    "- The higher the number of factors, the more precise is the factorization in the original matrix reconstructions. \n",
    "- But if the model is allowed to  memorize too much details of the original matrix, it may not generalize well for data it was not trained on. Reducing the number of factors increases the model generalization.\n",
    "- We will loop over a potential space to find the **best** number of factors $k_{optimal}$"
   ]
  },
  {
   "cell_type": "code",
   "execution_count": null,
   "id": "cb6ca2f1",
   "metadata": {},
   "outputs": [],
   "source": [
    "from scipy.sparse import csr_matrix\n",
    "from scipy.sparse.linalg import svds"
   ]
  },
  {
   "cell_type": "markdown",
   "id": "aa72b322",
   "metadata": {},
   "source": [
    "#### Matrix Factorization"
   ]
  },
  {
   "cell_type": "code",
   "execution_count": 141,
   "id": "80b9dff2",
   "metadata": {},
   "outputs": [
    {
     "data": {
      "text/html": [
       "<div>\n",
       "<style scoped>\n",
       "    .dataframe tbody tr th:only-of-type {\n",
       "        vertical-align: middle;\n",
       "    }\n",
       "\n",
       "    .dataframe tbody tr th {\n",
       "        vertical-align: top;\n",
       "    }\n",
       "\n",
       "    .dataframe thead th {\n",
       "        text-align: right;\n",
       "    }\n",
       "</style>\n",
       "<table border=\"1\" class=\"dataframe\">\n",
       "  <thead>\n",
       "    <tr style=\"text-align: right;\">\n",
       "      <th>Uid</th>\n",
       "      <th>1</th>\n",
       "      <th>2</th>\n",
       "      <th>5</th>\n",
       "      <th>6</th>\n",
       "      <th>11</th>\n",
       "      <th>13</th>\n",
       "      <th>21</th>\n",
       "      <th>22</th>\n",
       "      <th>24</th>\n",
       "      <th>25</th>\n",
       "      <th>...</th>\n",
       "      <th>61330005</th>\n",
       "      <th>61865476</th>\n",
       "      <th>62053325</th>\n",
       "      <th>62296528</th>\n",
       "      <th>62357989</th>\n",
       "      <th>62404966</th>\n",
       "      <th>62967897</th>\n",
       "      <th>63221207</th>\n",
       "      <th>75275383</th>\n",
       "      <th>75953403</th>\n",
       "    </tr>\n",
       "    <tr>\n",
       "      <th>UserID</th>\n",
       "      <th></th>\n",
       "      <th></th>\n",
       "      <th></th>\n",
       "      <th></th>\n",
       "      <th></th>\n",
       "      <th></th>\n",
       "      <th></th>\n",
       "      <th></th>\n",
       "      <th></th>\n",
       "      <th></th>\n",
       "      <th></th>\n",
       "      <th></th>\n",
       "      <th></th>\n",
       "      <th></th>\n",
       "      <th></th>\n",
       "      <th></th>\n",
       "      <th></th>\n",
       "      <th></th>\n",
       "      <th></th>\n",
       "      <th></th>\n",
       "      <th></th>\n",
       "    </tr>\n",
       "  </thead>\n",
       "  <tbody>\n",
       "    <tr>\n",
       "      <th>17</th>\n",
       "      <td>0.0</td>\n",
       "      <td>0.0</td>\n",
       "      <td>0.0</td>\n",
       "      <td>0.0</td>\n",
       "      <td>0.0</td>\n",
       "      <td>0.0</td>\n",
       "      <td>0.0</td>\n",
       "      <td>0.0</td>\n",
       "      <td>0.0</td>\n",
       "      <td>0.0</td>\n",
       "      <td>...</td>\n",
       "      <td>0.0</td>\n",
       "      <td>0.0</td>\n",
       "      <td>0.0</td>\n",
       "      <td>0.0</td>\n",
       "      <td>0.0</td>\n",
       "      <td>0.0</td>\n",
       "      <td>0.0</td>\n",
       "      <td>0.0</td>\n",
       "      <td>0.0</td>\n",
       "      <td>0.0</td>\n",
       "    </tr>\n",
       "    <tr>\n",
       "      <th>87</th>\n",
       "      <td>0.0</td>\n",
       "      <td>0.0</td>\n",
       "      <td>0.0</td>\n",
       "      <td>0.0</td>\n",
       "      <td>0.0</td>\n",
       "      <td>0.0</td>\n",
       "      <td>0.0</td>\n",
       "      <td>0.0</td>\n",
       "      <td>0.0</td>\n",
       "      <td>0.0</td>\n",
       "      <td>...</td>\n",
       "      <td>0.0</td>\n",
       "      <td>0.0</td>\n",
       "      <td>0.0</td>\n",
       "      <td>0.0</td>\n",
       "      <td>0.0</td>\n",
       "      <td>0.0</td>\n",
       "      <td>0.0</td>\n",
       "      <td>0.0</td>\n",
       "      <td>0.0</td>\n",
       "      <td>0.0</td>\n",
       "    </tr>\n",
       "    <tr>\n",
       "      <th>192</th>\n",
       "      <td>0.0</td>\n",
       "      <td>0.0</td>\n",
       "      <td>0.0</td>\n",
       "      <td>0.0</td>\n",
       "      <td>0.0</td>\n",
       "      <td>0.0</td>\n",
       "      <td>0.0</td>\n",
       "      <td>0.0</td>\n",
       "      <td>0.0</td>\n",
       "      <td>0.0</td>\n",
       "      <td>...</td>\n",
       "      <td>0.0</td>\n",
       "      <td>0.0</td>\n",
       "      <td>0.0</td>\n",
       "      <td>0.0</td>\n",
       "      <td>0.0</td>\n",
       "      <td>0.0</td>\n",
       "      <td>0.0</td>\n",
       "      <td>0.0</td>\n",
       "      <td>0.0</td>\n",
       "      <td>0.0</td>\n",
       "    </tr>\n",
       "    <tr>\n",
       "      <th>308</th>\n",
       "      <td>0.0</td>\n",
       "      <td>0.0</td>\n",
       "      <td>0.0</td>\n",
       "      <td>0.0</td>\n",
       "      <td>0.0</td>\n",
       "      <td>0.0</td>\n",
       "      <td>0.0</td>\n",
       "      <td>0.0</td>\n",
       "      <td>0.0</td>\n",
       "      <td>0.0</td>\n",
       "      <td>...</td>\n",
       "      <td>0.0</td>\n",
       "      <td>0.0</td>\n",
       "      <td>0.0</td>\n",
       "      <td>0.0</td>\n",
       "      <td>0.0</td>\n",
       "      <td>0.0</td>\n",
       "      <td>0.0</td>\n",
       "      <td>0.0</td>\n",
       "      <td>0.0</td>\n",
       "      <td>0.0</td>\n",
       "    </tr>\n",
       "    <tr>\n",
       "      <th>330</th>\n",
       "      <td>0.0</td>\n",
       "      <td>0.0</td>\n",
       "      <td>0.0</td>\n",
       "      <td>0.0</td>\n",
       "      <td>0.0</td>\n",
       "      <td>0.0</td>\n",
       "      <td>0.0</td>\n",
       "      <td>0.0</td>\n",
       "      <td>0.0</td>\n",
       "      <td>0.0</td>\n",
       "      <td>...</td>\n",
       "      <td>0.0</td>\n",
       "      <td>0.0</td>\n",
       "      <td>0.0</td>\n",
       "      <td>0.0</td>\n",
       "      <td>0.0</td>\n",
       "      <td>0.0</td>\n",
       "      <td>0.0</td>\n",
       "      <td>0.0</td>\n",
       "      <td>0.0</td>\n",
       "      <td>0.0</td>\n",
       "    </tr>\n",
       "    <tr>\n",
       "      <th>383</th>\n",
       "      <td>0.0</td>\n",
       "      <td>0.0</td>\n",
       "      <td>0.0</td>\n",
       "      <td>0.0</td>\n",
       "      <td>0.0</td>\n",
       "      <td>0.0</td>\n",
       "      <td>0.0</td>\n",
       "      <td>0.0</td>\n",
       "      <td>0.0</td>\n",
       "      <td>0.0</td>\n",
       "      <td>...</td>\n",
       "      <td>0.0</td>\n",
       "      <td>0.0</td>\n",
       "      <td>0.0</td>\n",
       "      <td>0.0</td>\n",
       "      <td>4.0</td>\n",
       "      <td>0.0</td>\n",
       "      <td>0.0</td>\n",
       "      <td>0.0</td>\n",
       "      <td>0.0</td>\n",
       "      <td>0.0</td>\n",
       "    </tr>\n",
       "    <tr>\n",
       "      <th>421</th>\n",
       "      <td>0.0</td>\n",
       "      <td>0.0</td>\n",
       "      <td>0.0</td>\n",
       "      <td>0.0</td>\n",
       "      <td>0.0</td>\n",
       "      <td>0.0</td>\n",
       "      <td>0.0</td>\n",
       "      <td>0.0</td>\n",
       "      <td>0.0</td>\n",
       "      <td>0.0</td>\n",
       "      <td>...</td>\n",
       "      <td>0.0</td>\n",
       "      <td>0.0</td>\n",
       "      <td>0.0</td>\n",
       "      <td>0.0</td>\n",
       "      <td>0.0</td>\n",
       "      <td>0.0</td>\n",
       "      <td>0.0</td>\n",
       "      <td>0.0</td>\n",
       "      <td>0.0</td>\n",
       "      <td>0.0</td>\n",
       "    </tr>\n",
       "    <tr>\n",
       "      <th>486</th>\n",
       "      <td>0.0</td>\n",
       "      <td>0.0</td>\n",
       "      <td>0.0</td>\n",
       "      <td>0.0</td>\n",
       "      <td>0.0</td>\n",
       "      <td>0.0</td>\n",
       "      <td>0.0</td>\n",
       "      <td>0.0</td>\n",
       "      <td>0.0</td>\n",
       "      <td>0.0</td>\n",
       "      <td>...</td>\n",
       "      <td>0.0</td>\n",
       "      <td>0.0</td>\n",
       "      <td>0.0</td>\n",
       "      <td>0.0</td>\n",
       "      <td>0.0</td>\n",
       "      <td>0.0</td>\n",
       "      <td>0.0</td>\n",
       "      <td>0.0</td>\n",
       "      <td>0.0</td>\n",
       "      <td>0.0</td>\n",
       "    </tr>\n",
       "    <tr>\n",
       "      <th>523</th>\n",
       "      <td>0.0</td>\n",
       "      <td>0.0</td>\n",
       "      <td>0.0</td>\n",
       "      <td>0.0</td>\n",
       "      <td>0.0</td>\n",
       "      <td>0.0</td>\n",
       "      <td>0.0</td>\n",
       "      <td>0.0</td>\n",
       "      <td>0.0</td>\n",
       "      <td>0.0</td>\n",
       "      <td>...</td>\n",
       "      <td>0.0</td>\n",
       "      <td>0.0</td>\n",
       "      <td>0.0</td>\n",
       "      <td>0.0</td>\n",
       "      <td>0.0</td>\n",
       "      <td>0.0</td>\n",
       "      <td>0.0</td>\n",
       "      <td>0.0</td>\n",
       "      <td>0.0</td>\n",
       "      <td>0.0</td>\n",
       "    </tr>\n",
       "    <tr>\n",
       "      <th>612</th>\n",
       "      <td>0.0</td>\n",
       "      <td>0.0</td>\n",
       "      <td>0.0</td>\n",
       "      <td>0.0</td>\n",
       "      <td>4.0</td>\n",
       "      <td>0.0</td>\n",
       "      <td>0.0</td>\n",
       "      <td>0.0</td>\n",
       "      <td>0.0</td>\n",
       "      <td>0.0</td>\n",
       "      <td>...</td>\n",
       "      <td>0.0</td>\n",
       "      <td>0.0</td>\n",
       "      <td>0.0</td>\n",
       "      <td>0.0</td>\n",
       "      <td>0.0</td>\n",
       "      <td>0.0</td>\n",
       "      <td>0.0</td>\n",
       "      <td>0.0</td>\n",
       "      <td>0.0</td>\n",
       "      <td>0.0</td>\n",
       "    </tr>\n",
       "  </tbody>\n",
       "</table>\n",
       "<p>10 rows × 6907 columns</p>\n",
       "</div>"
      ],
      "text/plain": [
       "Uid     1         2         5         6         11        13        21        \\\n",
       "UserID                                                                         \n",
       "17           0.0       0.0       0.0       0.0       0.0       0.0       0.0   \n",
       "87           0.0       0.0       0.0       0.0       0.0       0.0       0.0   \n",
       "192          0.0       0.0       0.0       0.0       0.0       0.0       0.0   \n",
       "308          0.0       0.0       0.0       0.0       0.0       0.0       0.0   \n",
       "330          0.0       0.0       0.0       0.0       0.0       0.0       0.0   \n",
       "383          0.0       0.0       0.0       0.0       0.0       0.0       0.0   \n",
       "421          0.0       0.0       0.0       0.0       0.0       0.0       0.0   \n",
       "486          0.0       0.0       0.0       0.0       0.0       0.0       0.0   \n",
       "523          0.0       0.0       0.0       0.0       0.0       0.0       0.0   \n",
       "612          0.0       0.0       0.0       0.0       4.0       0.0       0.0   \n",
       "\n",
       "Uid     22        24        25        ...  61330005  61865476  62053325  \\\n",
       "UserID                                ...                                 \n",
       "17           0.0       0.0       0.0  ...       0.0       0.0       0.0   \n",
       "87           0.0       0.0       0.0  ...       0.0       0.0       0.0   \n",
       "192          0.0       0.0       0.0  ...       0.0       0.0       0.0   \n",
       "308          0.0       0.0       0.0  ...       0.0       0.0       0.0   \n",
       "330          0.0       0.0       0.0  ...       0.0       0.0       0.0   \n",
       "383          0.0       0.0       0.0  ...       0.0       0.0       0.0   \n",
       "421          0.0       0.0       0.0  ...       0.0       0.0       0.0   \n",
       "486          0.0       0.0       0.0  ...       0.0       0.0       0.0   \n",
       "523          0.0       0.0       0.0  ...       0.0       0.0       0.0   \n",
       "612          0.0       0.0       0.0  ...       0.0       0.0       0.0   \n",
       "\n",
       "Uid     62296528  62357989  62404966  62967897  63221207  75275383  75953403  \n",
       "UserID                                                                        \n",
       "17           0.0       0.0       0.0       0.0       0.0       0.0       0.0  \n",
       "87           0.0       0.0       0.0       0.0       0.0       0.0       0.0  \n",
       "192          0.0       0.0       0.0       0.0       0.0       0.0       0.0  \n",
       "308          0.0       0.0       0.0       0.0       0.0       0.0       0.0  \n",
       "330          0.0       0.0       0.0       0.0       0.0       0.0       0.0  \n",
       "383          0.0       4.0       0.0       0.0       0.0       0.0       0.0  \n",
       "421          0.0       0.0       0.0       0.0       0.0       0.0       0.0  \n",
       "486          0.0       0.0       0.0       0.0       0.0       0.0       0.0  \n",
       "523          0.0       0.0       0.0       0.0       0.0       0.0       0.0  \n",
       "612          0.0       0.0       0.0       0.0       0.0       0.0       0.0  \n",
       "\n",
       "[10 rows x 6907 columns]"
      ]
     },
     "execution_count": 141,
     "metadata": {},
     "output_type": "execute_result"
    }
   ],
   "source": [
    "# Creating a sparse pivot table with users in rows and items in columns\n",
    "users_items_pivot_matrix_df = interactions_train_df.pivot(index='UserID', \n",
    "                                                          columns='Uid', \n",
    "                                                          values='Review_Rating').fillna(0)\n",
    "\n",
    "users_items_pivot_matrix_df.head(10)"
   ]
  },
  {
   "cell_type": "code",
   "execution_count": 142,
   "id": "5aa6eb0a",
   "metadata": {},
   "outputs": [
    {
     "data": {
      "text/plain": [
       "array([[0., 0., 0., ..., 0., 0., 0.],\n",
       "       [0., 0., 0., ..., 0., 0., 0.],\n",
       "       [0., 0., 0., ..., 0., 0., 0.],\n",
       "       ...,\n",
       "       [0., 0., 0., ..., 0., 0., 0.],\n",
       "       [0., 0., 0., ..., 0., 0., 0.],\n",
       "       [0., 0., 0., ..., 0., 0., 0.]])"
      ]
     },
     "execution_count": 142,
     "metadata": {},
     "output_type": "execute_result"
    }
   ],
   "source": [
    "users_items_pivot_matrix = users_items_pivot_matrix_df.to_numpy()\n",
    "users_items_pivot_matrix[:10]"
   ]
  },
  {
   "cell_type": "code",
   "execution_count": 143,
   "id": "829c1d54",
   "metadata": {},
   "outputs": [
    {
     "data": {
      "text/plain": [
       "[17, 87, 192, 308, 330, 383, 421, 486, 523, 612]"
      ]
     },
     "execution_count": 143,
     "metadata": {},
     "output_type": "execute_result"
    }
   ],
   "source": [
    "users_ids = list(users_items_pivot_matrix_df.index)\n",
    "users_ids[:10]"
   ]
  },
  {
   "cell_type": "code",
   "execution_count": 144,
   "id": "43a8387d",
   "metadata": {},
   "outputs": [
    {
     "data": {
      "text/plain": [
       "<449x6907 sparse matrix of type '<class 'numpy.float64'>'\n",
       "\twith 29244 stored elements in Compressed Sparse Row format>"
      ]
     },
     "execution_count": 144,
     "metadata": {},
     "output_type": "execute_result"
    }
   ],
   "source": [
    "users_items_pivot_sparse_matrix = csr_matrix(users_items_pivot_matrix)\n",
    "users_items_pivot_sparse_matrix"
   ]
  },
  {
   "cell_type": "markdown",
   "id": "93391953",
   "metadata": {},
   "source": [
    "#### Here we first set number of factors $k = 40$, representing the number of book genres"
   ]
  },
  {
   "cell_type": "code",
   "execution_count": 226,
   "id": "b9e329c4",
   "metadata": {},
   "outputs": [],
   "source": [
    "# The number of factors to factor the user-item matrix (use the number of genres)\n",
    "NUMBER_OF_FACTORS_MF = 40\n",
    "\n",
    "# Performs matrix factorization of the original user item matrix\n",
    "U, sigma, Vt = svds(users_items_pivot_sparse_matrix, k = NUMBER_OF_FACTORS_MF)\n",
    "sigma = np.diag(sigma) # diagonize"
   ]
  },
  {
   "cell_type": "code",
   "execution_count": 227,
   "id": "ea05486b",
   "metadata": {
    "scrolled": true
   },
   "outputs": [
    {
     "data": {
      "text/plain": [
       "((449, 40), (40, 40), (40, 6907))"
      ]
     },
     "execution_count": 227,
     "metadata": {},
     "output_type": "execute_result"
    }
   ],
   "source": [
    "U.shape, sigma.shape, Vt.shape"
   ]
  },
  {
   "cell_type": "markdown",
   "id": "841c0110",
   "metadata": {},
   "source": [
    "#### After the factorization, we try to reconstruct the original matrix by multiplying its factors. \n",
    "- No sparsity any more. It generates predictions for items the user has not interacted with, which we will exploit for recommendations."
   ]
  },
  {
   "cell_type": "code",
   "execution_count": 151,
   "id": "0198ffae",
   "metadata": {},
   "outputs": [
    {
     "data": {
      "text/plain": [
       "array([[ 0.02292273,  0.01838176,  0.0042864 , ...,  0.01090701,\n",
       "         0.05341585,  0.01885435],\n",
       "       [-0.03654072, -0.02313435, -0.03319799, ...,  0.02337009,\n",
       "        -0.00532303, -0.00283612],\n",
       "       [ 0.00239874, -0.01840318, -0.02263362, ...,  0.00563758,\n",
       "         0.11668636, -0.05929882],\n",
       "       ...,\n",
       "       [-0.02380071, -0.01779677, -0.01164514, ..., -0.00719634,\n",
       "         0.01912133,  0.64562998],\n",
       "       [ 0.10246305,  0.02996917,  0.07688153, ...,  0.15951745,\n",
       "         0.38916266, -0.06106651],\n",
       "       [ 0.0035282 ,  0.09884057,  0.13012081, ...,  0.14979794,\n",
       "         0.49248323,  0.28502441]])"
      ]
     },
     "execution_count": 151,
     "metadata": {},
     "output_type": "execute_result"
    }
   ],
   "source": [
    "all_user_predicted_ratings = np.dot(np.dot(U, sigma), Vt) \n",
    "all_user_predicted_ratings"
   ]
  },
  {
   "cell_type": "markdown",
   "id": "11f7d7e7",
   "metadata": {},
   "source": [
    "#### Normalize the ratings\n",
    "$$X_{norm} = \\frac{X - X_{min}}{X_{max} - X_{min}}$$"
   ]
  },
  {
   "cell_type": "code",
   "execution_count": 152,
   "id": "d6d529c2",
   "metadata": {},
   "outputs": [],
   "source": [
    "all_user_predicted_ratings_norm = (all_user_predicted_ratings - all_user_predicted_ratings.min()) / \\\n",
    "                                    (all_user_predicted_ratings.max() - all_user_predicted_ratings.min())"
   ]
  },
  {
   "cell_type": "code",
   "execution_count": 153,
   "id": "79b8a4bc",
   "metadata": {},
   "outputs": [
    {
     "data": {
      "text/html": [
       "<div>\n",
       "<style scoped>\n",
       "    .dataframe tbody tr th:only-of-type {\n",
       "        vertical-align: middle;\n",
       "    }\n",
       "\n",
       "    .dataframe tbody tr th {\n",
       "        vertical-align: top;\n",
       "    }\n",
       "\n",
       "    .dataframe thead th {\n",
       "        text-align: right;\n",
       "    }\n",
       "</style>\n",
       "<table border=\"1\" class=\"dataframe\">\n",
       "  <thead>\n",
       "    <tr style=\"text-align: right;\">\n",
       "      <th></th>\n",
       "      <th>17</th>\n",
       "      <th>87</th>\n",
       "      <th>192</th>\n",
       "      <th>308</th>\n",
       "      <th>330</th>\n",
       "      <th>383</th>\n",
       "      <th>421</th>\n",
       "      <th>486</th>\n",
       "      <th>523</th>\n",
       "      <th>612</th>\n",
       "      <th>...</th>\n",
       "      <th>26672</th>\n",
       "      <th>26764</th>\n",
       "      <th>26788</th>\n",
       "      <th>26801</th>\n",
       "      <th>27096</th>\n",
       "      <th>27151</th>\n",
       "      <th>27345</th>\n",
       "      <th>27405</th>\n",
       "      <th>27451</th>\n",
       "      <th>27503</th>\n",
       "    </tr>\n",
       "    <tr>\n",
       "      <th>Uid</th>\n",
       "      <th></th>\n",
       "      <th></th>\n",
       "      <th></th>\n",
       "      <th></th>\n",
       "      <th></th>\n",
       "      <th></th>\n",
       "      <th></th>\n",
       "      <th></th>\n",
       "      <th></th>\n",
       "      <th></th>\n",
       "      <th></th>\n",
       "      <th></th>\n",
       "      <th></th>\n",
       "      <th></th>\n",
       "      <th></th>\n",
       "      <th></th>\n",
       "      <th></th>\n",
       "      <th></th>\n",
       "      <th></th>\n",
       "      <th></th>\n",
       "      <th></th>\n",
       "    </tr>\n",
       "  </thead>\n",
       "  <tbody>\n",
       "    <tr>\n",
       "      <th>1</th>\n",
       "      <td>0.209621</td>\n",
       "      <td>0.202702</td>\n",
       "      <td>0.207233</td>\n",
       "      <td>0.256061</td>\n",
       "      <td>0.154096</td>\n",
       "      <td>0.200324</td>\n",
       "      <td>0.202197</td>\n",
       "      <td>0.211589</td>\n",
       "      <td>0.209084</td>\n",
       "      <td>0.255863</td>\n",
       "      <td>...</td>\n",
       "      <td>0.224655</td>\n",
       "      <td>0.219448</td>\n",
       "      <td>0.229545</td>\n",
       "      <td>0.301493</td>\n",
       "      <td>0.209850</td>\n",
       "      <td>0.242302</td>\n",
       "      <td>0.204262</td>\n",
       "      <td>0.204185</td>\n",
       "      <td>0.218875</td>\n",
       "      <td>0.207364</td>\n",
       "    </tr>\n",
       "    <tr>\n",
       "      <th>2</th>\n",
       "      <td>0.209092</td>\n",
       "      <td>0.204262</td>\n",
       "      <td>0.204813</td>\n",
       "      <td>0.216671</td>\n",
       "      <td>0.184733</td>\n",
       "      <td>0.207697</td>\n",
       "      <td>0.195703</td>\n",
       "      <td>0.219007</td>\n",
       "      <td>0.212960</td>\n",
       "      <td>0.207962</td>\n",
       "      <td>...</td>\n",
       "      <td>0.208117</td>\n",
       "      <td>0.209986</td>\n",
       "      <td>0.230314</td>\n",
       "      <td>0.262698</td>\n",
       "      <td>0.209426</td>\n",
       "      <td>0.208636</td>\n",
       "      <td>0.208310</td>\n",
       "      <td>0.204883</td>\n",
       "      <td>0.210441</td>\n",
       "      <td>0.218454</td>\n",
       "    </tr>\n",
       "    <tr>\n",
       "      <th>5</th>\n",
       "      <td>0.207452</td>\n",
       "      <td>0.203091</td>\n",
       "      <td>0.204320</td>\n",
       "      <td>0.196924</td>\n",
       "      <td>0.180002</td>\n",
       "      <td>0.208463</td>\n",
       "      <td>0.226422</td>\n",
       "      <td>0.219798</td>\n",
       "      <td>0.214746</td>\n",
       "      <td>0.189833</td>\n",
       "      <td>...</td>\n",
       "      <td>0.214457</td>\n",
       "      <td>0.186152</td>\n",
       "      <td>0.237972</td>\n",
       "      <td>0.316868</td>\n",
       "      <td>0.210532</td>\n",
       "      <td>0.179926</td>\n",
       "      <td>0.205686</td>\n",
       "      <td>0.205599</td>\n",
       "      <td>0.215899</td>\n",
       "      <td>0.222093</td>\n",
       "    </tr>\n",
       "    <tr>\n",
       "      <th>6</th>\n",
       "      <td>0.206838</td>\n",
       "      <td>0.203575</td>\n",
       "      <td>0.202876</td>\n",
       "      <td>0.165002</td>\n",
       "      <td>0.172763</td>\n",
       "      <td>0.195258</td>\n",
       "      <td>0.213597</td>\n",
       "      <td>0.208480</td>\n",
       "      <td>0.208221</td>\n",
       "      <td>0.221522</td>\n",
       "      <td>...</td>\n",
       "      <td>0.207416</td>\n",
       "      <td>0.211785</td>\n",
       "      <td>0.236875</td>\n",
       "      <td>0.364610</td>\n",
       "      <td>0.207490</td>\n",
       "      <td>0.177145</td>\n",
       "      <td>0.201163</td>\n",
       "      <td>0.202751</td>\n",
       "      <td>0.205092</td>\n",
       "      <td>0.191674</td>\n",
       "    </tr>\n",
       "    <tr>\n",
       "      <th>11</th>\n",
       "      <td>0.202818</td>\n",
       "      <td>0.206896</td>\n",
       "      <td>0.200204</td>\n",
       "      <td>0.187011</td>\n",
       "      <td>0.227901</td>\n",
       "      <td>0.224145</td>\n",
       "      <td>0.214796</td>\n",
       "      <td>0.220232</td>\n",
       "      <td>0.204843</td>\n",
       "      <td>0.371452</td>\n",
       "      <td>...</td>\n",
       "      <td>0.219410</td>\n",
       "      <td>0.227331</td>\n",
       "      <td>0.200532</td>\n",
       "      <td>0.113028</td>\n",
       "      <td>0.206088</td>\n",
       "      <td>0.203016</td>\n",
       "      <td>0.210633</td>\n",
       "      <td>0.203510</td>\n",
       "      <td>0.208271</td>\n",
       "      <td>0.206851</td>\n",
       "    </tr>\n",
       "    <tr>\n",
       "      <th>13</th>\n",
       "      <td>0.207045</td>\n",
       "      <td>0.206528</td>\n",
       "      <td>0.206573</td>\n",
       "      <td>0.206293</td>\n",
       "      <td>0.211204</td>\n",
       "      <td>0.206923</td>\n",
       "      <td>0.215997</td>\n",
       "      <td>0.207239</td>\n",
       "      <td>0.207677</td>\n",
       "      <td>0.210887</td>\n",
       "      <td>...</td>\n",
       "      <td>0.208789</td>\n",
       "      <td>0.210739</td>\n",
       "      <td>0.205920</td>\n",
       "      <td>0.198669</td>\n",
       "      <td>0.207089</td>\n",
       "      <td>0.209443</td>\n",
       "      <td>0.207892</td>\n",
       "      <td>0.207211</td>\n",
       "      <td>0.211631</td>\n",
       "      <td>0.206859</td>\n",
       "    </tr>\n",
       "    <tr>\n",
       "      <th>21</th>\n",
       "      <td>0.207602</td>\n",
       "      <td>0.219221</td>\n",
       "      <td>0.200512</td>\n",
       "      <td>0.258154</td>\n",
       "      <td>0.170454</td>\n",
       "      <td>0.203612</td>\n",
       "      <td>0.238084</td>\n",
       "      <td>0.208334</td>\n",
       "      <td>0.204967</td>\n",
       "      <td>0.237605</td>\n",
       "      <td>...</td>\n",
       "      <td>0.203969</td>\n",
       "      <td>0.177954</td>\n",
       "      <td>0.206309</td>\n",
       "      <td>0.227444</td>\n",
       "      <td>0.208700</td>\n",
       "      <td>0.209455</td>\n",
       "      <td>0.213214</td>\n",
       "      <td>0.207694</td>\n",
       "      <td>0.201361</td>\n",
       "      <td>0.211274</td>\n",
       "    </tr>\n",
       "    <tr>\n",
       "      <th>22</th>\n",
       "      <td>0.207662</td>\n",
       "      <td>0.209752</td>\n",
       "      <td>0.204168</td>\n",
       "      <td>0.205712</td>\n",
       "      <td>0.185924</td>\n",
       "      <td>0.204183</td>\n",
       "      <td>0.196128</td>\n",
       "      <td>0.208172</td>\n",
       "      <td>0.206436</td>\n",
       "      <td>0.248826</td>\n",
       "      <td>...</td>\n",
       "      <td>0.210740</td>\n",
       "      <td>0.195485</td>\n",
       "      <td>0.209730</td>\n",
       "      <td>0.198870</td>\n",
       "      <td>0.215863</td>\n",
       "      <td>0.211494</td>\n",
       "      <td>0.209671</td>\n",
       "      <td>0.206048</td>\n",
       "      <td>0.205830</td>\n",
       "      <td>0.205874</td>\n",
       "    </tr>\n",
       "    <tr>\n",
       "      <th>24</th>\n",
       "      <td>0.202855</td>\n",
       "      <td>0.212751</td>\n",
       "      <td>0.202912</td>\n",
       "      <td>0.199510</td>\n",
       "      <td>0.233671</td>\n",
       "      <td>0.197231</td>\n",
       "      <td>0.196826</td>\n",
       "      <td>0.206458</td>\n",
       "      <td>0.208081</td>\n",
       "      <td>0.193236</td>\n",
       "      <td>...</td>\n",
       "      <td>0.208867</td>\n",
       "      <td>0.204131</td>\n",
       "      <td>0.217123</td>\n",
       "      <td>0.182691</td>\n",
       "      <td>0.204445</td>\n",
       "      <td>0.193305</td>\n",
       "      <td>0.205499</td>\n",
       "      <td>0.205432</td>\n",
       "      <td>0.211035</td>\n",
       "      <td>0.205520</td>\n",
       "    </tr>\n",
       "    <tr>\n",
       "      <th>25</th>\n",
       "      <td>0.204601</td>\n",
       "      <td>0.213617</td>\n",
       "      <td>0.210699</td>\n",
       "      <td>0.206744</td>\n",
       "      <td>0.211300</td>\n",
       "      <td>0.201049</td>\n",
       "      <td>0.201495</td>\n",
       "      <td>0.207056</td>\n",
       "      <td>0.208858</td>\n",
       "      <td>0.199133</td>\n",
       "      <td>...</td>\n",
       "      <td>0.207029</td>\n",
       "      <td>0.196515</td>\n",
       "      <td>0.215327</td>\n",
       "      <td>0.193835</td>\n",
       "      <td>0.205658</td>\n",
       "      <td>0.205196</td>\n",
       "      <td>0.210346</td>\n",
       "      <td>0.205884</td>\n",
       "      <td>0.221218</td>\n",
       "      <td>0.212531</td>\n",
       "    </tr>\n",
       "  </tbody>\n",
       "</table>\n",
       "<p>10 rows × 449 columns</p>\n",
       "</div>"
      ],
      "text/plain": [
       "        17        87        192       308       330       383       421    \\\n",
       "Uid                                                                         \n",
       "1    0.209621  0.202702  0.207233  0.256061  0.154096  0.200324  0.202197   \n",
       "2    0.209092  0.204262  0.204813  0.216671  0.184733  0.207697  0.195703   \n",
       "5    0.207452  0.203091  0.204320  0.196924  0.180002  0.208463  0.226422   \n",
       "6    0.206838  0.203575  0.202876  0.165002  0.172763  0.195258  0.213597   \n",
       "11   0.202818  0.206896  0.200204  0.187011  0.227901  0.224145  0.214796   \n",
       "13   0.207045  0.206528  0.206573  0.206293  0.211204  0.206923  0.215997   \n",
       "21   0.207602  0.219221  0.200512  0.258154  0.170454  0.203612  0.238084   \n",
       "22   0.207662  0.209752  0.204168  0.205712  0.185924  0.204183  0.196128   \n",
       "24   0.202855  0.212751  0.202912  0.199510  0.233671  0.197231  0.196826   \n",
       "25   0.204601  0.213617  0.210699  0.206744  0.211300  0.201049  0.201495   \n",
       "\n",
       "        486       523       612    ...     26672     26764     26788  \\\n",
       "Uid                                ...                                 \n",
       "1    0.211589  0.209084  0.255863  ...  0.224655  0.219448  0.229545   \n",
       "2    0.219007  0.212960  0.207962  ...  0.208117  0.209986  0.230314   \n",
       "5    0.219798  0.214746  0.189833  ...  0.214457  0.186152  0.237972   \n",
       "6    0.208480  0.208221  0.221522  ...  0.207416  0.211785  0.236875   \n",
       "11   0.220232  0.204843  0.371452  ...  0.219410  0.227331  0.200532   \n",
       "13   0.207239  0.207677  0.210887  ...  0.208789  0.210739  0.205920   \n",
       "21   0.208334  0.204967  0.237605  ...  0.203969  0.177954  0.206309   \n",
       "22   0.208172  0.206436  0.248826  ...  0.210740  0.195485  0.209730   \n",
       "24   0.206458  0.208081  0.193236  ...  0.208867  0.204131  0.217123   \n",
       "25   0.207056  0.208858  0.199133  ...  0.207029  0.196515  0.215327   \n",
       "\n",
       "        26801     27096     27151     27345     27405     27451     27503  \n",
       "Uid                                                                        \n",
       "1    0.301493  0.209850  0.242302  0.204262  0.204185  0.218875  0.207364  \n",
       "2    0.262698  0.209426  0.208636  0.208310  0.204883  0.210441  0.218454  \n",
       "5    0.316868  0.210532  0.179926  0.205686  0.205599  0.215899  0.222093  \n",
       "6    0.364610  0.207490  0.177145  0.201163  0.202751  0.205092  0.191674  \n",
       "11   0.113028  0.206088  0.203016  0.210633  0.203510  0.208271  0.206851  \n",
       "13   0.198669  0.207089  0.209443  0.207892  0.207211  0.211631  0.206859  \n",
       "21   0.227444  0.208700  0.209455  0.213214  0.207694  0.201361  0.211274  \n",
       "22   0.198870  0.215863  0.211494  0.209671  0.206048  0.205830  0.205874  \n",
       "24   0.182691  0.204445  0.193305  0.205499  0.205432  0.211035  0.205520  \n",
       "25   0.193835  0.205658  0.205196  0.210346  0.205884  0.221218  0.212531  \n",
       "\n",
       "[10 rows x 449 columns]"
      ]
     },
     "execution_count": 153,
     "metadata": {},
     "output_type": "execute_result"
    }
   ],
   "source": [
    "# Converting the reconstructed matrix back to a Pandas dataframe\n",
    "cf_preds_df = pd.DataFrame(all_user_predicted_ratings_norm, columns = users_items_pivot_matrix_df.columns, index=users_ids).transpose()\n",
    "cf_preds_df.head(10)"
   ]
  },
  {
   "cell_type": "code",
   "execution_count": 154,
   "id": "c172a961",
   "metadata": {},
   "outputs": [],
   "source": [
    "class CFRecommender:\n",
    "    \n",
    "    MODEL_NAME = 'Collaborative Filtering'\n",
    "    \n",
    "    def __init__(self, cf_predictions_df, items_df=None):\n",
    "        self.cf_predictions_df = cf_predictions_df\n",
    "        self.items_df = items_df\n",
    "        \n",
    "    def get_model_name(self):\n",
    "        return self.MODEL_NAME\n",
    "        \n",
    "    def recommend_items(self, user_id, items_to_ignore=[], topn=10, verbose=False):\n",
    "        # Get and sort the user's predictions\n",
    "        sorted_user_predictions = self.cf_predictions_df[user_id].sort_values(ascending=False) \\\n",
    "                                    .reset_index().rename(columns={user_id: 'Review_Rating'})\n",
    "\n",
    "        # Recommend the highest predicted rating movies that the user hasn't seen yet.\n",
    "        recommendations_df = sorted_user_predictions[~sorted_user_predictions['Uid'].isin(items_to_ignore)] \\\n",
    "                               .sort_values('Review_Rating', ascending = False) \\\n",
    "                               .head(topn)\n",
    "\n",
    "        if verbose:\n",
    "            if self.items_df is None:\n",
    "                raise Exception('\"items_df\" is required in verbose mode')\n",
    "\n",
    "            recommendations_df = recommendations_df.merge(self.items_df, how = 'left', \n",
    "                                                          left_on = 'Uid', \n",
    "                                                          right_on = 'Uid')[['Review_Rating', 'Uid', 'title']]\n",
    "\n",
    "\n",
    "        return recommendations_df"
   ]
  },
  {
   "cell_type": "code",
   "execution_count": 156,
   "id": "5278a006",
   "metadata": {},
   "outputs": [],
   "source": [
    "cf_recommender_model = CFRecommender(cf_preds_df, books_selected)"
   ]
  },
  {
   "cell_type": "code",
   "execution_count": 157,
   "id": "db0aaa47",
   "metadata": {},
   "outputs": [
    {
     "name": "stdout",
     "output_type": "stream",
     "text": [
      "Evaluating Collaborative Filtering (SVD Matrix Factorization) model...\n",
      "448 users processed\n",
      "\n",
      "Global metrics:\n",
      "{'modelName': 'Collaborative Filtering', 'recall@5': 0.30488305293393514, 'recall@10': 0.41991519627957874}\n"
     ]
    },
    {
     "data": {
      "text/html": [
       "<div>\n",
       "<style scoped>\n",
       "    .dataframe tbody tr th:only-of-type {\n",
       "        vertical-align: middle;\n",
       "    }\n",
       "\n",
       "    .dataframe tbody tr th {\n",
       "        vertical-align: top;\n",
       "    }\n",
       "\n",
       "    .dataframe thead th {\n",
       "        text-align: right;\n",
       "    }\n",
       "</style>\n",
       "<table border=\"1\" class=\"dataframe\">\n",
       "  <thead>\n",
       "    <tr style=\"text-align: right;\">\n",
       "      <th></th>\n",
       "      <th>hits@5_count</th>\n",
       "      <th>hits@10_count</th>\n",
       "      <th>interacted_count</th>\n",
       "      <th>recall@5</th>\n",
       "      <th>recall@10</th>\n",
       "      <th>_person_id</th>\n",
       "    </tr>\n",
       "  </thead>\n",
       "  <tbody>\n",
       "    <tr>\n",
       "      <th>35</th>\n",
       "      <td>25</td>\n",
       "      <td>36</td>\n",
       "      <td>76</td>\n",
       "      <td>0.328947</td>\n",
       "      <td>0.473684</td>\n",
       "      <td>15602</td>\n",
       "    </tr>\n",
       "    <tr>\n",
       "      <th>31</th>\n",
       "      <td>21</td>\n",
       "      <td>26</td>\n",
       "      <td>70</td>\n",
       "      <td>0.300000</td>\n",
       "      <td>0.371429</td>\n",
       "      <td>17161</td>\n",
       "    </tr>\n",
       "    <tr>\n",
       "      <th>11</th>\n",
       "      <td>18</td>\n",
       "      <td>27</td>\n",
       "      <td>69</td>\n",
       "      <td>0.260870</td>\n",
       "      <td>0.391304</td>\n",
       "      <td>2557</td>\n",
       "    </tr>\n",
       "    <tr>\n",
       "      <th>168</th>\n",
       "      <td>30</td>\n",
       "      <td>39</td>\n",
       "      <td>63</td>\n",
       "      <td>0.476190</td>\n",
       "      <td>0.619048</td>\n",
       "      <td>1863</td>\n",
       "    </tr>\n",
       "    <tr>\n",
       "      <th>87</th>\n",
       "      <td>18</td>\n",
       "      <td>27</td>\n",
       "      <td>63</td>\n",
       "      <td>0.285714</td>\n",
       "      <td>0.428571</td>\n",
       "      <td>7740</td>\n",
       "    </tr>\n",
       "    <tr>\n",
       "      <th>20</th>\n",
       "      <td>16</td>\n",
       "      <td>20</td>\n",
       "      <td>62</td>\n",
       "      <td>0.258065</td>\n",
       "      <td>0.322581</td>\n",
       "      <td>26336</td>\n",
       "    </tr>\n",
       "    <tr>\n",
       "      <th>156</th>\n",
       "      <td>18</td>\n",
       "      <td>25</td>\n",
       "      <td>62</td>\n",
       "      <td>0.290323</td>\n",
       "      <td>0.403226</td>\n",
       "      <td>22026</td>\n",
       "    </tr>\n",
       "    <tr>\n",
       "      <th>61</th>\n",
       "      <td>5</td>\n",
       "      <td>12</td>\n",
       "      <td>61</td>\n",
       "      <td>0.081967</td>\n",
       "      <td>0.196721</td>\n",
       "      <td>421</td>\n",
       "    </tr>\n",
       "    <tr>\n",
       "      <th>276</th>\n",
       "      <td>24</td>\n",
       "      <td>33</td>\n",
       "      <td>60</td>\n",
       "      <td>0.400000</td>\n",
       "      <td>0.550000</td>\n",
       "      <td>16300</td>\n",
       "    </tr>\n",
       "    <tr>\n",
       "      <th>83</th>\n",
       "      <td>15</td>\n",
       "      <td>31</td>\n",
       "      <td>56</td>\n",
       "      <td>0.267857</td>\n",
       "      <td>0.553571</td>\n",
       "      <td>16765</td>\n",
       "    </tr>\n",
       "  </tbody>\n",
       "</table>\n",
       "</div>"
      ],
      "text/plain": [
       "     hits@5_count  hits@10_count  interacted_count  recall@5  recall@10  \\\n",
       "35             25             36                76  0.328947   0.473684   \n",
       "31             21             26                70  0.300000   0.371429   \n",
       "11             18             27                69  0.260870   0.391304   \n",
       "168            30             39                63  0.476190   0.619048   \n",
       "87             18             27                63  0.285714   0.428571   \n",
       "20             16             20                62  0.258065   0.322581   \n",
       "156            18             25                62  0.290323   0.403226   \n",
       "61              5             12                61  0.081967   0.196721   \n",
       "276            24             33                60  0.400000   0.550000   \n",
       "83             15             31                56  0.267857   0.553571   \n",
       "\n",
       "     _person_id  \n",
       "35        15602  \n",
       "31        17161  \n",
       "11         2557  \n",
       "168        1863  \n",
       "87         7740  \n",
       "20        26336  \n",
       "156       22026  \n",
       "61          421  \n",
       "276       16300  \n",
       "83        16765  "
      ]
     },
     "execution_count": 157,
     "metadata": {},
     "output_type": "execute_result"
    }
   ],
   "source": [
    "print('Evaluating Collaborative Filtering (SVD Matrix Factorization) model...')\n",
    "cf_global_metrics, cf_detailed_results_df = model_evaluator.evaluate_model(cf_recommender_model)\n",
    "\n",
    "print('\\nGlobal metrics:\\n%s' % cf_global_metrics)\n",
    "cf_detailed_results_df.head(10)"
   ]
  },
  {
   "cell_type": "markdown",
   "id": "f80a53ab",
   "metadata": {},
   "source": [
    "Evaluating the Collaborative Filtering model (SVD matrix factorization), we observe that we got **Recall@5 ≈ 30.49%** and **Recall@10 ≈ (41.99%)**."
   ]
  },
  {
   "cell_type": "markdown",
   "id": "348e3e21",
   "metadata": {},
   "source": [
    "#### Next we iterate over a list of the number of factors to find the best number of factors $k$"
   ]
  },
  {
   "cell_type": "code",
   "execution_count": null,
   "id": "3bf978ec",
   "metadata": {},
   "outputs": [],
   "source": [
    "num_factor = np.linspace(10, 100, 91, dtype='int64')\n",
    "\n",
    "global_recall_5 = []\n",
    "global_recall_10 = []\n",
    "\n",
    "for n in num_factor:\n",
    "    print(\"Number of factor is: \", n)\n",
    "    U, sigma, Vt = svds(users_items_pivot_sparse_matrix, k = n)\n",
    "    sigma = np.diag(sigma)\n",
    "    \n",
    "    all_user_predicted_ratings = np.dot(np.dot(U, sigma), Vt) \n",
    "    all_user_predicted_ratings_norm = (all_user_predicted_ratings - all_user_predicted_ratings.min()) / \\\n",
    "                                    (all_user_predicted_ratings.max() - all_user_predicted_ratings.min())\n",
    "    \n",
    "    cf_preds_df = pd.DataFrame(all_user_predicted_ratings_norm, columns = users_items_pivot_matrix_df.columns, index=users_ids).transpose()\n",
    "    \n",
    "    # build model\n",
    "    cf_recommender_model = CFRecommender(cf_preds_df, books_selected)\n",
    "    cf_global_metrics, _ = model_evaluator.evaluate_model(cf_recommender_model)\n",
    "    \n",
    "    global_recall_5.append(cf_global_metrics['recall@5'])\n",
    "    global_recall_10.append(cf_global_metrics['recall@10'])"
   ]
  },
  {
   "cell_type": "markdown",
   "id": "2d4a87b0",
   "metadata": {},
   "source": [
    "#### Plot the metric performance v.s. number of factors (k)"
   ]
  },
  {
   "cell_type": "code",
   "execution_count": 216,
   "id": "85c38741",
   "metadata": {},
   "outputs": [
    {
     "data": {
      "image/png": "[encoded data removed]",
      "text/plain": [
       "<Figure size 864x432 with 1 Axes>"
      ]
     },
     "metadata": {
      "needs_background": "light"
     },
     "output_type": "display_data"
    }
   ],
   "source": [
    "# compute the average of Recall@5 & Recall@10\n",
    "average_metric = 0.5 * (np.array(global_recall_5) + np.array(global_recall_10))\n",
    "\n",
    "plt.figure(figsize=(12, 6))\n",
    "plt.plot(num_factor, global_recall_5, label = 'Global Recall@5')\n",
    "plt.plot(num_factor, global_recall_10, label = 'Global Recall@10')\n",
    "plt.plot(num_factor, average_metric, label = 'Average performance')\n",
    "\n",
    "plt.plot(23, 0.365, 'o', ms=5 * 2, mec='red', mfc='none', mew=2)\n",
    "plt.annotate('Best average', xy=(23, 0.368), xytext=(26, 0.38), fontsize=14,\n",
    "            arrowprops=dict(facecolor='red', shrink=0.04))\n",
    "\n",
    "plt.title('CF Performance v.s. Number of factors')\n",
    "plt.xlabel('Number of factors (k) in SVD')\n",
    "plt.ylabel('Metrics')\n",
    "plt.grid()\n",
    "plt.legend(loc='best')\n",
    "plt.show()"
   ]
  },
  {
   "cell_type": "markdown",
   "id": "630b951c",
   "metadata": {},
   "source": [
    "#### Find the optimal number of factors based on the average performance of metrics"
   ]
  },
  {
   "cell_type": "code",
   "execution_count": 189,
   "id": "3fb8bcf4",
   "metadata": {},
   "outputs": [
    {
     "name": "stdout",
     "output_type": "stream",
     "text": [
      "The best number of factor k =  23\n",
      "The corresponding Recall@5 =  0.3036520311858843\n",
      "The corresponding Recall@10 =  0.4275748871563398\n"
     ]
    }
   ],
   "source": [
    "index = average_metric.argmax()\n",
    "k_optimal = num_factor[index]\n",
    "\n",
    "print(\"The best number of factor k = \", k_optimal)\n",
    "print(\"The corresponding Recall@5 = \", global_recall_5[index])\n",
    "print(\"The corresponding Recall@10 = \", global_recall_10[index])"
   ]
  },
  {
   "cell_type": "code",
   "execution_count": 191,
   "id": "eba77279",
   "metadata": {},
   "outputs": [
    {
     "data": {
      "text/plain": [
       "(0.30830255778963206, 0.42976337026398576)"
      ]
     },
     "execution_count": 191,
     "metadata": {},
     "output_type": "execute_result"
    }
   ],
   "source": [
    "# maximum of two metrics, we can see no large differences with our chosen optimal k\n",
    "np.max(global_recall_5), np.max(global_recall_10)"
   ]
  },
  {
   "cell_type": "markdown",
   "id": "a20e06d7",
   "metadata": {},
   "source": [
    "#### Re-train the model with optimal k = 23"
   ]
  },
  {
   "cell_type": "code",
   "execution_count": 198,
   "id": "ba9ce8d8",
   "metadata": {},
   "outputs": [
    {
     "name": "stdout",
     "output_type": "stream",
     "text": [
      "Evaluating Collaborative Filtering (SVD Matrix Factorization) model...\n",
      "448 users processed\n",
      "\n",
      "Global metrics:\n",
      "{'modelName': 'Collaborative Filtering', 'recall@5': 0.3036520311858843, 'recall@10': 0.4275748871563398}\n"
     ]
    },
    {
     "data": {
      "text/html": [
       "<div>\n",
       "<style scoped>\n",
       "    .dataframe tbody tr th:only-of-type {\n",
       "        vertical-align: middle;\n",
       "    }\n",
       "\n",
       "    .dataframe tbody tr th {\n",
       "        vertical-align: top;\n",
       "    }\n",
       "\n",
       "    .dataframe thead th {\n",
       "        text-align: right;\n",
       "    }\n",
       "</style>\n",
       "<table border=\"1\" class=\"dataframe\">\n",
       "  <thead>\n",
       "    <tr style=\"text-align: right;\">\n",
       "      <th></th>\n",
       "      <th>hits@5_count</th>\n",
       "      <th>hits@10_count</th>\n",
       "      <th>interacted_count</th>\n",
       "      <th>recall@5</th>\n",
       "      <th>recall@10</th>\n",
       "      <th>_person_id</th>\n",
       "    </tr>\n",
       "  </thead>\n",
       "  <tbody>\n",
       "    <tr>\n",
       "      <th>35</th>\n",
       "      <td>28</td>\n",
       "      <td>40</td>\n",
       "      <td>76</td>\n",
       "      <td>0.368421</td>\n",
       "      <td>0.526316</td>\n",
       "      <td>15602</td>\n",
       "    </tr>\n",
       "    <tr>\n",
       "      <th>31</th>\n",
       "      <td>24</td>\n",
       "      <td>31</td>\n",
       "      <td>70</td>\n",
       "      <td>0.342857</td>\n",
       "      <td>0.442857</td>\n",
       "      <td>17161</td>\n",
       "    </tr>\n",
       "    <tr>\n",
       "      <th>11</th>\n",
       "      <td>22</td>\n",
       "      <td>29</td>\n",
       "      <td>69</td>\n",
       "      <td>0.318841</td>\n",
       "      <td>0.420290</td>\n",
       "      <td>2557</td>\n",
       "    </tr>\n",
       "    <tr>\n",
       "      <th>168</th>\n",
       "      <td>28</td>\n",
       "      <td>35</td>\n",
       "      <td>63</td>\n",
       "      <td>0.444444</td>\n",
       "      <td>0.555556</td>\n",
       "      <td>1863</td>\n",
       "    </tr>\n",
       "    <tr>\n",
       "      <th>87</th>\n",
       "      <td>20</td>\n",
       "      <td>33</td>\n",
       "      <td>63</td>\n",
       "      <td>0.317460</td>\n",
       "      <td>0.523810</td>\n",
       "      <td>7740</td>\n",
       "    </tr>\n",
       "    <tr>\n",
       "      <th>20</th>\n",
       "      <td>21</td>\n",
       "      <td>34</td>\n",
       "      <td>62</td>\n",
       "      <td>0.338710</td>\n",
       "      <td>0.548387</td>\n",
       "      <td>26336</td>\n",
       "    </tr>\n",
       "    <tr>\n",
       "      <th>156</th>\n",
       "      <td>25</td>\n",
       "      <td>29</td>\n",
       "      <td>62</td>\n",
       "      <td>0.403226</td>\n",
       "      <td>0.467742</td>\n",
       "      <td>22026</td>\n",
       "    </tr>\n",
       "    <tr>\n",
       "      <th>61</th>\n",
       "      <td>15</td>\n",
       "      <td>21</td>\n",
       "      <td>61</td>\n",
       "      <td>0.245902</td>\n",
       "      <td>0.344262</td>\n",
       "      <td>421</td>\n",
       "    </tr>\n",
       "    <tr>\n",
       "      <th>276</th>\n",
       "      <td>23</td>\n",
       "      <td>31</td>\n",
       "      <td>60</td>\n",
       "      <td>0.383333</td>\n",
       "      <td>0.516667</td>\n",
       "      <td>16300</td>\n",
       "    </tr>\n",
       "    <tr>\n",
       "      <th>83</th>\n",
       "      <td>23</td>\n",
       "      <td>29</td>\n",
       "      <td>56</td>\n",
       "      <td>0.410714</td>\n",
       "      <td>0.517857</td>\n",
       "      <td>16765</td>\n",
       "    </tr>\n",
       "  </tbody>\n",
       "</table>\n",
       "</div>"
      ],
      "text/plain": [
       "     hits@5_count  hits@10_count  interacted_count  recall@5  recall@10  \\\n",
       "35             28             40                76  0.368421   0.526316   \n",
       "31             24             31                70  0.342857   0.442857   \n",
       "11             22             29                69  0.318841   0.420290   \n",
       "168            28             35                63  0.444444   0.555556   \n",
       "87             20             33                63  0.317460   0.523810   \n",
       "20             21             34                62  0.338710   0.548387   \n",
       "156            25             29                62  0.403226   0.467742   \n",
       "61             15             21                61  0.245902   0.344262   \n",
       "276            23             31                60  0.383333   0.516667   \n",
       "83             23             29                56  0.410714   0.517857   \n",
       "\n",
       "     _person_id  \n",
       "35        15602  \n",
       "31        17161  \n",
       "11         2557  \n",
       "168        1863  \n",
       "87         7740  \n",
       "20        26336  \n",
       "156       22026  \n",
       "61          421  \n",
       "276       16300  \n",
       "83        16765  "
      ]
     },
     "execution_count": 198,
     "metadata": {},
     "output_type": "execute_result"
    }
   ],
   "source": [
    "U, sigma, Vt = svds(users_items_pivot_sparse_matrix, k = k_optimal)\n",
    "sigma = np.diag(sigma)\n",
    "\n",
    "all_user_predicted_ratings = np.dot(np.dot(U, sigma), Vt) \n",
    "all_user_predicted_ratings_norm = (all_user_predicted_ratings - all_user_predicted_ratings.min()) / \\\n",
    "                                (all_user_predicted_ratings.max() - all_user_predicted_ratings.min())\n",
    "\n",
    "cf_preds_df = pd.DataFrame(all_user_predicted_ratings_norm, columns = users_items_pivot_matrix_df.columns, index=users_ids).transpose()\n",
    "\n",
    "# build model\n",
    "cf_recommender_model = CFRecommender(cf_preds_df, books_selected)\n",
    "\n",
    "print('Evaluating Collaborative Filtering (SVD Matrix Factorization) model...')\n",
    "cf_global_metrics, cf_detailed_results_df = model_evaluator.evaluate_model(cf_recommender_model)\n",
    "\n",
    "print('\\nGlobal metrics:\\n%s' % cf_global_metrics)\n",
    "cf_detailed_results_df.head(10)"
   ]
  },
  {
   "cell_type": "markdown",
   "id": "531a2dbb",
   "metadata": {},
   "source": [
    "The optimal collaborative filtering model with $k=23$ demonstrates **Recall@5 ≈ 30.37%** and **Recall@10 ≈ 42.76%**. Also a great improvement from the baseline, but a little bit inferior to our content-based filtering model, possibly due to the great sparsity nature of our dataset. Methods like SVD, which are based on some mathematical theories might not be able to take account of too many 'exceptions' in review ratings in real world."
   ]
  },
  {
   "cell_type": "markdown",
   "id": "92161511",
   "metadata": {},
   "source": [
    "### 2.4 &nbsp; Hybrid model (Content-based + Collaborative filtering)\n",
    "\n",
    "- Combine pervious two models: **Content-based filtering** & **Collaborative filtering** together as a hybrid model\n",
    "- We anticipate these kind of ensembing models will produce a better result than single models"
   ]
  },
  {
   "cell_type": "code",
   "execution_count": 199,
   "id": "890797e9",
   "metadata": {},
   "outputs": [],
   "source": [
    "class HybridRecommender:\n",
    "    \n",
    "    MODEL_NAME = 'Hybrid'\n",
    "    \n",
    "    def __init__(self, cb_rec_model, cf_rec_model, items_df, cb_ensemble_weight=1.0, cf_ensemble_weight=1.0):\n",
    "        self.cb_rec_model = cb_rec_model\n",
    "        self.cf_rec_model = cf_rec_model\n",
    "        self.cb_ensemble_weight = cb_ensemble_weight  # weight of content-based filtering\n",
    "        self.cf_ensemble_weight = cf_ensemble_weight  # weight of collaborative filtering\n",
    "        self.items_df = items_df\n",
    "        \n",
    "    def get_model_name(self):\n",
    "        return self.MODEL_NAME\n",
    "        \n",
    "    def recommend_items(self, user_id, items_to_ignore=[], topn=10, verbose=False):\n",
    "        # Getting the top-1000 Content-based filtering recommendations\n",
    "        cb_recs_df = self.cb_rec_model.recommend_items(user_id, items_to_ignore=items_to_ignore, verbose=verbose,\n",
    "                                                           topn=1000).rename(columns={'Review_Rating': 'Rating_CB'})\n",
    "        \n",
    "        # Getting the top-1000 Collaborative filtering recommendations\n",
    "        cf_recs_df = self.cf_rec_model.recommend_items(user_id, items_to_ignore=items_to_ignore, verbose=verbose, \n",
    "                                                           topn=1000).rename(columns={'Review_Rating': 'Rating_CF'})\n",
    "        \n",
    "        # Combining the results by Uid\n",
    "        recs_df = cb_recs_df.merge(cf_recs_df,\n",
    "                                   how = 'outer', \n",
    "                                   left_on = 'Uid', \n",
    "                                   right_on = 'Uid').fillna(0.0)\n",
    "        \n",
    "        # Computing a hybrid recommendation score based on CF and CB scores \n",
    "        recs_df['Rating_Hybrid'] = (recs_df['Rating_CB'] * self.cb_ensemble_weight) \\\n",
    "                                     + (recs_df['Rating_CF'] * self.cf_ensemble_weight)\n",
    "        \n",
    "        # Sorting recommendations by hybrid score\n",
    "        recommendations_df = recs_df.sort_values('Rating_Hybrid', ascending=False).head(topn)\n",
    "\n",
    "        if verbose:\n",
    "            if self.items_df is None:\n",
    "                raise Exception('\"items_df\" is required in verbose mode')\n",
    "\n",
    "            recommendations_df = recommendations_df.merge(self.items_df, how = 'left', \n",
    "                                                          left_on = 'Uid', \n",
    "                                                          right_on = 'Uid')[['Rating_Hybrid', 'Uid', 'Title']]\n",
    "\n",
    "\n",
    "        return recommendations_df"
   ]
  },
  {
   "cell_type": "markdown",
   "id": "65a77440",
   "metadata": {},
   "source": [
    "#### We first simply use the balanced weights 1 : 1 for two models\n",
    "- You can choose optimal weights by trial and error, or use linear regression to study the optimal weights"
   ]
  },
  {
   "cell_type": "code",
   "execution_count": 200,
   "id": "08b598ce",
   "metadata": {},
   "outputs": [],
   "source": [
    "hybrid_recommender_model = HybridRecommender(content_based_recommender_model, cf_recommender_model, books_selected,\n",
    "                                             cb_ensemble_weight=1.0, cf_ensemble_weight=1.0)"
   ]
  },
  {
   "cell_type": "code",
   "execution_count": 201,
   "id": "13905efb",
   "metadata": {},
   "outputs": [
    {
     "name": "stdout",
     "output_type": "stream",
     "text": [
      "Evaluating Hybrid model...\n",
      "448 users processed\n",
      "\n",
      "Global metrics:\n",
      "{'modelName': 'Hybrid', 'recall@5': 0.515387771850636, 'recall@10': 0.6209820817945562}\n"
     ]
    },
    {
     "data": {
      "text/html": [
       "<div>\n",
       "<style scoped>\n",
       "    .dataframe tbody tr th:only-of-type {\n",
       "        vertical-align: middle;\n",
       "    }\n",
       "\n",
       "    .dataframe tbody tr th {\n",
       "        vertical-align: top;\n",
       "    }\n",
       "\n",
       "    .dataframe thead th {\n",
       "        text-align: right;\n",
       "    }\n",
       "</style>\n",
       "<table border=\"1\" class=\"dataframe\">\n",
       "  <thead>\n",
       "    <tr style=\"text-align: right;\">\n",
       "      <th></th>\n",
       "      <th>hits@5_count</th>\n",
       "      <th>hits@10_count</th>\n",
       "      <th>interacted_count</th>\n",
       "      <th>recall@5</th>\n",
       "      <th>recall@10</th>\n",
       "      <th>_person_id</th>\n",
       "    </tr>\n",
       "  </thead>\n",
       "  <tbody>\n",
       "    <tr>\n",
       "      <th>35</th>\n",
       "      <td>39</td>\n",
       "      <td>46</td>\n",
       "      <td>76</td>\n",
       "      <td>0.513158</td>\n",
       "      <td>0.605263</td>\n",
       "      <td>15602</td>\n",
       "    </tr>\n",
       "    <tr>\n",
       "      <th>31</th>\n",
       "      <td>29</td>\n",
       "      <td>39</td>\n",
       "      <td>70</td>\n",
       "      <td>0.414286</td>\n",
       "      <td>0.557143</td>\n",
       "      <td>17161</td>\n",
       "    </tr>\n",
       "    <tr>\n",
       "      <th>11</th>\n",
       "      <td>25</td>\n",
       "      <td>38</td>\n",
       "      <td>69</td>\n",
       "      <td>0.362319</td>\n",
       "      <td>0.550725</td>\n",
       "      <td>2557</td>\n",
       "    </tr>\n",
       "    <tr>\n",
       "      <th>168</th>\n",
       "      <td>30</td>\n",
       "      <td>37</td>\n",
       "      <td>63</td>\n",
       "      <td>0.476190</td>\n",
       "      <td>0.587302</td>\n",
       "      <td>1863</td>\n",
       "    </tr>\n",
       "    <tr>\n",
       "      <th>87</th>\n",
       "      <td>28</td>\n",
       "      <td>36</td>\n",
       "      <td>63</td>\n",
       "      <td>0.444444</td>\n",
       "      <td>0.571429</td>\n",
       "      <td>7740</td>\n",
       "    </tr>\n",
       "    <tr>\n",
       "      <th>20</th>\n",
       "      <td>31</td>\n",
       "      <td>40</td>\n",
       "      <td>62</td>\n",
       "      <td>0.500000</td>\n",
       "      <td>0.645161</td>\n",
       "      <td>26336</td>\n",
       "    </tr>\n",
       "    <tr>\n",
       "      <th>156</th>\n",
       "      <td>26</td>\n",
       "      <td>32</td>\n",
       "      <td>62</td>\n",
       "      <td>0.419355</td>\n",
       "      <td>0.516129</td>\n",
       "      <td>22026</td>\n",
       "    </tr>\n",
       "    <tr>\n",
       "      <th>61</th>\n",
       "      <td>15</td>\n",
       "      <td>22</td>\n",
       "      <td>61</td>\n",
       "      <td>0.245902</td>\n",
       "      <td>0.360656</td>\n",
       "      <td>421</td>\n",
       "    </tr>\n",
       "    <tr>\n",
       "      <th>276</th>\n",
       "      <td>30</td>\n",
       "      <td>35</td>\n",
       "      <td>60</td>\n",
       "      <td>0.500000</td>\n",
       "      <td>0.583333</td>\n",
       "      <td>16300</td>\n",
       "    </tr>\n",
       "    <tr>\n",
       "      <th>83</th>\n",
       "      <td>21</td>\n",
       "      <td>32</td>\n",
       "      <td>56</td>\n",
       "      <td>0.375000</td>\n",
       "      <td>0.571429</td>\n",
       "      <td>16765</td>\n",
       "    </tr>\n",
       "  </tbody>\n",
       "</table>\n",
       "</div>"
      ],
      "text/plain": [
       "     hits@5_count  hits@10_count  interacted_count  recall@5  recall@10  \\\n",
       "35             39             46                76  0.513158   0.605263   \n",
       "31             29             39                70  0.414286   0.557143   \n",
       "11             25             38                69  0.362319   0.550725   \n",
       "168            30             37                63  0.476190   0.587302   \n",
       "87             28             36                63  0.444444   0.571429   \n",
       "20             31             40                62  0.500000   0.645161   \n",
       "156            26             32                62  0.419355   0.516129   \n",
       "61             15             22                61  0.245902   0.360656   \n",
       "276            30             35                60  0.500000   0.583333   \n",
       "83             21             32                56  0.375000   0.571429   \n",
       "\n",
       "     _person_id  \n",
       "35        15602  \n",
       "31        17161  \n",
       "11         2557  \n",
       "168        1863  \n",
       "87         7740  \n",
       "20        26336  \n",
       "156       22026  \n",
       "61          421  \n",
       "276       16300  \n",
       "83        16765  "
      ]
     },
     "execution_count": 201,
     "metadata": {},
     "output_type": "execute_result"
    }
   ],
   "source": [
    "print('Evaluating Hybrid model...')\n",
    "hybrid_global_metrics, hybrid_detailed_results_df = model_evaluator.evaluate_model(hybrid_recommender_model)\n",
    "\n",
    "print('\\nGlobal metrics:\\n%s' % hybrid_global_metrics)\n",
    "hybrid_detailed_results_df.head(10)"
   ]
  },
  {
   "cell_type": "markdown",
   "id": "4f3eb656",
   "metadata": {},
   "source": [
    "#### Comparing these models' performance"
   ]
  },
  {
   "cell_type": "code",
   "execution_count": 203,
   "id": "a59b3de9",
   "metadata": {},
   "outputs": [
    {
     "data": {
      "text/html": [
       "<div>\n",
       "<style scoped>\n",
       "    .dataframe tbody tr th:only-of-type {\n",
       "        vertical-align: middle;\n",
       "    }\n",
       "\n",
       "    .dataframe tbody tr th {\n",
       "        vertical-align: top;\n",
       "    }\n",
       "\n",
       "    .dataframe thead th {\n",
       "        text-align: right;\n",
       "    }\n",
       "</style>\n",
       "<table border=\"1\" class=\"dataframe\">\n",
       "  <thead>\n",
       "    <tr style=\"text-align: right;\">\n",
       "      <th></th>\n",
       "      <th>recall@5</th>\n",
       "      <th>recall@10</th>\n",
       "    </tr>\n",
       "    <tr>\n",
       "      <th>modelName</th>\n",
       "      <th></th>\n",
       "      <th></th>\n",
       "    </tr>\n",
       "  </thead>\n",
       "  <tbody>\n",
       "    <tr>\n",
       "      <th>Popularity</th>\n",
       "      <td>0.124573</td>\n",
       "      <td>0.226173</td>\n",
       "    </tr>\n",
       "    <tr>\n",
       "      <th>Content-Based</th>\n",
       "      <td>0.363873</td>\n",
       "      <td>0.486941</td>\n",
       "    </tr>\n",
       "    <tr>\n",
       "      <th>Collaborative Filtering</th>\n",
       "      <td>0.303652</td>\n",
       "      <td>0.427575</td>\n",
       "    </tr>\n",
       "    <tr>\n",
       "      <th>Hybrid</th>\n",
       "      <td>0.515388</td>\n",
       "      <td>0.620982</td>\n",
       "    </tr>\n",
       "  </tbody>\n",
       "</table>\n",
       "</div>"
      ],
      "text/plain": [
       "                         recall@5  recall@10\n",
       "modelName                                   \n",
       "Popularity               0.124573   0.226173\n",
       "Content-Based            0.363873   0.486941\n",
       "Collaborative Filtering  0.303652   0.427575\n",
       "Hybrid                   0.515388   0.620982"
      ]
     },
     "execution_count": 203,
     "metadata": {},
     "output_type": "execute_result"
    }
   ],
   "source": [
    "global_metrics_df = pd.DataFrame([pop_global_metrics, cb_global_metrics, cf_global_metrics, hybrid_global_metrics]) \\\n",
    "                        .set_index('modelName')\n",
    "global_metrics_df"
   ]
  },
  {
   "cell_type": "markdown",
   "id": "49025102",
   "metadata": {},
   "source": [
    "#### Generally we can observe the highest performance in our final hybrid model"
   ]
  },
  {
   "cell_type": "code",
   "execution_count": 208,
   "id": "085888b2",
   "metadata": {},
   "outputs": [
    {
     "data": {
      "image/png": "[encoded data removed]",
      "text/plain": [
       "<Figure size 1080x576 with 1 Axes>"
      ]
     },
     "metadata": {
      "needs_background": "light"
     },
     "output_type": "display_data"
    }
   ],
   "source": [
    "%matplotlib inline\n",
    "ax = global_metrics_df.transpose().plot(kind='bar', figsize=(15,8), rot=0)\n",
    "for p in ax.patches:\n",
    "    ax.annotate(\"%.3f\" % p.get_height(), (p.get_x() + p.get_width() / 2., p.get_height()), ha='center', va='center', xytext=(0, 10), textcoords='offset points')"
   ]
  },
  {
   "cell_type": "markdown",
   "id": "93589d01",
   "metadata": {},
   "source": [
    "#### Though our models demonstrate some impressive results, but we should also pay attention to some potential limitations:\n",
    "- Here we use **Recall@N** to measure the performance of models, but imagine for some 'extreme' user who is almost always being critical to books (i.e. always posts negative reviews), then our model only learns from the books **relevant** to him and it will be quitely likely to recommend books that might not be the real favor of him.\n",
    "\n",
    "- This can be extends to the *cold-start* problem for new users, if you only know one rating from this new user and that rating happens to be negative, the recommendation models might not work that well as desired;\n",
    "\n",
    "- Therefore, currently we use users with at least 40 ratings, but we will try to test our trained models on users with less ratings (eliminated before) to simulate this situation and see how our models work and discuss potential ways to advance performance. "
   ]
  },
  {
   "cell_type": "markdown",
   "id": "111ad886",
   "metadata": {},
   "source": [
    "## Part 3) &nbsp; Natural Language Processing (NLP) models"
   ]
  },
  {
   "cell_type": "markdown",
   "id": "972d9123",
   "metadata": {},
   "source": [
    "In this part, we consider some NLP models to prepare for the interaction tools that will be presented in the next module. The main functions are as follows:\n",
    "- **Tag filtering system**: we want to extract ***tags*** for each book to enable users to filter books & comments by tags\n",
    "    - **Topic Modeling** (Section 3.2): LDA method\n",
    "    - **Keywords Extraction** (Section 3.3): TextRank\n",
    "    - **Keyphrases Extraction** (Section 3.4): Yake!, keyBERT, Rake, etc.\n",
    "    <br></br>\n",
    "- **Extractive Summarization** (Section 3.5): Extract top review sentences to serve as a ***summary*** of all reviews of each book\n",
    "    - Baseline approach\n",
    "    - Balanced summarization"
   ]
  },
  {
   "cell_type": "code",
   "execution_count": 1,
   "id": "2d80e923",
   "metadata": {},
   "outputs": [],
   "source": [
    "import pandas as pd\n",
    "import numpy as np\n",
    "import os\n",
    "import re\n",
    "\n",
    "import warnings\n",
    "warnings.filterwarnings(\"ignore\")"
   ]
  },
  {
   "cell_type": "markdown",
   "id": "65be18d5",
   "metadata": {},
   "source": [
    "### 3.1 &nbsp; Texts Pre-processing\n",
    "\n",
    "Before we start the NLP models, we first conduct some pre-processing on our review content"
   ]
  },
  {
   "cell_type": "markdown",
   "id": "020dc23c",
   "metadata": {},
   "source": [
    "#### Load the review dataset"
   ]
  },
  {
   "cell_type": "code",
   "execution_count": 2,
   "id": "9f8789ec",
   "metadata": {},
   "outputs": [
    {
     "data": {
      "text/html": [
       "<div>\n",
       "<style scoped>\n",
       "    .dataframe tbody tr th:only-of-type {\n",
       "        vertical-align: middle;\n",
       "    }\n",
       "\n",
       "    .dataframe tbody tr th {\n",
       "        vertical-align: top;\n",
       "    }\n",
       "\n",
       "    .dataframe thead th {\n",
       "        text-align: right;\n",
       "    }\n",
       "</style>\n",
       "<table border=\"1\" class=\"dataframe\">\n",
       "  <thead>\n",
       "    <tr style=\"text-align: right;\">\n",
       "      <th></th>\n",
       "      <th>Uid</th>\n",
       "      <th>Title</th>\n",
       "      <th>Reviewer</th>\n",
       "      <th>N_Review</th>\n",
       "      <th>N_Follower</th>\n",
       "      <th>Review_Rating</th>\n",
       "      <th>Review_Date</th>\n",
       "      <th>Content</th>\n",
       "      <th>N_Likes</th>\n",
       "      <th>N_Comments</th>\n",
       "    </tr>\n",
       "  </thead>\n",
       "  <tbody>\n",
       "    <tr>\n",
       "      <th>0</th>\n",
       "      <td>13642600</td>\n",
       "      <td>A Splash of Red The Life and Art of Horace Pippin</td>\n",
       "      <td>Chaplain Walle</td>\n",
       "      <td>380</td>\n",
       "      <td>18</td>\n",
       "      <td>4</td>\n",
       "      <td>January 22, 2023</td>\n",
       "      <td>review later</td>\n",
       "      <td>22</td>\n",
       "      <td>0</td>\n",
       "    </tr>\n",
       "    <tr>\n",
       "      <th>1</th>\n",
       "      <td>13642600</td>\n",
       "      <td>A Splash of Red The Life and Art of Horace Pippin</td>\n",
       "      <td>Lisa</td>\n",
       "      <td>750</td>\n",
       "      <td>131</td>\n",
       "      <td>5</td>\n",
       "      <td>November 7, 2014</td>\n",
       "      <td>We enjoyed this beautifully illustrated book a...</td>\n",
       "      <td>11</td>\n",
       "      <td>2</td>\n",
       "    </tr>\n",
       "    <tr>\n",
       "      <th>2</th>\n",
       "      <td>13642600</td>\n",
       "      <td>A Splash of Red The Life and Art of Horace Pippin</td>\n",
       "      <td>Moonkiszt</td>\n",
       "      <td>1922</td>\n",
       "      <td>205</td>\n",
       "      <td>3</td>\n",
       "      <td>January 30, 2022</td>\n",
       "      <td>Featured in a grandma reads session.Exactly wh...</td>\n",
       "      <td>7</td>\n",
       "      <td>0</td>\n",
       "    </tr>\n",
       "    <tr>\n",
       "      <th>3</th>\n",
       "      <td>13642600</td>\n",
       "      <td>A Splash of Red The Life and Art of Horace Pippin</td>\n",
       "      <td>Cindy Newton</td>\n",
       "      <td>600</td>\n",
       "      <td>127</td>\n",
       "      <td>4</td>\n",
       "      <td>June 20, 2020</td>\n",
       "      <td>Cute nonfiction picture book over the life of ...</td>\n",
       "      <td>6</td>\n",
       "      <td>0</td>\n",
       "    </tr>\n",
       "    <tr>\n",
       "      <th>4</th>\n",
       "      <td>13642600</td>\n",
       "      <td>A Splash of Red The Life and Art of Horace Pippin</td>\n",
       "      <td>Agnė</td>\n",
       "      <td>744</td>\n",
       "      <td>57</td>\n",
       "      <td>3</td>\n",
       "      <td>August 16, 2017</td>\n",
       "      <td>A Splash of Red: The Life and Art of Horace Pi...</td>\n",
       "      <td>6</td>\n",
       "      <td>9</td>\n",
       "    </tr>\n",
       "  </tbody>\n",
       "</table>\n",
       "</div>"
      ],
      "text/plain": [
       "        Uid                                              Title  \\\n",
       "0  13642600  A Splash of Red The Life and Art of Horace Pippin   \n",
       "1  13642600  A Splash of Red The Life and Art of Horace Pippin   \n",
       "2  13642600  A Splash of Red The Life and Art of Horace Pippin   \n",
       "3  13642600  A Splash of Red The Life and Art of Horace Pippin   \n",
       "4  13642600  A Splash of Red The Life and Art of Horace Pippin   \n",
       "\n",
       "         Reviewer  N_Review  N_Follower  Review_Rating       Review_Date  \\\n",
       "0  Chaplain Walle       380          18              4  January 22, 2023   \n",
       "1            Lisa       750         131              5  November 7, 2014   \n",
       "2       Moonkiszt      1922         205              3  January 30, 2022   \n",
       "3    Cindy Newton       600         127              4     June 20, 2020   \n",
       "4            Agnė       744          57              3   August 16, 2017   \n",
       "\n",
       "                                             Content  N_Likes  N_Comments  \n",
       "0                                       review later       22           0  \n",
       "1  We enjoyed this beautifully illustrated book a...       11           2  \n",
       "2  Featured in a grandma reads session.Exactly wh...        7           0  \n",
       "3  Cute nonfiction picture book over the life of ...        6           0  \n",
       "4  A Splash of Red: The Life and Art of Horace Pi...        6           9  "
      ]
     },
     "execution_count": 2,
     "metadata": {},
     "output_type": "execute_result"
    }
   ],
   "source": [
    "df_reviews = pd.read_csv('./Datasets/Basic_datasets/Book_reviews_cleaned.csv')\n",
    "df_reviews.head(5)"
   ]
  },
  {
   "cell_type": "markdown",
   "id": "42e6fa5f",
   "metadata": {},
   "source": [
    "#### Here for NLP models, we are more interested in the textual reviews left by users: `Content`"
   ]
  },
  {
   "cell_type": "code",
   "execution_count": 3,
   "id": "d0715055",
   "metadata": {},
   "outputs": [
    {
     "data": {
      "text/html": [
       "<div>\n",
       "<style scoped>\n",
       "    .dataframe tbody tr th:only-of-type {\n",
       "        vertical-align: middle;\n",
       "    }\n",
       "\n",
       "    .dataframe tbody tr th {\n",
       "        vertical-align: top;\n",
       "    }\n",
       "\n",
       "    .dataframe thead th {\n",
       "        text-align: right;\n",
       "    }\n",
       "</style>\n",
       "<table border=\"1\" class=\"dataframe\">\n",
       "  <thead>\n",
       "    <tr style=\"text-align: right;\">\n",
       "      <th></th>\n",
       "      <th>Uid</th>\n",
       "      <th>Content</th>\n",
       "    </tr>\n",
       "  </thead>\n",
       "  <tbody>\n",
       "    <tr>\n",
       "      <th>0</th>\n",
       "      <td>13642600</td>\n",
       "      <td>review later</td>\n",
       "    </tr>\n",
       "    <tr>\n",
       "      <th>1</th>\n",
       "      <td>13642600</td>\n",
       "      <td>We enjoyed this beautifully illustrated book a...</td>\n",
       "    </tr>\n",
       "    <tr>\n",
       "      <th>2</th>\n",
       "      <td>13642600</td>\n",
       "      <td>Featured in a grandma reads session.Exactly wh...</td>\n",
       "    </tr>\n",
       "    <tr>\n",
       "      <th>3</th>\n",
       "      <td>13642600</td>\n",
       "      <td>Cute nonfiction picture book over the life of ...</td>\n",
       "    </tr>\n",
       "    <tr>\n",
       "      <th>4</th>\n",
       "      <td>13642600</td>\n",
       "      <td>A Splash of Red: The Life and Art of Horace Pi...</td>\n",
       "    </tr>\n",
       "  </tbody>\n",
       "</table>\n",
       "</div>"
      ],
      "text/plain": [
       "        Uid                                            Content\n",
       "0  13642600                                       review later\n",
       "1  13642600  We enjoyed this beautifully illustrated book a...\n",
       "2  13642600  Featured in a grandma reads session.Exactly wh...\n",
       "3  13642600  Cute nonfiction picture book over the life of ...\n",
       "4  13642600  A Splash of Red: The Life and Art of Horace Pi..."
      ]
     },
     "execution_count": 3,
     "metadata": {},
     "output_type": "execute_result"
    }
   ],
   "source": [
    "reviews = df_reviews[['Uid', 'Content']].copy()\n",
    "reviews.head(5)"
   ]
  },
  {
   "cell_type": "markdown",
   "id": "9aa735f6",
   "metadata": {},
   "source": [
    "#### Clean the reviews content\n",
    "\n",
    "- Lowercase\n",
    "- Remove punctuation\n",
    "- Remove digits\n",
    "- Remove stopwords & frequent but less meaningful words"
   ]
  },
  {
   "cell_type": "code",
   "execution_count": 4,
   "id": "03ce6f4e",
   "metadata": {},
   "outputs": [],
   "source": [
    "from string import punctuation\n",
    "\n",
    "def remove_punctuation(document):\n",
    "    no_punct_char = []\n",
    "    for character in document:\n",
    "        # replace sentence separation punctuation by empty char\n",
    "        if character in [',', '.', '?', ';']:\n",
    "            no_punct_char.append(' ')\n",
    "            continue\n",
    "            \n",
    "        if character not in punctuation:\n",
    "            no_punct_char.append(character)\n",
    "            \n",
    "    no_punct = ''.join(no_punct_char)\n",
    "    \n",
    "    return no_punct\n",
    "\n",
    "\n",
    "def remove_digit(document): \n",
    "    no_digit = ''.join([character for character in document if not character.isdigit()])\n",
    "    return no_digit"
   ]
  },
  {
   "cell_type": "code",
   "execution_count": 5,
   "id": "6fd22bdf",
   "metadata": {},
   "outputs": [],
   "source": [
    "reviews['Content'] = reviews['Content'].apply(str.lower) # lower case\n",
    "reviews['Content'] = reviews['Content'].apply(remove_punctuation)\n",
    "reviews['Content'] = reviews['Content'].apply(remove_digit)"
   ]
  },
  {
   "cell_type": "code",
   "execution_count": 6,
   "id": "2af47cc2",
   "metadata": {},
   "outputs": [
    {
     "data": {
      "text/html": [
       "<div>\n",
       "<style scoped>\n",
       "    .dataframe tbody tr th:only-of-type {\n",
       "        vertical-align: middle;\n",
       "    }\n",
       "\n",
       "    .dataframe tbody tr th {\n",
       "        vertical-align: top;\n",
       "    }\n",
       "\n",
       "    .dataframe thead th {\n",
       "        text-align: right;\n",
       "    }\n",
       "</style>\n",
       "<table border=\"1\" class=\"dataframe\">\n",
       "  <thead>\n",
       "    <tr style=\"text-align: right;\">\n",
       "      <th></th>\n",
       "      <th>Uid</th>\n",
       "      <th>Content</th>\n",
       "    </tr>\n",
       "  </thead>\n",
       "  <tbody>\n",
       "    <tr>\n",
       "      <th>0</th>\n",
       "      <td>13642600</td>\n",
       "      <td>review later</td>\n",
       "    </tr>\n",
       "    <tr>\n",
       "      <th>1</th>\n",
       "      <td>13642600</td>\n",
       "      <td>we enjoyed this beautifully illustrated book a...</td>\n",
       "    </tr>\n",
       "    <tr>\n",
       "      <th>2</th>\n",
       "      <td>13642600</td>\n",
       "      <td>featured in a grandma reads session exactly wh...</td>\n",
       "    </tr>\n",
       "    <tr>\n",
       "      <th>3</th>\n",
       "      <td>13642600</td>\n",
       "      <td>cute nonfiction picture book over the life of ...</td>\n",
       "    </tr>\n",
       "    <tr>\n",
       "      <th>4</th>\n",
       "      <td>13642600</td>\n",
       "      <td>a splash of red the life and art of horace pip...</td>\n",
       "    </tr>\n",
       "  </tbody>\n",
       "</table>\n",
       "</div>"
      ],
      "text/plain": [
       "        Uid                                            Content\n",
       "0  13642600                                       review later\n",
       "1  13642600  we enjoyed this beautifully illustrated book a...\n",
       "2  13642600  featured in a grandma reads session exactly wh...\n",
       "3  13642600  cute nonfiction picture book over the life of ...\n",
       "4  13642600  a splash of red the life and art of horace pip..."
      ]
     },
     "execution_count": 6,
     "metadata": {},
     "output_type": "execute_result"
    }
   ],
   "source": [
    "reviews.head()"
   ]
  },
  {
   "cell_type": "markdown",
   "id": "8e059b9b",
   "metadata": {},
   "source": [
    "#### Remove stopwords & frequent but less meaningful words\n",
    "\n",
    "Here we define a **drop probability** (idea from inverse freuqncy used in TD-IDF) to detect high-frequency words as follows:\n",
    "$$\\mathbb{P}_{Drop} = 1 - \\frac{t}{frequency}$$\n",
    "\n",
    "where t is a very small number and  we will drop the word has $\\mathbb{P}_{Drop} >= threshold$ to recude model noise and accelerate training "
   ]
  },
  {
   "cell_type": "code",
   "execution_count": 148,
   "id": "8b9dada9",
   "metadata": {},
   "outputs": [],
   "source": [
    "import nltk\n",
    "from nltk.corpus import stopwords\n",
    "\n",
    "# nltk.download('stopwords')\n",
    "stop_words = set(stopwords.words('english'))\n",
    "stop_words.update(['book', 'one', 'br', 'much', 'story', 'say', 'im', 'ive'])"
   ]
  },
  {
   "cell_type": "code",
   "execution_count": 149,
   "id": "acdf2bae",
   "metadata": {},
   "outputs": [],
   "source": [
    "from collections import Counter\n",
    "from itertools import chain\n",
    "\n",
    "def remove_stopwords(reviews):\n",
    "    return [[word for word in simple_preprocess(str(review)) if word not in stop_words] for review in reviews]\n",
    "\n",
    "# some words might appear too frequnetly but less meaningful, we also remove them\n",
    "def remove_frequency_stop_words(reviews):\n",
    "    t = 1e-5  # t-value\n",
    "    threshold = 0.8  # threshold\n",
    "    word_list = list(chain(*reviews)) # use chain() to combine all words\n",
    " \n",
    "    # calculate word frequency\n",
    "    int_word_counts = Counter(word_list)\n",
    "    total_count = len(word_list)\n",
    "    word_freqs = {w: c / total_count for w, c in int_word_counts.items()}\n",
    "    \n",
    "    # calculate the drop probability for words\n",
    "    prob_drop = {w: 1 - np.sqrt(t / f) for w, f in word_freqs.items()}\n",
    "    \n",
    "    # if drop probability < threshold, we keep this word for training\n",
    "    train_words = []\n",
    "    for i in range(len(reviews)):\n",
    "        train_words.append([w for w in reviews[i] if prob_drop[w] < threshold])\n",
    " \n",
    "    return train_words"
   ]
  },
  {
   "cell_type": "markdown",
   "id": "4e77c56f",
   "metadata": {},
   "source": [
    "#### We first need to tokenize the reviews to remove stopwords"
   ]
  },
  {
   "cell_type": "code",
   "execution_count": 150,
   "id": "e350d143",
   "metadata": {},
   "outputs": [],
   "source": [
    "from gensim.utils import simple_preprocess\n",
    "\n",
    "def tokenize_reviews(reviews):\n",
    "    for review in reviews:\n",
    "        # deacc=True removes punctuations\n",
    "        yield(simple_preprocess(str(review), deacc=True))"
   ]
  },
  {
   "cell_type": "code",
   "execution_count": 151,
   "id": "d88e8d19",
   "metadata": {},
   "outputs": [],
   "source": [
    "review_list = reviews['Content'].values.tolist()\n",
    "tokenized_reviews = list(tokenize_reviews(review_list))"
   ]
  },
  {
   "cell_type": "code",
   "execution_count": 152,
   "id": "46a1f782",
   "metadata": {},
   "outputs": [
    {
     "data": {
      "text/plain": [
       "['we',\n",
       " 'enjoyed',\n",
       " 'this',\n",
       " 'beautifully',\n",
       " 'illustrated',\n",
       " 'book',\n",
       " 'about',\n",
       " 'the',\n",
       " 'life',\n",
       " 'of',\n",
       " 'horace',\n",
       " 'pippin',\n",
       " 'sometimes',\n",
       " 'when',\n",
       " 'we',\n",
       " 'finish',\n",
       " 'reading',\n",
       " 'really',\n",
       " 'good',\n",
       " 'book']"
      ]
     },
     "execution_count": 152,
     "metadata": {},
     "output_type": "execute_result"
    }
   ],
   "source": [
    "tokenized_reviews[1][:20]"
   ]
  },
  {
   "cell_type": "code",
   "execution_count": 153,
   "id": "e0c66964",
   "metadata": {},
   "outputs": [],
   "source": [
    "# remove stop words & too frequent words\n",
    "train_words = remove_stopwords(tokenized_reviews)\n",
    "train_words = remove_frequency_stop_words(train_words)"
   ]
  },
  {
   "cell_type": "markdown",
   "id": "f6a37ca9",
   "metadata": {},
   "source": [
    "#### We can observe that, some less meaningful stopwords like: 'we', 'book', 'somtimes', 'this', etc. has been removed"
   ]
  },
  {
   "cell_type": "code",
   "execution_count": 154,
   "id": "9e2ee3e5",
   "metadata": {},
   "outputs": [
    {
     "data": {
      "text/plain": [
       "['beautifully',\n",
       " 'illustrated',\n",
       " 'horace',\n",
       " 'pippin',\n",
       " 'finish',\n",
       " 'google',\n",
       " 'investigate',\n",
       " 'horace',\n",
       " 'pippin',\n",
       " 'artist',\n",
       " 'admire',\n",
       " 'perseverance',\n",
       " 'courage',\n",
       " 'google',\n",
       " 'horace',\n",
       " 'pippin',\n",
       " 'selftaught',\n",
       " 'painter',\n",
       " 'unanimous',\n",
       " 'eggers']"
      ]
     },
     "execution_count": 154,
     "metadata": {},
     "output_type": "execute_result"
    }
   ],
   "source": [
    "train_words[1][:20]"
   ]
  },
  {
   "cell_type": "markdown",
   "id": "8ebd33a7",
   "metadata": {},
   "source": [
    "#### Replace original review texts with stopwords removed and detokenize to sentences"
   ]
  },
  {
   "cell_type": "code",
   "execution_count": 158,
   "id": "d40a9c65",
   "metadata": {},
   "outputs": [],
   "source": [
    "reviews['Content'] = train_words"
   ]
  },
  {
   "cell_type": "code",
   "execution_count": 161,
   "id": "a20d2957",
   "metadata": {},
   "outputs": [],
   "source": [
    "from nltk.tokenize.treebank import TreebankWordDetokenizer\n",
    "\n",
    "reviews['Content'] = reviews['Content'].apply(TreebankWordDetokenizer().detokenize)"
   ]
  },
  {
   "cell_type": "markdown",
   "id": "fbebbcb4",
   "metadata": {},
   "source": [
    "### 3.2 &nbsp; Topic Modelling: Latent Dirichlet Allocation (LDA)"
   ]
  },
  {
   "cell_type": "markdown",
   "id": "e8ea4343",
   "metadata": {},
   "source": [
    "***Latent Dirichlet Allocation (LDA)*** is an unsupervised learning method that helps us to assign document to a particular set of topics and each topic will be characterized by a particular set of words.\n",
    "- Package: ***genism*** to implement LDA. \n",
    "- Since we have to set the **number of topics** to train the LDA model, we experimented different options from 2 to 10."
   ]
  },
  {
   "attachments": {
    "LDA.png": {
     "image/png": "[encoded data removed]"
    }
   },
   "cell_type": "markdown",
   "id": "19a1184d",
   "metadata": {},
   "source": [
    "![LDA.png](attachment:LDA.png)"
   ]
  },
  {
   "cell_type": "markdown",
   "id": "43d39d4e",
   "metadata": {},
   "source": [
    "#### To build LDA model, we first need to extact a corpus from our review data\n",
    "- We first use ***gensim.corpora.Dictionary()***: map each normalized words with an integer ids as a dictionary\n",
    "- Then we use ***.doc2bow()*** to convert document (a list of words) into the ***bag-of-words*** format: list of (token_id, token_count) 2-tuples."
   ]
  },
  {
   "cell_type": "code",
   "execution_count": 14,
   "id": "efc71e1a",
   "metadata": {},
   "outputs": [],
   "source": [
    "from gensim import corpora\n",
    "\n",
    "def corpus_prepare(words_list):\n",
    "    \n",
    "    # Create Dictionary\n",
    "    id2word = corpora.Dictionary(words_list)\n",
    "    # Create Corpus: Term Document Frequency\n",
    "    corpus = [id2word.doc2bow(word) for word in words_list]\n",
    "    \n",
    "    return id2word, corpus"
   ]
  },
  {
   "cell_type": "code",
   "execution_count": 15,
   "id": "8061ad81",
   "metadata": {},
   "outputs": [],
   "source": [
    "id2word, review_corpus = corpus_prepare(train_words)"
   ]
  },
  {
   "cell_type": "markdown",
   "id": "6768b7c5",
   "metadata": {},
   "source": [
    "#### Build the LDA model\n",
    "Here by default we set **verbose=False** because the model might need a long time for training, if you want to train by yourself, just turn **verbose=True**"
   ]
  },
  {
   "cell_type": "code",
   "execution_count": 7,
   "id": "51a65547",
   "metadata": {},
   "outputs": [],
   "source": [
    "from gensim.models import LdaMulticore\n",
    "from pprint import pprint\n",
    "import pyLDAvis.gensim_models as gensimvis\n",
    "import pickle\n",
    "import pyLDAvis\n",
    "\n",
    "def lda_basic(word_dict, corpus, num_topics, verbose=False):\n",
    "    \n",
    "    # Build LDA model\n",
    "    lda_model = LdaMulticore(corpus=corpus,\n",
    "                              id2word=word_dict,\n",
    "                              num_topics=num_topics)\n",
    "    # Print the keywords in the 10 topics\n",
    "    pprint(lda_model.print_topics())\n",
    "    doc_lda = lda_model[corpus]\n",
    "  \n",
    "    # Visualize the topics\n",
    "    # pyLDAvis.enable_notebook()\n",
    "    filepath = './output/ldavis_prepared_' + str(num_topics)\n",
    "    \n",
    "    # This is a bit time consuming - make verbose = True\n",
    "    # if you want to execute visualization prep yourself\n",
    "    if verbose:\n",
    "        LDAvis_prepared = gensimvis.prepare(topic_model=lda_model, \n",
    "                                            corpus=corpus, dictionary=word_dict)\n",
    "        with open(filepath, 'wb') as f:\n",
    "            pickle.dump(LDAvis_prepared, f)\n",
    "    \n",
    "    else:\n",
    "        # load the pre-prepared pyLDAvis data from disk\n",
    "        with open(filepath, 'rb') as f:\n",
    "            LDAvis_prepared = pickle.load(f)\n",
    "    \n",
    "    # store html result\n",
    "    pyLDAvis.save_html(LDAvis_prepared, './output/ldavis_content_' + str(num_topics) +'.html')"
   ]
  },
  {
   "cell_type": "markdown",
   "id": "444f1a22",
   "metadata": {},
   "source": [
    "#### This process might be time-consuming, we recommend to directly use our results"
   ]
  },
  {
   "cell_type": "code",
   "execution_count": null,
   "id": "4539db14",
   "metadata": {},
   "outputs": [],
   "source": [
    "for i in range(2, 11):\n",
    "    lda_basic(word_dict=id2word, corpus=review_corpus, num_topics=i, verbose=False)"
   ]
  },
  {
   "cell_type": "markdown",
   "id": "b50a394b",
   "metadata": {},
   "source": [
    "#### After comparison of different topic numbers, we recognize when topic number = 7, LDA produces the best classification "
   ]
  },
  {
   "cell_type": "code",
   "execution_count": null,
   "id": "b6a1930c",
   "metadata": {},
   "outputs": [],
   "source": [
    "from IPython.display import display, HTML\n",
    "display(HTML(\"<style>.container { max-width:100% !important; }</style>\"))\n",
    "display(HTML(\"<style>.output_result { max-width:100% !important; }</style>\"))\n",
    "display(HTML(\"<style>.output_area { max-width:100% !important; }</style>\"))\n",
    "display(HTML(\"<style>.input_area { max-width:100% !important; }</style>\"))\n",
    "\n",
    "filepath = './output/ldavis_content_7.html'\n",
    "display(HTML(filepath))"
   ]
  },
  {
   "cell_type": "code",
   "execution_count": 38,
   "id": "6c2e84fd",
   "metadata": {},
   "outputs": [
    {
     "data": {
      "image/png": "[encoded data removed]",
      "text/plain": [
       "<IPython.core.display.Image object>"
      ]
     },
     "metadata": {
      "image/png": {
       "height": 1200,
       "width": 1200
      }
     },
     "output_type": "display_data"
    }
   ],
   "source": [
    "# since HTML object does not display well in notebook conversion, here we use screenshots instead\n",
    "from IPython.display import Image, display\n",
    "display(Image('./pictures/LDA_7.png', width=1200, height=1200))"
   ]
  },
  {
   "cell_type": "markdown",
   "id": "1fcb26c5",
   "metadata": {},
   "source": [
    "#### However, the problem is that the topic of each cluster is *ambiguous*, thus we cannot decide a specific topic name for each cluster. So we change our mind to extract the keywords for each book instead of all the books together."
   ]
  },
  {
   "cell_type": "markdown",
   "id": "d96a5e92",
   "metadata": {},
   "source": [
    "### 3.3 &nbsp; Keyword Extraction: *TextRank*\n",
    "\n",
    "***TextRank*** – is a graph-based ranking model for text processing which can be used to find the **most relevant** sentences or keywords in text\n",
    "- Idea similar to **PageRank**, a powerful serach engine algorithm\n",
    "- https://web.eecs.umich.edu/~mihalcea/papers/mihalcea.emnlp04.pdf"
   ]
  },
  {
   "attachments": {
    "TextRank.png": {
     "image/png": "[encoded data removed]"
    }
   },
   "cell_type": "markdown",
   "id": "873a4094",
   "metadata": {},
   "source": [
    "![TextRank.png](attachment:TextRank.png)"
   ]
  },
  {
   "cell_type": "markdown",
   "id": "2731991c",
   "metadata": {},
   "source": [
    "#### First we combine reviews for each book"
   ]
  },
  {
   "cell_type": "code",
   "execution_count": 167,
   "id": "759e3330",
   "metadata": {},
   "outputs": [
    {
     "name": "stderr",
     "output_type": "stream",
     "text": [
      "114034it [00:03, 32956.87it/s]\n"
     ]
    }
   ],
   "source": [
    "from tqdm import tqdm\n",
    "\n",
    "book_dict = {}\n",
    "for index, row in tqdm(reviews.iterrows()):\n",
    "    key = row['Uid']\n",
    "    if key not in book_dict:\n",
    "        comments = ' '\n",
    "        comments += row['Content']\n",
    "        book_dict[key] = comments\n",
    "    else:\n",
    "        book_dict[key] += ' ' + row['Content']\n",
    "\n",
    "df_comments = pd.DataFrame.from_dict(book_dict, orient='index', columns=['Content'])"
   ]
  },
  {
   "cell_type": "code",
   "execution_count": 168,
   "id": "eb8dd7a7",
   "metadata": {},
   "outputs": [
    {
     "data": {
      "text/html": [
       "<div>\n",
       "<style scoped>\n",
       "    .dataframe tbody tr th:only-of-type {\n",
       "        vertical-align: middle;\n",
       "    }\n",
       "\n",
       "    .dataframe tbody tr th {\n",
       "        vertical-align: top;\n",
       "    }\n",
       "\n",
       "    .dataframe thead th {\n",
       "        text-align: right;\n",
       "    }\n",
       "</style>\n",
       "<table border=\"1\" class=\"dataframe\">\n",
       "  <thead>\n",
       "    <tr style=\"text-align: right;\">\n",
       "      <th></th>\n",
       "      <th>Uid</th>\n",
       "      <th>Content</th>\n",
       "    </tr>\n",
       "  </thead>\n",
       "  <tbody>\n",
       "    <tr>\n",
       "      <th>0</th>\n",
       "      <td>13642600</td>\n",
       "      <td>beautifully illustrated horace pippin finish...</td>\n",
       "    </tr>\n",
       "    <tr>\n",
       "      <th>1</th>\n",
       "      <td>470185</td>\n",
       "      <td>strangest months suddenly appear everywhere k...</td>\n",
       "    </tr>\n",
       "    <tr>\n",
       "      <th>2</th>\n",
       "      <td>137933</td>\n",
       "      <td>philosophers tend worst theorist artists tend...</td>\n",
       "    </tr>\n",
       "    <tr>\n",
       "      <th>3</th>\n",
       "      <td>52374</td>\n",
       "      <td>wideranging debut essays film stimulating rel...</td>\n",
       "    </tr>\n",
       "    <tr>\n",
       "      <th>4</th>\n",
       "      <td>140987</td>\n",
       "      <td>introduced dave hickey painting classes profe...</td>\n",
       "    </tr>\n",
       "  </tbody>\n",
       "</table>\n",
       "</div>"
      ],
      "text/plain": [
       "        Uid                                            Content\n",
       "0  13642600    beautifully illustrated horace pippin finish...\n",
       "1    470185   strangest months suddenly appear everywhere k...\n",
       "2    137933   philosophers tend worst theorist artists tend...\n",
       "3     52374   wideranging debut essays film stimulating rel...\n",
       "4    140987   introduced dave hickey painting classes profe..."
      ]
     },
     "execution_count": 168,
     "metadata": {},
     "output_type": "execute_result"
    }
   ],
   "source": [
    "df_comments.reset_index(inplace=True)\n",
    "df_comments.rename(columns = {'index':'Uid'}, inplace=True)\n",
    "\n",
    "df_comments.head()"
   ]
  },
  {
   "cell_type": "markdown",
   "id": "faa43922",
   "metadata": {},
   "source": [
    "#### Build the *TextRank* model\n",
    "- Because most of the words in a sentence are not useful to determine the importance, we only consider the words with **NOUN & ADJ** tags\n",
    "- Each word is a ***node*** in PageRank and if we set the window size as k, the window will like following:\n",
    "    - $Word \\ vector: [w_1, w_2, ..., w_n]$\n",
    "    - $[w_1, w_2,  ..., w_k], [w_2, w_3, ..., w_{k+1}], ...$ are corresponding windows with size k"
   ]
  },
  {
   "cell_type": "code",
   "execution_count": 169,
   "id": "a5ff1d08",
   "metadata": {},
   "outputs": [],
   "source": [
    "from collections import OrderedDict\n",
    "import numpy as np\n",
    "import spacy\n",
    "from spacy.lang.en.stop_words import STOP_WORDS\n",
    "import string\n",
    "from string import punctuation\n",
    "\n",
    "nlp = spacy.load('en_core_web_sm')\n",
    "\n",
    "class TextRank4Keyword():\n",
    "    \"\"\"Extract keywords from text\"\"\"\n",
    "    \n",
    "    def __init__(self):\n",
    "        self.d = 0.85 # damping coefficient, usually is .85\n",
    "        self.min_diff = 1e-5 # convergence threshold\n",
    "        self.steps = 10 # iteration steps\n",
    "        self.node_weight = None # save keywords and its weight\n",
    "\n",
    "    \n",
    "    def set_stopwords(self, stopwords):  \n",
    "        \"\"\"Set stop words\"\"\"\n",
    "        for word in STOP_WORDS.union(set(stopwords)):\n",
    "            lexeme = nlp.vocab[word]\n",
    "            lexeme.is_stop = True\n",
    "    \n",
    "    def sentence_segment(self, doc, candidate_pos, lower):\n",
    "        \"\"\"Store those words only in cadidate_pos\"\"\"\n",
    "        sentences = []\n",
    "        for sent in doc.sents:\n",
    "            selected_words = []\n",
    "            for token in sent:\n",
    "                # Store words only with cadidate POS tag\n",
    "                if token.pos_ in candidate_pos and token.is_stop is False:\n",
    "                    if lower is True:\n",
    "                        selected_words.append(token.text.lower())\n",
    "                    else:\n",
    "                        selected_words.append(token.text)\n",
    "            sentences.append(selected_words)\n",
    "        return sentences\n",
    "        \n",
    "    def get_vocab(self, sentences):\n",
    "        \"\"\"Get all tokens\"\"\"\n",
    "        vocab = OrderedDict()\n",
    "        i = 0\n",
    "        for sentence in sentences:\n",
    "            for word in sentence:\n",
    "#                 if word in ('.','!','?',',','-','*'):\n",
    "#                     continue\n",
    "                if word not in vocab:\n",
    "                    vocab[word] = i\n",
    "                    i += 1\n",
    "        return vocab\n",
    "    \n",
    "    def get_token_pairs(self, window_size, sentences):\n",
    "        \"\"\"Build token_pairs from windows in sentences\"\"\"\n",
    "        token_pairs = list()\n",
    "        for sentence in sentences:\n",
    "            for i, word in enumerate(sentence):\n",
    "#                 if word in ('.','!','?',',','-','*'):\n",
    "#                     continue\n",
    "                for j in range(i+1, i+window_size):\n",
    "                    if j >= len(sentence):\n",
    "                        break\n",
    "                    pair = (word, sentence[j])\n",
    "                    if pair not in token_pairs:\n",
    "                        token_pairs.append(pair)\n",
    "        return token_pairs\n",
    "        \n",
    "    def symmetrize(self, a):\n",
    "        return a + a.T - np.diag(a.diagonal())\n",
    "    \n",
    "    def get_matrix(self, vocab, token_pairs):\n",
    "        \"\"\"Get normalized matrix\"\"\"\n",
    "        # Build matrix\n",
    "        vocab_size = len(vocab)\n",
    "        g = np.zeros((vocab_size, vocab_size), dtype='float')\n",
    "        for word1, word2 in token_pairs:\n",
    "            i, j = vocab[word1], vocab[word2]\n",
    "            g[i][j] = 1\n",
    "            \n",
    "        # Get Symmeric matrix\n",
    "        g = self.symmetrize(g)\n",
    "        \n",
    "        # Normalize matrix by column\n",
    "        norm = np.sum(g, axis=0)\n",
    "        g_norm = np.divide(g, norm, where=norm!=0) # this is ignore the 0 element in norm\n",
    "        \n",
    "        return g_norm\n",
    "\n",
    "    \n",
    "    def get_keywords(self, number=10):\n",
    "        \"\"\"Print top number keywords\"\"\"\n",
    "        keywords_list = []\n",
    "        node_weight = OrderedDict(sorted(self.node_weight.items(), key=lambda t: t[1], reverse=True))\n",
    "        for i, (key, value) in enumerate(node_weight.items()):\n",
    "            if key not in list(string.punctuation):\n",
    "                keywords_list.append(key)\n",
    "            if i > number:\n",
    "                break\n",
    "        return keywords_list\n",
    "        \n",
    "        \n",
    "    def analyze(self, text, \n",
    "                candidate_pos=['NOUN', 'ADJ','VERB'], \n",
    "                window_size=4, lower=False, stopwords=list()):\n",
    "        \n",
    "        \"\"\"Main function to analyze text\"\"\"\n",
    "        self.set_stopwords(stopwords)\n",
    "        \n",
    "        # Pare text by spaCy\n",
    "        doc = nlp(text)\n",
    "        \n",
    "        # Filter sentences\n",
    "        sentences = self.sentence_segment(doc, candidate_pos, lower) # list of list of words\n",
    "\n",
    "        # Build vocabulary\n",
    "        vocab = self.get_vocab(sentences)\n",
    "        \n",
    "        # Get token_pairs from windows\n",
    "        token_pairs = self.get_token_pairs(window_size, sentences)\n",
    "        \n",
    "        # Get normalized matrix\n",
    "        g = self.get_matrix(vocab, token_pairs)\n",
    "        \n",
    "        # Initionlization for weight(pagerank value)\n",
    "        pr = np.array([1] * len(vocab))\n",
    "        \n",
    "        # Iteration\n",
    "        previous_pr = 0\n",
    "        for epoch in range(self.steps):\n",
    "            pr = (1-self.d) + self.d * np.dot(g, pr)\n",
    "            if abs(previous_pr - sum(pr))  < self.min_diff:\n",
    "                break\n",
    "            else:\n",
    "                previous_pr = sum(pr)\n",
    "\n",
    "        # Get weight for each node\n",
    "        node_weight = dict()\n",
    "        for word, index in vocab.items():\n",
    "            node_weight[word] = pr[index]\n",
    "        \n",
    "        self.node_weight = node_weight"
   ]
  },
  {
   "cell_type": "markdown",
   "id": "d5827589",
   "metadata": {},
   "source": [
    "#### We try with example book (Uid = 449128): *Alla Prima: Everything I Know about Painting*\n",
    "- Window size k = 4, only consider NOUN & ADJ words\n",
    "- We can see it generally catches important words like: **artist, patinting, canvas, color**, etc."
   ]
  },
  {
   "cell_type": "code",
   "execution_count": 170,
   "id": "4970976a",
   "metadata": {},
   "outputs": [
    {
     "data": {
      "text/plain": [
       "449128"
      ]
     },
     "execution_count": 170,
     "metadata": {},
     "output_type": "execute_result"
    }
   ],
   "source": [
    "df_comments.iloc[5, 0]"
   ]
  },
  {
   "cell_type": "code",
   "execution_count": 171,
   "id": "487c9f18",
   "metadata": {},
   "outputs": [
    {
     "data": {
      "text/plain": [
       "['artist',\n",
       " 'advice',\n",
       " 'color',\n",
       " 'schmid',\n",
       " 'painters',\n",
       " 'confidence',\n",
       " 'oil',\n",
       " 'painting',\n",
       " 'painter',\n",
       " 'canvas',\n",
       " 'artists',\n",
       " 'composition']"
      ]
     },
     "execution_count": 171,
     "metadata": {},
     "output_type": "execute_result"
    }
   ],
   "source": [
    "text = df_comments.iloc[5, 1]\n",
    "\n",
    "tr4w = TextRank4Keyword()\n",
    "\n",
    "# we only want adjective & Nouns for tags\n",
    "tr4w.analyze(text, candidate_pos = ['ADJ','NOUN'], window_size=4, lower=False)\n",
    "tr4w.get_keywords(10)"
   ]
  },
  {
   "cell_type": "markdown",
   "id": "8dcb3369",
   "metadata": {},
   "source": [
    "#### We can also get each keyword's weights"
   ]
  },
  {
   "cell_type": "code",
   "execution_count": 173,
   "id": "847491d6",
   "metadata": {},
   "outputs": [
    {
     "data": {
      "text/plain": [
       "[{'pippin': 9.081910937634829},\n",
       " {'horace': 7.501031593836607},\n",
       " {'artist': 3.9051219599946987},\n",
       " {'red': 2.845867898168256},\n",
       " {'pippins': 2.821484820122126},\n",
       " {'illustrations': 2.803523983238113},\n",
       " {'artists': 2.8025856402697573},\n",
       " {'artwork': 2.4789423374657984},\n",
       " {'painter': 2.3143430305118087},\n",
       " {'paintings': 2.2721199262405882},\n",
       " {'pictures': 2.267219780963017},\n",
       " {'notes': 2.0621940091953608}]"
      ]
     },
     "execution_count": 173,
     "metadata": {},
     "output_type": "execute_result"
    }
   ],
   "source": [
    "[{key: tr4w.node_weight[key]} for key in tr4w.get_keywords(10)]"
   ]
  },
  {
   "cell_type": "markdown",
   "id": "306684c4",
   "metadata": {},
   "source": [
    "#### Next we used *TexRank* to extract 5 keywords of each book and classify each review to that tags if it contains the keyword\n",
    "- The following process is time-consuming, just use our stored result datasets\n",
    "    - **book_tags.csv**: 5 keywords tags for each book\n",
    "    - **review_tags.csv**: keywords this review contains"
   ]
  },
  {
   "cell_type": "code",
   "execution_count": null,
   "id": "a8a0f7e9",
   "metadata": {},
   "outputs": [],
   "source": [
    "# count how many reviews each book has\n",
    "reviews_count = reviews.groupby(['Uid'], sort=False)['Uid'].count()\n",
    "\n",
    "# add column 'Tags' if this review contains the keyword\n",
    "reviews['Tags'] = [[] for _ in range(len(reviews))]\n",
    "df_comments['Tags'] = [[] for _ in range(len(df_comments))]\n",
    "\n",
    "num = 0 # the number of reviews we have classified\n",
    "for i in tqdm(range(df_comments.shape[0])):\n",
    "    print(\"The %d-th book\" % i)\n",
    "    text = df_comments.iloc[i, 1] # loop over each book\n",
    "    \n",
    "    # get 5 keywords \n",
    "    tr4w = TextRank4Keyword()\n",
    "    tr4w.analyze(text, candidate_pos = ['ADJ', 'NOUN'], window_size=4, lower=False)    \n",
    "    keyword_list = tr4w.get_keywords(5)\n",
    "    \n",
    "    # for each book, store their keywords from reviews\n",
    "    df_comments['Tags'][i] = keyword_list\n",
    "    \n",
    "    # for each review, assign their tags if containing the keyword\n",
    "    for _ in range(reviews_count.values[i]):\n",
    "        tag_list = []\n",
    "        for key in keyword_list:\n",
    "            if key in reviews.iloc[num,1].split():\n",
    "                tag_list.append(key)\n",
    "        \n",
    "        if not tag_list:\n",
    "            num += 1\n",
    "            continue\n",
    "        print(tag_list)\n",
    "        reviews['Tags'][num] = tag_list \n",
    "        num = num + 1"
   ]
  },
  {
   "cell_type": "markdown",
   "id": "86c884c7",
   "metadata": {},
   "source": [
    "#### We look at the tag extracted results"
   ]
  },
  {
   "cell_type": "code",
   "execution_count": 198,
   "id": "6bde1672",
   "metadata": {},
   "outputs": [
    {
     "data": {
      "text/html": [
       "<div>\n",
       "<style scoped>\n",
       "    .dataframe tbody tr th:only-of-type {\n",
       "        vertical-align: middle;\n",
       "    }\n",
       "\n",
       "    .dataframe tbody tr th {\n",
       "        vertical-align: top;\n",
       "    }\n",
       "\n",
       "    .dataframe thead th {\n",
       "        text-align: right;\n",
       "    }\n",
       "</style>\n",
       "<table border=\"1\" class=\"dataframe\">\n",
       "  <thead>\n",
       "    <tr style=\"text-align: right;\">\n",
       "      <th></th>\n",
       "      <th>Uid</th>\n",
       "      <th>Content</th>\n",
       "      <th>Tags</th>\n",
       "    </tr>\n",
       "  </thead>\n",
       "  <tbody>\n",
       "    <tr>\n",
       "      <th>0</th>\n",
       "      <td>13642600</td>\n",
       "      <td>beautifully illustrated horace pippin finish...</td>\n",
       "      <td>[pippin, horace, artist, red, pippins, illustr...</td>\n",
       "    </tr>\n",
       "    <tr>\n",
       "      <th>1</th>\n",
       "      <td>470185</td>\n",
       "      <td>strangest months suddenly appear everywhere k...</td>\n",
       "      <td>[animals, essays, animal, photography, berger,...</td>\n",
       "    </tr>\n",
       "    <tr>\n",
       "      <th>2</th>\n",
       "      <td>137933</td>\n",
       "      <td>philosophers tend worst theorist artists tend...</td>\n",
       "      <td>[artists, philosophical, artist, criticism, co...</td>\n",
       "    </tr>\n",
       "    <tr>\n",
       "      <th>3</th>\n",
       "      <td>52374</td>\n",
       "      <td>wideranging debut essays film stimulating rel...</td>\n",
       "      <td>[sontag, interpretation, essays, criticism, in...</td>\n",
       "    </tr>\n",
       "    <tr>\n",
       "      <th>4</th>\n",
       "      <td>140987</td>\n",
       "      <td>introduced dave hickey painting classes profe...</td>\n",
       "      <td>[basketball, essays, hickey, criticism, hickey...</td>\n",
       "    </tr>\n",
       "    <tr>\n",
       "      <th>5</th>\n",
       "      <td>449128</td>\n",
       "      <td>painter master artists richard schmid artists...</td>\n",
       "      <td>[artist, advice, color, schmid, painters, conf...</td>\n",
       "    </tr>\n",
       "    <tr>\n",
       "      <th>6</th>\n",
       "      <td>51245</td>\n",
       "      <td>included utter zoothe blue aspicthe epiplecti...</td>\n",
       "      <td>[gorey, goreys, legacy, blue, loathsome, utter...</td>\n",
       "    </tr>\n",
       "    <tr>\n",
       "      <th>7</th>\n",
       "      <td>47559</td>\n",
       "      <td>convey joy edward goreys adore unstrung harp ...</td>\n",
       "      <td>[gorey, hapless, tinies, drawings, gashlycrumb...</td>\n",
       "    </tr>\n",
       "  </tbody>\n",
       "</table>\n",
       "</div>"
      ],
      "text/plain": [
       "        Uid                                            Content  \\\n",
       "0  13642600    beautifully illustrated horace pippin finish...   \n",
       "1    470185   strangest months suddenly appear everywhere k...   \n",
       "2    137933   philosophers tend worst theorist artists tend...   \n",
       "3     52374   wideranging debut essays film stimulating rel...   \n",
       "4    140987   introduced dave hickey painting classes profe...   \n",
       "5    449128   painter master artists richard schmid artists...   \n",
       "6     51245   included utter zoothe blue aspicthe epiplecti...   \n",
       "7     47559   convey joy edward goreys adore unstrung harp ...   \n",
       "\n",
       "                                                Tags  \n",
       "0  [pippin, horace, artist, red, pippins, illustr...  \n",
       "1  [animals, essays, animal, photography, berger,...  \n",
       "2  [artists, philosophical, artist, criticism, co...  \n",
       "3  [sontag, interpretation, essays, criticism, in...  \n",
       "4  [basketball, essays, hickey, criticism, hickey...  \n",
       "5  [artist, advice, color, schmid, painters, conf...  \n",
       "6  [gorey, goreys, legacy, blue, loathsome, utter...  \n",
       "7  [gorey, hapless, tinies, drawings, gashlycrumb...  "
      ]
     },
     "execution_count": 198,
     "metadata": {},
     "output_type": "execute_result"
    }
   ],
   "source": [
    "# each book's keywords (tags)\n",
    "df_comments.head(8)"
   ]
  },
  {
   "cell_type": "code",
   "execution_count": 180,
   "id": "71e45452",
   "metadata": {},
   "outputs": [
    {
     "data": {
      "text/html": [
       "<div>\n",
       "<style scoped>\n",
       "    .dataframe tbody tr th:only-of-type {\n",
       "        vertical-align: middle;\n",
       "    }\n",
       "\n",
       "    .dataframe tbody tr th {\n",
       "        vertical-align: top;\n",
       "    }\n",
       "\n",
       "    .dataframe thead th {\n",
       "        text-align: right;\n",
       "    }\n",
       "</style>\n",
       "<table border=\"1\" class=\"dataframe\">\n",
       "  <thead>\n",
       "    <tr style=\"text-align: right;\">\n",
       "      <th></th>\n",
       "      <th>Uid</th>\n",
       "      <th>Content</th>\n",
       "      <th>Tags</th>\n",
       "    </tr>\n",
       "  </thead>\n",
       "  <tbody>\n",
       "    <tr>\n",
       "      <th>0</th>\n",
       "      <td>13642600</td>\n",
       "      <td></td>\n",
       "      <td>[]</td>\n",
       "    </tr>\n",
       "    <tr>\n",
       "      <th>1</th>\n",
       "      <td>13642600</td>\n",
       "      <td>beautifully illustrated horace pippin finish g...</td>\n",
       "      <td>[pippin, horace, artist]</td>\n",
       "    </tr>\n",
       "    <tr>\n",
       "      <th>2</th>\n",
       "      <td>13642600</td>\n",
       "      <td>featured grandma reads session splash red hora...</td>\n",
       "      <td>[pippin, horace, red, artists]</td>\n",
       "    </tr>\n",
       "    <tr>\n",
       "      <th>3</th>\n",
       "      <td>13642600</td>\n",
       "      <td>cute nonfiction artist horace pippin grad clas...</td>\n",
       "      <td>[pippin, horace, artist]</td>\n",
       "    </tr>\n",
       "    <tr>\n",
       "      <th>4</th>\n",
       "      <td>13642600</td>\n",
       "      <td>splash red horace pippin wellresearched pictur...</td>\n",
       "      <td>[pippin, horace, red, illustrations]</td>\n",
       "    </tr>\n",
       "    <tr>\n",
       "      <th>5</th>\n",
       "      <td>13642600</td>\n",
       "      <td>jen bryant illustrator melissa collaborated pi...</td>\n",
       "      <td>[pippin, horace, artist, red, artists]</td>\n",
       "    </tr>\n",
       "    <tr>\n",
       "      <th>6</th>\n",
       "      <td>13642600</td>\n",
       "      <td>audience primarygenre hisher talents splash re...</td>\n",
       "      <td>[pippin, horace, artist, red, illustrations]</td>\n",
       "    </tr>\n",
       "    <tr>\n",
       "      <th>7</th>\n",
       "      <td>13642600</td>\n",
       "      <td>aloud bryant obligations frequently artist rep...</td>\n",
       "      <td>[pippin, horace, artist, pippins, illustrations]</td>\n",
       "    </tr>\n",
       "  </tbody>\n",
       "</table>\n",
       "</div>"
      ],
      "text/plain": [
       "        Uid                                            Content  \\\n",
       "0  13642600                                                      \n",
       "1  13642600  beautifully illustrated horace pippin finish g...   \n",
       "2  13642600  featured grandma reads session splash red hora...   \n",
       "3  13642600  cute nonfiction artist horace pippin grad clas...   \n",
       "4  13642600  splash red horace pippin wellresearched pictur...   \n",
       "5  13642600  jen bryant illustrator melissa collaborated pi...   \n",
       "6  13642600  audience primarygenre hisher talents splash re...   \n",
       "7  13642600  aloud bryant obligations frequently artist rep...   \n",
       "\n",
       "                                               Tags  \n",
       "0                                                []  \n",
       "1                          [pippin, horace, artist]  \n",
       "2                    [pippin, horace, red, artists]  \n",
       "3                          [pippin, horace, artist]  \n",
       "4              [pippin, horace, red, illustrations]  \n",
       "5            [pippin, horace, artist, red, artists]  \n",
       "6      [pippin, horace, artist, red, illustrations]  \n",
       "7  [pippin, horace, artist, pippins, illustrations]  "
      ]
     },
     "execution_count": 180,
     "metadata": {},
     "output_type": "execute_result"
    }
   ],
   "source": [
    "# each review's tags (if containing the book's keywords)\n",
    "reviews.head(8)"
   ]
  },
  {
   "cell_type": "code",
   "execution_count": 197,
   "id": "5894447b",
   "metadata": {},
   "outputs": [],
   "source": [
    "# store for use\n",
    "df_comments.to_csv('./output/book_tags.csv')\n",
    "reviews.to_csv('./output/review_tags.csv')"
   ]
  },
  {
   "cell_type": "markdown",
   "id": "58b1a1b8",
   "metadata": {},
   "source": [
    "### 3.4 &nbsp; Other Trials: Key Phrases"
   ]
  },
  {
   "cell_type": "markdown",
   "id": "aa9bc1a7",
   "metadata": {},
   "source": [
    "We have also considered using **key phrases** instead of keywords as our tags and we have tried many methods like **Yake!, KeyBERT, Rake** etc. to extract keyphrases, but the phrases we got are not very meaningful as a tag. \n",
    "\n",
    "We guess for these methods to get a better result, they might need more effort for tuning model parameters and improve the quality of original textual reviews, both could be time-consuming and no promise for final result. Therefore, we conclude these methods are not very suitable and finally reject them."
   ]
  },
  {
   "cell_type": "code",
   "execution_count": 193,
   "id": "4800d174",
   "metadata": {},
   "outputs": [
    {
     "data": {
      "text/plain": [
       "['sontag',\n",
       " 'interpretation',\n",
       " 'essays',\n",
       " 'criticism',\n",
       " 'intellectual',\n",
       " 'essay',\n",
       " 'content']"
      ]
     },
     "execution_count": 193,
     "metadata": {},
     "output_type": "execute_result"
    }
   ],
   "source": [
    "# previous tag result from TextRank\n",
    "df_comments.iloc[3, 2]"
   ]
  },
  {
   "cell_type": "markdown",
   "id": "7dc8427f",
   "metadata": {},
   "source": [
    "### 3.4.1 &nbsp; YAKE!"
   ]
  },
  {
   "cell_type": "markdown",
   "id": "03cec18d",
   "metadata": {},
   "source": [
    "YAKE! is a light-weight unsupervised automatic keyword extraction method which rests on text **statistical features** extracted from single documents to select the most important keywords of a text. "
   ]
  },
  {
   "cell_type": "code",
   "execution_count": 185,
   "id": "491bd987",
   "metadata": {},
   "outputs": [
    {
     "name": "stdout",
     "output_type": "stream",
     "text": [
      "Keyphrase:  notes camp : score 0.00017788716562028035\n",
      "Keyphrase:  susan sontag : score 0.0005297176952421673\n",
      "Keyphrase:  essays susan : score 0.0007224643153954816\n",
      "Keyphrase:  interpretation essays : score 0.0007676333810896728\n",
      "Keyphrase:  sontag argues : score 0.0008288173643892819\n",
      "Keyphrase:  films robert : score 0.0008668558595229885\n",
      "Keyphrase:  sartres saint : score 0.0008950281626283484\n",
      "Keyphrase:  saint genet : score 0.0009260733389271714\n",
      "Keyphrase:  imagination disaster : score 0.0010521084810112312\n",
      "Keyphrase:  interpretation sontag : score 0.0011256687586082986\n"
     ]
    }
   ],
   "source": [
    "import yake\n",
    "\n",
    "# take one example\n",
    "text = df_comments.iloc[3,1]\n",
    "kw_extractor = yake.KeywordExtractor(top=10, n = 2, stopwords=None)\n",
    "keywords = kw_extractor.extract_keywords(text)\n",
    "\n",
    "for kw, v in keywords:\n",
    "    print(\"Keyphrase: \",kw, \": score\", v)"
   ]
  },
  {
   "cell_type": "markdown",
   "id": "0dd0f742",
   "metadata": {},
   "source": [
    "According to the result, we could see there are some repetitions and overlaps across the phrases, which makes them hard to convey more diverse meanings and cause information redundancy, which is bad for tags selection."
   ]
  },
  {
   "cell_type": "markdown",
   "id": "ee02ea67",
   "metadata": {},
   "source": [
    "### 3.4.2 &nbsp; TextRank (Summa)"
   ]
  },
  {
   "cell_type": "markdown",
   "id": "57d3c99f",
   "metadata": {},
   "source": [
    "The core method is the same as TextRank we used before. But this package is not that intelligent since there are so many repetition and it did not catch important information of book reviews."
   ]
  },
  {
   "cell_type": "code",
   "execution_count": 186,
   "id": "c640fbc0",
   "metadata": {},
   "outputs": [
    {
     "name": "stdout",
     "output_type": "stream",
     "text": [
      "[('sontag', 0.4407184696812149), ('sontags', 0.4407184696812149), ('interpretation', 0.2987008422993689), ('critic', 0.2654791090129931), ('criticized', 0.2654791090129931), ('essays film stimulating', 0.18351482641382763), ('interpretations cultured', 0.16760650948307876), ('interpret impoverish', 0.16343202148891145), ('critical takedown', 0.14618324210370381), ('essay notes camp remain', 0.14391607616789773)]\n"
     ]
    }
   ],
   "source": [
    "from summa import keywords\n",
    "\n",
    "text = df_comments.iloc[3,1]\n",
    "TR_keywords = keywords.keywords(text, scores=True)\n",
    "print(TR_keywords[0:10])"
   ]
  },
  {
   "cell_type": "markdown",
   "id": "1c3337f9",
   "metadata": {},
   "source": [
    "### 3.4.3 &nbsp; KeyBERT"
   ]
  },
  {
   "cell_type": "markdown",
   "id": "d9c005ba",
   "metadata": {},
   "source": [
    "KeyBERT is a simple, easy-to-use keyword extraction algorithm that takes advantage of SBERT embeddings to generate keywords and key phrases from a document that are more similar to the document. \n",
    "- First, document embedding (a representation) is generated using the sentences-BERT model;\n",
    "- Next, the embeddings of words are extracted for N-gram phrases. Computed cosine similarity of each keyphrase to the document;\n",
    "- The most similar words can then be identified as the words that best describe the entire document and are considered as keywords."
   ]
  },
  {
   "cell_type": "markdown",
   "id": "2a636468",
   "metadata": {},
   "source": [
    "Since BERT model need GPU, we put the result in the comments below."
   ]
  },
  {
   "cell_type": "code",
   "execution_count": null,
   "id": "bc3c45c2",
   "metadata": {},
   "outputs": [],
   "source": [
    "from keybert import KeyBERT\n",
    "\n",
    "text = df_comments.iloc[3,1]\n",
    "kw_model = KeyBERT(model='all-mpnet-base-v2')\n",
    "keywords = kw_model.extract_keywords(text, \n",
    "                                     keyphrase_ngram_range=(1, 3), \n",
    "                                     stop_words='english', \n",
    "                                     highlight=False,\n",
    "                                     top_n=10)\n",
    "\n",
    "keywords_list= list(dict(keywords).keys())\n",
    "print(keywords_list)"
   ]
  },
  {
   "cell_type": "markdown",
   "id": "a706dc4b",
   "metadata": {},
   "source": [
    "**keywords_list**: \\\n",
    "['pippin art', 'pippin paintings', 'artist horace', 'pippin artist', 'horace pippin', 'pippin impressionistic', 'painter horace', 'evocative pippin', 'art horace', 'watercolor paintings']\n",
    "\n",
    "The phrases are not very meaningful as tags because we can see too many common parts between these phrases (e.g. pippin), which might not be able to comprehensively reflect a book's attributes as tags."
   ]
  },
  {
   "cell_type": "markdown",
   "id": "d7b113ef",
   "metadata": {},
   "source": [
    "### 3.4.4 &nbsp; Rake"
   ]
  },
  {
   "cell_type": "markdown",
   "id": "5570faa8",
   "metadata": {},
   "source": [
    "Rake is short for ***Rapid Automatic Keyword Extraction*** - a method of extracting keywords from individual documents. It can also be applied to new fields very easily and is very effective in dealing with multiple types of documents, especially text that requires specific grammatical conventions. \n",
    "\n",
    "Rake identifies key phrases in a text by analyzing the occurrence of a word and its compatibility with other words in the text (co-occurrence)."
   ]
  },
  {
   "cell_type": "code",
   "execution_count": 195,
   "id": "e84c2f5a",
   "metadata": {},
   "outputs": [
    {
     "name": "stdout",
     "output_type": "stream",
     "text": [
      "[('quarter petty ephemeral', 9.0), ('packaged sontag', 4.0), ('elevated', 1.0)]\n"
     ]
    }
   ],
   "source": [
    "from multi_rake import Rake\n",
    "\n",
    "text = df_comments.iloc[3,1]\n",
    "rake = Rake()\n",
    "keywords = rake.apply(text)\n",
    "print(keywords[:10])"
   ]
  },
  {
   "cell_type": "markdown",
   "id": "dbf3c90b",
   "metadata": {},
   "source": [
    "We can see that most phrases are not very summative, the result is far away from satisfying."
   ]
  },
  {
   "cell_type": "markdown",
   "id": "46e5455b",
   "metadata": {},
   "source": [
    "### 3.5 &nbsp;  Extract Summary for Reviews on Each Book"
   ]
  },
  {
   "cell_type": "markdown",
   "id": "c01b8507",
   "metadata": {},
   "source": [
    "After we generate a list of recommended books, we want to help our book readers get a snapshot of what are the major opinions of other people who have reviewed the book. Thus, we aim to provide a summary of reviews on each book to help readers acquire the main ideas efficiently. We utilize <b>extractive summarization</b> method to extract top sentences from all reviews of a certain book and consider the top sentences as the summary. We explored the following two methods to extract the summary:\n",
    "\n",
    "- **Method 1**: Baseline - LexRank + Sentence-BERT embedding\n",
    "- **Method 2**: Improvement based on Method 1 to achieve three objectives\n",
    "    - Maximize Centrality\n",
    "    - Minimize Redundancy\n",
    "    - Balance Sentiment"
   ]
  },
  {
   "cell_type": "markdown",
   "id": "3a8c2b76",
   "metadata": {},
   "source": [
    "### 3.5.1 &nbsp; Method 1 - Baseline Model"
   ]
  },
  {
   "cell_type": "markdown",
   "id": "42165d10",
   "metadata": {},
   "source": [
    "- We firstly use <b>Sentence-BERT</b> to acquire sentence embeddings of each sentence\n",
    "- Next, we use <b>LexRank</b> to get the graph-based “centrality” of each sentence. The higher the centrality score, the more prominent the sentence is to the whole review.\n",
    "- Since <b>cosine similarity </b> allows us to approximate how similar two sentence vectors are by simply using the cosine of the angle between the two vectors to quantify how similar two sentences are, we calculate the cosine similarity of sentence embeddings from Sentence-BERT.\n",
    "- If one sentence is similar to many other sentences in the review, we can claim that it is more central to the review or the \"center\" of the graph and thus it is more important. \n",
    "\n",
    "In summary, for baseline model, we calculate <b>cosine similarity</b> of sentence embeddings from <b>Sentence-BERT</b> and extract <b>5 sentences</b> with the highest centrality scores as the summary.\n",
    "\n",
    "Note: Our original code files need to run with GPU, thus we only put some code snippets and the results here as demonstration for the report. "
   ]
  },
  {
   "cell_type": "code",
   "execution_count": null,
   "id": "ff1a7935",
   "metadata": {},
   "outputs": [],
   "source": [
    "from sentence_transformers import SentenceTransformer, util\n",
    "from LexRank import degree_centrality_scores\n",
    "from nltk.tokenize import sent_tokenize\n",
    "from textblob import TextBlob\n",
    "\n",
    "model = SentenceTransformer('sentence-transformers/paraphrase-mpnet-base-v2')"
   ]
  },
  {
   "cell_type": "markdown",
   "id": "474e2a92",
   "metadata": {},
   "source": [
    "#### Build a pipeline function for generating summary of book reviews"
   ]
  },
  {
   "cell_type": "code",
   "execution_count": null,
   "id": "cfbd37df",
   "metadata": {},
   "outputs": [],
   "source": [
    "def extract_summary(Uid, topk=5):\n",
    "\n",
    "    # select all review sentences of a typical book with selected Uid\n",
    "    sentences = sent_tokenize(df_comments[df_comments['Uid'] = Uid].Content)\n",
    "    # we calculate the sentiment score using TextBlob, this measurement will be used as n evaluation metric later\n",
    "    sentiments = list(map(lambda text: TextBlob(text).sentiment.polarity, sentences))\n",
    "    doc_sentiment = np.mean(sentiments)\n",
    "\n",
    "    # Encode each sentence with Sentence-BERT\n",
    "    sentence_embeddings = model.encode(sentences)\n",
    "    # Calculate the cosine similarity scores among sentences\n",
    "    cos_scores = util.cos_sim(sentence_embeddings, sentence_embeddings).numpy()\n",
    "    # Obtain the centrality scores with LexRank\n",
    "    centrality_scores = degree_centrality_scores(cos_scores, threshold=None)\n",
    "    # We obtain the indexes of the most central sentences\n",
    "    most_central_sentence_indices = np.argsort(-centrality_scores)\n",
    "    summary_idxes = list(most_central_sentence_indices[:topk])\n",
    "\n",
    "    # We use redundancy score as another evaluation metric\n",
    "    def _compute_redundancy(idx, summary_idxes):\n",
    "        if not summary_idxes: return 0\n",
    "        return max([cos_scores[idx][senti] for senti in summary_idxes])\n",
    "\n",
    "    # Store the outputs\n",
    "    out_summary = \"\"\n",
    "    out_sentiment = \"\"\n",
    "    out_centralities = \"\"\n",
    "    summary_sentiments = []\n",
    "    summary_centralities = []\n",
    "    summary_redundancies = []\n",
    "    for idx in summary_idxes:\n",
    "        summary_sentiments.append(sentiments[idx])\n",
    "        summary_centralities.append(centrality_scores[idx])\n",
    "\n",
    "        # compute redundancy of the specific sentence to all other sentences in the summary\n",
    "        summary_idxes.remove(idx)\n",
    "        redundancy = _compute_redundancy(idx, summary_idxes)\n",
    "        summary_idxes.append(idx)\n",
    "        summary_redundancies.append(redundancy)\n",
    "\n",
    "        out_summary += sentences[idx] + \"[SEP]\"\n",
    "        out_sentiment += str(sentiments[idx]) + \"[SEP]\"\n",
    "        out_centralities += str(centrality_scores[idx]) + \"[SEP]\"\n",
    "\n",
    "    mean_sentiment = np.mean(summary_sentiments)\n",
    "    mean_centrality = np.mean(summary_centralities)\n",
    "    mean_redundancy = np.mean(summary_redundancies)\n",
    "\n",
    "    print(f\"{mean_sentiment}, {mean_centrality}, {mean_redundancy}, {doc_sentiment}\")\n",
    "\n",
    "    return out_summary, out_sentiment, out_centralities, mean_sentiment, mean_centrality, mean_redundancy, doc_sentiment"
   ]
  },
  {
   "cell_type": "markdown",
   "id": "12319709",
   "metadata": {},
   "source": [
    "#### Result demonstration"
   ]
  },
  {
   "cell_type": "code",
   "execution_count": 201,
   "id": "638d73e2",
   "metadata": {},
   "outputs": [
    {
     "data": {
      "image/png": "[encoded data removed]",
      "text/plain": [
       "<IPython.core.display.Image object>"
      ]
     },
     "metadata": {
      "image/png": {
       "height": 1200,
       "width": 1200
      }
     },
     "output_type": "display_data"
    }
   ],
   "source": [
    "from IPython.display import Image, display\n",
    "display(Image('./pictures/Baseline_output.png', width=1200, height=1200))"
   ]
  },
  {
   "cell_type": "markdown",
   "id": "503c21fa",
   "metadata": {},
   "source": [
    "However, after running the baseline model, we noticed some issues. \n",
    "\n",
    "- First, there may be <b>different sentiment distribution</b> of extracted summary and original review texts of one book\n",
    "    - Note: Sentiment scores are calculated using TextBlob Polarity Score (-1: Negative to 1: Positive)\n",
    "    - For example, we may have mean sentiment of summary as 0.1565 and mean sentiment of original texts as 0.1217\n",
    "<br></br>\n",
    "- Second, there may be some <b>redundant information</b> among sentences in extracted summary\n",
    "    - For example, for two sentences in the summary, they convey similar meanings\n",
    "        - E.g. `Good book with clear structure!` & `Great book with organized structure!`\n",
    "    - We want to try avoiding such redundancy and providing more diverse information to end users with the summary\n",
    "\n",
    "To deal with the issues, we propose a more **balanced** summarization algorithm in method 2."
   ]
  },
  {
   "cell_type": "markdown",
   "id": "55107a54",
   "metadata": {},
   "source": [
    "### 3.5.2 &nbsp; Method 2 - Improvement - Balanced Summarization"
   ]
  },
  {
   "cell_type": "markdown",
   "id": "d88f427a",
   "metadata": {},
   "source": [
    "We use a greedy algorithm to extract a more balanced summary with <b>three objectives</b>\n",
    "\n",
    "- **Maximize centrality score** which represents the importance of the sentence\n",
    "- **Minimize** the difference between the summary sentiment and the overall sentiment of the original review texts\n",
    "- **Minimize** the redundant information between extracted sentences"
   ]
  },
  {
   "cell_type": "markdown",
   "id": "74421e49",
   "metadata": {},
   "source": [
    "The learning objective of the model can be written as:\n",
    "\n",
    "$$O(s, S, A) = Centrality(s), CosineSimilarity(s, S) - SentimentDifference(S ⋃ {s}, A)$$\n",
    "\n",
    "where\n",
    "- $s$ represent the current review sentence, \n",
    "- $S$ is the target extracted summary, and \n",
    "- $A$ represents all the review texts of that specific book\n",
    "\n",
    "Essentially, we want to extract a summary with high centrality, low redundancy, and a balanced sentiment. \n",
    "\n",
    "The following is the code snippets of our improved algorithm. "
   ]
  },
  {
   "cell_type": "code",
   "execution_count": null,
   "id": "cc1e7294",
   "metadata": {},
   "outputs": [],
   "source": [
    "def extract_summary_balanced(Uid, topk=5):\n",
    "\n",
    "    \"\"\"\n",
    "\n",
    "    :param Uid:\n",
    "    :param topk:\n",
    "    :return: out_summary: summary string separated by [SEP]\n",
    "            out_sentiment: sentiments string separated by [SEP]\n",
    "            out_centralities: centrality score string separated by [SEP]\n",
    "            mean_sentiment,\n",
    "            mean_centrality,\n",
    "            mean_redundancy,\n",
    "            doc_sentiment: mean sentiment of original text score\n",
    "    \"\"\"\n",
    "\n",
    "    # select sample review sentences\n",
    "    sentences = sent_tokenize(df_comments[df_comments['Uid'] = Uid].Content)\n",
    "    # we calculate the sentiment score using TextBlob, this measurement will be used as n evaluation metric\n",
    "    sentiments = list(map(lambda text: TextBlob(text).sentiment.polarity, sentences))\n",
    "    doc_sentiment = np.mean(sentiments)\n",
    "\n",
    "    # Encode each sentence with Sentence-BERT\n",
    "    sentence_embeddings = model.encode(sentences)\n",
    "    # Calculate the cosine similarity scores among sentences\n",
    "    cos_scores = util.cos_sim(sentence_embeddings, sentence_embeddings).numpy()\n",
    "    # Obtain the centrality scores with LexRank\n",
    "    centrality_scores = degree_centrality_scores(cos_scores, threshold=None)\n",
    "\n",
    "    # We use redundancy score as another evaluation metric\n",
    "    def _compute_redundancy(idx, summary_idxes):\n",
    "        if not summary_idxes: return 0\n",
    "        return max([cos_scores[idx][senti] for senti in summary_idxes])\n",
    "\n",
    "    # We compute the sentiment score difference between the extracted summary and the original review text\n",
    "    def _sentiment_difference(idx, summary_idxes):\n",
    "        return abs(doc_sentiment - np.mean([sentiments[idx]] + [sentiments[senti] for senti in summary_idxes]))\n",
    "\n",
    "    summary_idxes = []\n",
    "    best_idx = None\n",
    "\n",
    "    while len(summary_idxes) < topk and best_idx != -1:\n",
    "        best_idx, best_objective = -1, -1000\n",
    "        for idx in range(len(sentences)):\n",
    "            if idx not in summary_idxes:\n",
    "                redundancy = _compute_redundancy(idx, summary_idxes)\n",
    "                sentiment_difference = _sentiment_difference(idx, summary_idxes)\n",
    "                # maximizing centrality while minimizing redundancy and sentiment difference\n",
    "                objective = centrality_scores[idx] - redundancy - sentiment_difference\n",
    "                if objective > best_objective:\n",
    "                    best_idx = idx\n",
    "                    best_objective = objective\n",
    "        if best_idx != -1:\n",
    "            summary_idxes.append(best_idx)\n",
    "\n",
    "    # Store the outputs\n",
    "    out_summary = \"\"\n",
    "    out_sentiment = \"\"\n",
    "    out_centralities = \"\"\n",
    "    summary_sentiments = []\n",
    "    summary_centralities = []\n",
    "    summary_redundancies = []\n",
    "\n",
    "    for idx in summary_idxes:\n",
    "        summary_sentiments.append(sentiments[idx])\n",
    "        summary_centralities.append(centrality_scores[idx])\n",
    "\n",
    "        # compute redundancy of the specific sentence to all other sentences in the summary\n",
    "        summary_idxes.remove(idx)\n",
    "        redundancy = _compute_redundancy(idx, summary_idxes)\n",
    "        summary_idxes.append(idx)\n",
    "        summary_redundancies.append(redundancy)\n",
    "\n",
    "        out_summary += sentences[idx] + \"[SEP]\"\n",
    "        out_sentiment += str(sentiments[idx]) + \"[SEP]\"\n",
    "        out_centralities += str(centrality_scores[idx]) + \"[SEP]\"\n",
    "\n",
    "    mean_sentiment = np.mean(summary_sentiments)\n",
    "    mean_centrality = np.mean(summary_centralities)\n",
    "    mean_redundancy = np.mean(summary_redundancies)\n",
    "\n",
    "    print(f\"{mean_sentiment}, {mean_centrality}, {mean_redundancy}, {doc_sentiment}\")\n",
    "\n",
    "    return out_summary, out_sentiment, out_centralities, mean_sentiment, mean_centrality, mean_redundancy, doc_sentiment"
   ]
  },
  {
   "cell_type": "markdown",
   "id": "225d13f6",
   "metadata": {},
   "source": [
    "### 3.5.3 &nbsp; Result & Evaluation"
   ]
  },
  {
   "cell_type": "markdown",
   "id": "3b537de8",
   "metadata": {},
   "source": [
    "Due to lack of gold summaries, we use <b>three metrics (Centrality, Sentiment Differences, and Redundancy) </b> of extracting the top 5 central sentences\n",
    "\n",
    "- <b>Centrality</b>: Average centrality of summary sentences $->$ (Higher the better)\n",
    "- <b>Sentiment Difference</b>: |mean of original text  - mean of summary (sentiment)| $->$ (Lower the better)\n",
    "- <b>Redundancy</b>: Average cosine similarity among summary sentences $->$ (Lower the better)\n"
   ]
  },
  {
   "cell_type": "code",
   "execution_count": 204,
   "id": "2e60c820",
   "metadata": {},
   "outputs": [],
   "source": [
    "# Read result CSVs\n",
    "summ_baseline = pd.read_csv('./output/summ-baseline-out.csv').iloc[:, 1:]  # baseline model\n",
    "summ_balanced = pd.read_csv('./output/summ-balance-out.csv').iloc[:, 1:] # balanced model"
   ]
  },
  {
   "cell_type": "markdown",
   "id": "7971a285",
   "metadata": {},
   "source": [
    "#### We define an evaluation function to compute the above 3 metrics"
   ]
  },
  {
   "cell_type": "code",
   "execution_count": 230,
   "id": "d9cbd627",
   "metadata": {},
   "outputs": [],
   "source": [
    "def evaluation(name, stats_df):\n",
    "    stats_df.replace(np.inf, np.nan, inplace=True) # replace 'inf' by 'NaN'\n",
    "    stats_df.dropna(axis=0, how='any', inplace=True) # then drop all NaNs\n",
    "    mean_df = stats_df.describe().loc['mean', :]\n",
    "    \n",
    "    print(name + \" model metrics:\")\n",
    "    print(\"Centrality: \", mean_df['Mean_centrality'])\n",
    "    print(\"Sentiment Difference: \", np.abs(mean_df['Mean_sentiment'] - mean_df['doc_sentiment']))\n",
    "    print(\"Redundancy: \", mean_df['Mean_redundancy'])\n",
    "    \n",
    "    pass"
   ]
  },
  {
   "cell_type": "code",
   "execution_count": 231,
   "id": "67a1423a",
   "metadata": {},
   "outputs": [
    {
     "name": "stdout",
     "output_type": "stream",
     "text": [
      "Baseline model metrics:\n",
      "Centrality:  1.457832593624464\n",
      "Sentiment Difference:  0.034905608279972744\n",
      "Redundancy:  0.65922499530985\n"
     ]
    }
   ],
   "source": [
    "evaluation(\"Baseline\", summ_baseline.iloc[:, -4:])"
   ]
  },
  {
   "cell_type": "code",
   "execution_count": 233,
   "id": "4659847c",
   "metadata": {},
   "outputs": [
    {
     "name": "stdout",
     "output_type": "stream",
     "text": [
      "Balanced model metrics:\n",
      "Centrality:  1.407710446431976\n",
      "Sentiment Difference:  0.006182471345803298\n",
      "Redundancy:  0.5434062235968687\n"
     ]
    }
   ],
   "source": [
    "evaluation(\"Balanced\", summ_balanced.iloc[:, -4:])"
   ]
  },
  {
   "cell_type": "markdown",
   "id": "0ceb934d",
   "metadata": {},
   "source": [
    "We summarize the metrics for two methods as follows:"
   ]
  },
  {
   "cell_type": "markdown",
   "id": "db411109",
   "metadata": {},
   "source": [
    "|| Baseline      | Balanced Summarization |\n",
    "|-----------| ----------- | ----------- |\n",
    "|<b>Centrality</b>| <b>1.4578</b>      | 1.4077       |\n",
    "|<b>Sentiment Difference</b>| 0.0349   | <b>0.0062</b>      |\n",
    "|<b>Redundancy</b>| 0.6592  | <b>0.5434</b>     |"
   ]
  },
  {
   "cell_type": "markdown",
   "id": "94a40fe5",
   "metadata": {},
   "source": [
    "We can observe that, though sacrificing minor centrality, our Improvement method (Balanced Summarization Algorithm) achieved <b>lower sentiment difference</b> and <b>lower redundancy</b> than baseline method, generally a good result."
   ]
  },
  {
   "cell_type": "markdown",
   "id": "51a75b9a",
   "metadata": {},
   "source": [
    "---"
   ]
  },
  {
   "cell_type": "markdown",
   "id": "e0408b2d",
   "metadata": {},
   "source": [
    "### Part 4) &nbsp; Summary & Future plans"
   ]
  },
  {
   "cell_type": "markdown",
   "id": "18bd8e9c",
   "metadata": {},
   "source": [
    "In this module, we first conduct some modifications on original datasets based on findings from exploratory data analysis and prepare it into a less sparse form for model part. Then we explore multiple recommendation models with optimizations that produce impressive results. Finally, we employ NLP models to provide more detailed information alongside books recommended to users, playing a role of user interaction tool and effective information extraction.\n",
    "\n",
    "In the next module, we shall consider the following advancement and plans:\n",
    "- **Ensemble model**: Currently we have considered several recommendation models and a hybrid one to combine them. Next we prepare to introduce some linear models that take book features & user features into consideration and then build a high-functional ensemble model as our final model;\n",
    "\n",
    "- **NLP**: We will use NLP models to provide information overview of recommended book with our tags, summarization and sentiment scores. Then integrate models with interactive user interface to help users efficiently acquire information about books recommended to them\n",
    "\n",
    "- **Interactive User interface**: In the next module, we will present an interactive user interface to play with our recommdendation system. It integrates recommendation models that produce to-read lists for users and use NLP models to provide information overview."
   ]
  },
  {
   "cell_type": "code",
   "execution_count": null,
   "id": "3df11011",
   "metadata": {},
   "outputs": [],
   "source": []
  }
 ],
 "metadata": {
  "kernelspec": {
   "display_name": "Python 3 (ipykernel)",
   "language": "python",
   "name": "python3"
  },
  "language_info": {
   "codemirror_mode": {
    "name": "ipython",
    "version": 3
   },
   "file_extension": ".py",
   "mimetype": "text/x-python",
   "name": "python",
   "nbconvert_exporter": "python",
   "pygments_lexer": "ipython3",
   "version": "3.9.12"
  }
 },
 "nbformat": 4,
 "nbformat_minor": 5
}
