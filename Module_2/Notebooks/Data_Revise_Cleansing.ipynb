{
 "cells": [
  {
   "cell_type": "markdown",
   "id": "bbbf3ec1",
   "metadata": {
    "pycharm": {
     "name": "#%% md\n"
    }
   },
   "source": [
    "### 1.1 &nbsp; Data Revise & Cleansing\n",
    "- We combine original data with new additional data crawled and perform data cleansing"
   ]
  },
  {
   "cell_type": "markdown",
   "id": "2c5bc78b",
   "metadata": {},
   "source": [
    "### 1.1.1 Data combination & pre-processing"
   ]
  },
  {
   "cell_type": "code",
   "execution_count": 1,
   "id": "fc9ed09c",
   "metadata": {
    "pycharm": {
     "name": "#%%\n"
    }
   },
   "outputs": [],
   "source": [
    "import pandas as pd\n",
    "import numpy as np\n",
    "import os"
   ]
  },
  {
   "cell_type": "markdown",
   "id": "a7aa12aa",
   "metadata": {},
   "source": [
    "#### Load original datasets and further crawled additional data"
   ]
  },
  {
   "cell_type": "code",
   "execution_count": 12,
   "id": "ea4686ad",
   "metadata": {
    "pycharm": {
     "name": "#%%\n"
    }
   },
   "outputs": [],
   "source": [
    "df_info_origin = pd.read_csv('./Partial_Datasets/Book_info_original.csv')\n",
    "df_reviews_origin = pd.read_csv('./Partial_Datasets/Book_reviews_original.csv')"
   ]
  },
  {
   "cell_type": "code",
   "execution_count": 3,
   "id": "d4cbe48c",
   "metadata": {
    "pycharm": {
     "name": "#%%\n"
    }
   },
   "outputs": [],
   "source": [
    "df_info_add = pd.read_csv('./Partial_Datasets/Book_add_info.csv')\n",
    "df_reviews_add = pd.read_csv('./Partial_Datasets/Book_add_reviews.csv')"
   ]
  },
  {
   "cell_type": "markdown",
   "id": "217b97ce",
   "metadata": {},
   "source": [
    "#### Also we re-crawled the genre list under each book's information page to replace original ones"
   ]
  },
  {
   "cell_type": "code",
   "execution_count": 4,
   "id": "d558bd43",
   "metadata": {
    "pycharm": {
     "name": "#%%\n"
    }
   },
   "outputs": [
    {
     "data": {
      "text/html": [
       "<div>\n",
       "<style scoped>\n",
       "    .dataframe tbody tr th:only-of-type {\n",
       "        vertical-align: middle;\n",
       "    }\n",
       "\n",
       "    .dataframe tbody tr th {\n",
       "        vertical-align: top;\n",
       "    }\n",
       "\n",
       "    .dataframe thead th {\n",
       "        text-align: right;\n",
       "    }\n",
       "</style>\n",
       "<table border=\"1\" class=\"dataframe\">\n",
       "  <thead>\n",
       "    <tr style=\"text-align: right;\">\n",
       "      <th></th>\n",
       "      <th>Uid</th>\n",
       "      <th>Genres</th>\n",
       "    </tr>\n",
       "  </thead>\n",
       "  <tbody>\n",
       "    <tr>\n",
       "      <th>0</th>\n",
       "      <td>13642600</td>\n",
       "      <td>['Picture Books', 'Biography', 'Art', 'Nonfict...</td>\n",
       "    </tr>\n",
       "    <tr>\n",
       "      <th>1</th>\n",
       "      <td>470185</td>\n",
       "      <td>['Art', 'Nonfiction', 'Photography', 'Philosop...</td>\n",
       "    </tr>\n",
       "    <tr>\n",
       "      <th>2</th>\n",
       "      <td>137933</td>\n",
       "      <td>['Art', 'Philosophy', 'Nonfiction', 'Art Histo...</td>\n",
       "    </tr>\n",
       "    <tr>\n",
       "      <th>3</th>\n",
       "      <td>52374</td>\n",
       "      <td>['Essays', 'Nonfiction', 'Philosophy', 'Art', ...</td>\n",
       "    </tr>\n",
       "    <tr>\n",
       "      <th>4</th>\n",
       "      <td>140987</td>\n",
       "      <td>['Art', 'Nonfiction', 'Essays', 'Music', 'Crit...</td>\n",
       "    </tr>\n",
       "    <tr>\n",
       "      <th>...</th>\n",
       "      <td>...</td>\n",
       "      <td>...</td>\n",
       "    </tr>\n",
       "    <tr>\n",
       "      <th>5659</th>\n",
       "      <td>203818</td>\n",
       "      <td>['Religion', 'Reference', 'Christianity', 'Cla...</td>\n",
       "    </tr>\n",
       "    <tr>\n",
       "      <th>5660</th>\n",
       "      <td>821535</td>\n",
       "      <td>['Religion', 'Judaism', 'Nonfiction', 'Classic...</td>\n",
       "    </tr>\n",
       "    <tr>\n",
       "      <th>5661</th>\n",
       "      <td>290882</td>\n",
       "      <td>['Religion', 'Philosophy', 'Spirituality', 'Cl...</td>\n",
       "    </tr>\n",
       "    <tr>\n",
       "      <th>5662</th>\n",
       "      <td>646462</td>\n",
       "      <td>['Religion', 'Islam', 'Nonfiction', 'Classics'...</td>\n",
       "    </tr>\n",
       "    <tr>\n",
       "      <th>5663</th>\n",
       "      <td>241902</td>\n",
       "      <td>['Religion', 'Spirituality', 'Nonfiction', 'Ch...</td>\n",
       "    </tr>\n",
       "  </tbody>\n",
       "</table>\n",
       "<p>5664 rows × 2 columns</p>\n",
       "</div>"
      ],
      "text/plain": [
       "           Uid                                             Genres\n",
       "0     13642600  ['Picture Books', 'Biography', 'Art', 'Nonfict...\n",
       "1       470185  ['Art', 'Nonfiction', 'Photography', 'Philosop...\n",
       "2       137933  ['Art', 'Philosophy', 'Nonfiction', 'Art Histo...\n",
       "3        52374  ['Essays', 'Nonfiction', 'Philosophy', 'Art', ...\n",
       "4       140987  ['Art', 'Nonfiction', 'Essays', 'Music', 'Crit...\n",
       "...        ...                                                ...\n",
       "5659    203818  ['Religion', 'Reference', 'Christianity', 'Cla...\n",
       "5660    821535  ['Religion', 'Judaism', 'Nonfiction', 'Classic...\n",
       "5661    290882  ['Religion', 'Philosophy', 'Spirituality', 'Cl...\n",
       "5662    646462  ['Religion', 'Islam', 'Nonfiction', 'Classics'...\n",
       "5663    241902  ['Religion', 'Spirituality', 'Nonfiction', 'Ch...\n",
       "\n",
       "[5664 rows x 2 columns]"
      ]
     },
     "execution_count": 4,
     "metadata": {},
     "output_type": "execute_result"
    }
   ],
   "source": [
    "uid_genre = pd.read_csv('./Partial_Datasets/uid_genre.csv')\n",
    "uid_genre"
   ]
  },
  {
   "cell_type": "markdown",
   "id": "abb804dd",
   "metadata": {},
   "source": [
    "#### First drop duplicates detected by `Uid` and drop previous genres-related attributes"
   ]
  },
  {
   "cell_type": "code",
   "execution_count": 13,
   "id": "9d8c9714",
   "metadata": {
    "pycharm": {
     "name": "#%%\n"
    }
   },
   "outputs": [],
   "source": [
    "df_info = df_info_origin.drop_duplicates(subset=['Uid']).reset_index(drop=True)\n",
    "df_info.drop(['Genre', 'Sub_Genres'], axis = 1, inplace=True)"
   ]
  },
  {
   "cell_type": "code",
   "execution_count": 14,
   "id": "42c8d615",
   "metadata": {
    "pycharm": {
     "name": "#%%\n"
    }
   },
   "outputs": [],
   "source": [
    "# combine with new genre information obtained\n",
    "df_info = df_info.merge(uid_genre, on='Uid')"
   ]
  },
  {
   "cell_type": "code",
   "execution_count": 15,
   "id": "f857b546",
   "metadata": {},
   "outputs": [],
   "source": [
    "# adjust column names\n",
    "cols = df_info.columns.to_list()\n",
    "cols = cols[:2] + cols[-1:] + cols[2:-1]"
   ]
  },
  {
   "cell_type": "code",
   "execution_count": 16,
   "id": "ec0b0295",
   "metadata": {
    "pycharm": {
     "name": "#%%\n"
    }
   },
   "outputs": [
    {
     "name": "stdout",
     "output_type": "stream",
     "text": [
      "<class 'pandas.core.frame.DataFrame'>\n",
      "Int64Index: 5664 entries, 0 to 5663\n",
      "Data columns (total 15 columns):\n",
      " #   Column         Non-Null Count  Dtype  \n",
      "---  ------         --------------  -----  \n",
      " 0   Uid            5664 non-null   int64  \n",
      " 1   Title          5664 non-null   object \n",
      " 2   Genres         5664 non-null   object \n",
      " 3   Author         5664 non-null   object \n",
      " 4   Rating         5664 non-null   float64\n",
      " 5   Publish_Date   5664 non-null   object \n",
      " 6   Page_Num       5664 non-null   int64  \n",
      " 7   Award          5664 non-null   object \n",
      " 8   Description    5653 non-null   object \n",
      " 9   Author_Desc    5250 non-null   object \n",
      " 10  Book_Authored  5664 non-null   object \n",
      " 11  Follower_Num   5655 non-null   object \n",
      " 12  Review_Num     5664 non-null   int64  \n",
      " 13  Rating_Num     5664 non-null   int64  \n",
      " 14  Rating_Dist    5664 non-null   object \n",
      "dtypes: float64(1), int64(4), object(10)\n",
      "memory usage: 708.0+ KB\n"
     ]
    }
   ],
   "source": [
    "df_info = df_info[cols]\n",
    "df_info.info()"
   ]
  },
  {
   "cell_type": "markdown",
   "id": "0d59f552",
   "metadata": {},
   "source": [
    "#### Combine origianl book information with new additional data"
   ]
  },
  {
   "cell_type": "code",
   "execution_count": 17,
   "id": "6bf9bb38",
   "metadata": {
    "pycharm": {
     "name": "#%%\n"
    }
   },
   "outputs": [],
   "source": [
    "# rename Genre column for combination of dataframes\n",
    "df_info_add.rename(columns={'Genre': 'Genres'}, inplace=True)\n",
    "\n",
    "# combine original books with addtional data\n",
    "df_info = pd.concat([df_info, df_info_add], ignore_index=True)\n",
    "\n",
    "# again drop duplicates\n",
    "df_info = df_info.drop_duplicates(subset=['Uid']).reset_index(drop=True)"
   ]
  },
  {
   "cell_type": "code",
   "execution_count": 18,
   "id": "f56a4052",
   "metadata": {
    "pycharm": {
     "name": "#%%\n"
    }
   },
   "outputs": [
    {
     "name": "stdout",
     "output_type": "stream",
     "text": [
      "<class 'pandas.core.frame.DataFrame'>\n",
      "RangeIndex: 7846 entries, 0 to 7845\n",
      "Data columns (total 15 columns):\n",
      " #   Column         Non-Null Count  Dtype  \n",
      "---  ------         --------------  -----  \n",
      " 0   Uid            7846 non-null   int64  \n",
      " 1   Title          7846 non-null   object \n",
      " 2   Genres         7846 non-null   object \n",
      " 3   Author         7846 non-null   object \n",
      " 4   Rating         7846 non-null   float64\n",
      " 5   Publish_Date   7846 non-null   object \n",
      " 6   Page_Num       7846 non-null   int64  \n",
      " 7   Award          7846 non-null   object \n",
      " 8   Description    7831 non-null   object \n",
      " 9   Author_Desc    7185 non-null   object \n",
      " 10  Book_Authored  7846 non-null   object \n",
      " 11  Follower_Num   7830 non-null   object \n",
      " 12  Review_Num     7846 non-null   int64  \n",
      " 13  Rating_Num     7846 non-null   int64  \n",
      " 14  Rating_Dist    7846 non-null   object \n",
      "dtypes: float64(1), int64(4), object(10)\n",
      "memory usage: 919.6+ KB\n"
     ]
    }
   ],
   "source": [
    "df_info.info()"
   ]
  },
  {
   "cell_type": "markdown",
   "id": "e05427ff",
   "metadata": {},
   "source": [
    "#### Combine original reviews with new additional reviews"
   ]
  },
  {
   "cell_type": "code",
   "execution_count": 20,
   "id": "160a302b",
   "metadata": {
    "pycharm": {
     "name": "#%%\n"
    }
   },
   "outputs": [],
   "source": [
    "df_reviews = pd.concat([df_reviews_origin, df_reviews_add], ignore_index=True)"
   ]
  },
  {
   "cell_type": "code",
   "execution_count": 21,
   "id": "d4755d2b",
   "metadata": {
    "pycharm": {
     "name": "#%%\n"
    }
   },
   "outputs": [],
   "source": [
    "Uid = df_info['Uid'].values\n",
    "\n",
    "# only keep books with Uid left in dataset\n",
    "df_reviews = df_reviews[df_reviews['Uid'].isin(Uid)]\n",
    "df_reviews = df_reviews.drop_duplicates(subset=['Uid', 'Title', 'Reviewer']).reset_index(drop=True)"
   ]
  },
  {
   "cell_type": "code",
   "execution_count": 24,
   "id": "a7095a55",
   "metadata": {},
   "outputs": [
    {
     "name": "stdout",
     "output_type": "stream",
     "text": [
      "<class 'pandas.core.frame.DataFrame'>\n",
      "RangeIndex: 115033 entries, 0 to 115032\n",
      "Data columns (total 10 columns):\n",
      " #   Column         Non-Null Count   Dtype \n",
      "---  ------         --------------   ----- \n",
      " 0   Uid            115033 non-null  int64 \n",
      " 1   Title          115033 non-null  object\n",
      " 2   Reviewer       115033 non-null  object\n",
      " 3   N_Review       115033 non-null  object\n",
      " 4   N_Follower     115033 non-null  object\n",
      " 5   Review_Rating  115033 non-null  int64 \n",
      " 6   Review_Date    115033 non-null  object\n",
      " 7   Content        115033 non-null  object\n",
      " 8   N_Likes        111756 non-null  object\n",
      " 9   N_Comments     68456 non-null   object\n",
      "dtypes: int64(2), object(8)\n",
      "memory usage: 8.8+ MB\n"
     ]
    }
   ],
   "source": [
    "df_reviews.info()"
   ]
  },
  {
   "cell_type": "code",
   "execution_count": 28,
   "id": "73daf839",
   "metadata": {
    "pycharm": {
     "name": "#%%\n"
    }
   },
   "outputs": [],
   "source": [
    "# store raw datasets\n",
    "\n",
    "df_reviews.to_csv('./Partial_Datasets/Book_reviews_combined_raw.csv', encoding='utf-8-sig', index=False)\n",
    "df_info.to_csv('./Partial_Datasets/Book_info_combined_raw.csv', encoding='utf-8-sig', index=False)"
   ]
  },
  {
   "cell_type": "markdown",
   "id": "63919472",
   "metadata": {
    "pycharm": {
     "name": "#%% md\n"
    }
   },
   "source": [
    "---"
   ]
  },
  {
   "cell_type": "markdown",
   "id": "06d52710",
   "metadata": {
    "pycharm": {
     "name": "#%% md\n"
    }
   },
   "source": [
    "### 1.1.2 &nbsp; Clean Book Basic infomation dataframe: `df_info`"
   ]
  },
  {
   "cell_type": "markdown",
   "id": "7b7e0779",
   "metadata": {
    "pycharm": {
     "name": "#%% md\n"
    }
   },
   "source": [
    "### `Genres`\n",
    "\n",
    "- Note these entries are ***strings***, rather than a list it looks like, so for easier manipulation, we transform them into list of strings"
   ]
  },
  {
   "cell_type": "code",
   "execution_count": 55,
   "id": "ff6a48b8",
   "metadata": {
    "pycharm": {
     "name": "#%%\n"
    }
   },
   "outputs": [],
   "source": [
    "df_info = pd.read_csv('./Partial_Datasets//Book_info_combined_raw.csv')\n",
    "df_reviews = pd.read_csv('./Partial_Datasets/Book_reviews_combined_raw.csv')"
   ]
  },
  {
   "cell_type": "code",
   "execution_count": 30,
   "id": "56ba1e84",
   "metadata": {
    "pycharm": {
     "name": "#%%\n"
    }
   },
   "outputs": [],
   "source": [
    "def genre_name_modify(text):\n",
    "    text_list = re.findall(\"\\'(.*?)\\'\", text)\n",
    "    text_cleaned = []\n",
    "    for text in text_list:\n",
    "        text = str.lower(text)\n",
    "        text = text.replace(' ', '-')\n",
    "        text = text.replace('\\'', '-')\n",
    "        if text == 'childrens':\n",
    "            text = 'children-s'\n",
    "        if text == 'n/a':\n",
    "            text = 'other'\n",
    "        text_cleaned.append(text)\n",
    "\n",
    "    return text_cleaned"
   ]
  },
  {
   "cell_type": "markdown",
   "id": "26559e01",
   "metadata": {},
   "source": [
    "#### First we drop books whose `Genres` = ['N/A']"
   ]
  },
  {
   "cell_type": "code",
   "execution_count": 37,
   "id": "409de285",
   "metadata": {},
   "outputs": [
    {
     "data": {
      "text/plain": [
       "array([17383989,   763047, 20701984,    19330,  2153405, 37590384,\n",
       "          81941,   219024,   233637,   780072, 16144853,   524878],\n",
       "      dtype=int64)"
      ]
     },
     "execution_count": 37,
     "metadata": {},
     "output_type": "execute_result"
    }
   ],
   "source": [
    "uid_list = df_info[df_info['Genres'] == '[\\'N/A\\']']['Uid'].values\n",
    "uid_list"
   ]
  },
  {
   "cell_type": "code",
   "execution_count": 38,
   "id": "5048fe54",
   "metadata": {
    "pycharm": {
     "name": "#%%\n"
    }
   },
   "outputs": [],
   "source": [
    "df_info = df_info[~df_info['Uid'].isin(uid_list)].reset_index(drop=True)"
   ]
  },
  {
   "cell_type": "code",
   "execution_count": 39,
   "id": "091bf995",
   "metadata": {
    "pycharm": {
     "name": "#%%\n"
    }
   },
   "outputs": [],
   "source": [
    "df_reviews = df_reviews[~df_reviews['Uid'].isin(uid_list)].reset_index(drop=True)"
   ]
  },
  {
   "cell_type": "code",
   "execution_count": 40,
   "id": "8cfa77cf",
   "metadata": {
    "pycharm": {
     "name": "#%%\n"
    }
   },
   "outputs": [
    {
     "data": {
      "text/plain": [
       "0       [picture-books, biography, art, nonfiction, ch...\n",
       "1       [art, nonfiction, photography, philosophy, ess...\n",
       "2       [art, philosophy, nonfiction, art-history, the...\n",
       "3       [essays, nonfiction, philosophy, art, criticis...\n",
       "4       [art, nonfiction, essays, music, criticism, me...\n",
       "                              ...                        \n",
       "7829    [manga, fantasy, horror, graphic-novels, comic...\n",
       "7830    [manga, fantasy, graphic-novels, young-adult, ...\n",
       "7831    [manga, fantasy, graphic-novels, shonen, comic...\n",
       "7832    [manga, fantasy, graphic-novels, comics, horro...\n",
       "7833    [manga, fantasy, historical-fiction, supernatu...\n",
       "Name: Genres, Length: 7834, dtype: object"
      ]
     },
     "execution_count": 40,
     "metadata": {},
     "output_type": "execute_result"
    }
   ],
   "source": [
    "import re\n",
    "\n",
    "genres_df = df_info['Genres'].apply(genre_name_modify)\n",
    "genres_df"
   ]
  },
  {
   "cell_type": "code",
   "execution_count": 41,
   "id": "a45f3455",
   "metadata": {
    "pycharm": {
     "name": "#%%\n"
    }
   },
   "outputs": [],
   "source": [
    "df_info['Genres'] = genres_df"
   ]
  },
  {
   "cell_type": "markdown",
   "id": "c4909ad9",
   "metadata": {
    "pycharm": {
     "name": "#%% md\n"
    }
   },
   "source": [
    "### `Award`\n",
    "\n",
    "- The case is a little bit different from before, we can see more messy patterrns, e.g. punctuation (: ' -), different quotations('' \"\"), varing empty spaces. Therefore, it's hard to write a uniform regular expression to format the strings as wanted\n",
    "\n",
    "- In this case, we use a more complicated cleansing method as follows:"
   ]
  },
  {
   "cell_type": "code",
   "execution_count": 42,
   "id": "63938464",
   "metadata": {
    "pycharm": {
     "name": "#%%\n"
    }
   },
   "outputs": [
    {
     "name": "stdout",
     "output_type": "stream",
     "text": [
      "['Schneider Family Book Award', \"Vermont's Picture Book Awards: Red Clover\", 'Sibert Medal', \"Pennsylvania Young Readers' Choice Award\", 'NCTE Orbis Pictus Award']\n",
      "163\n"
     ]
    }
   ],
   "source": [
    "Award = df_info['Award']\n",
    "\n",
    "print(Award[0])\n",
    "print(len(Award[0]))"
   ]
  },
  {
   "cell_type": "markdown",
   "id": "67483dc4",
   "metadata": {
    "pycharm": {
     "name": "#%% md\n"
    }
   },
   "source": [
    "#### Remove punctuation, but keep comma for further separation & turn into lower case to avoid case-sensitive duplicates"
   ]
  },
  {
   "cell_type": "code",
   "execution_count": 43,
   "id": "fd8a2282",
   "metadata": {
    "pycharm": {
     "name": "#%%\n"
    }
   },
   "outputs": [],
   "source": [
    "from string import punctuation\n",
    "\n",
    "def remove_punctuation_lower(document):\n",
    "    keep_comma = punctuation.replace(',', '')\n",
    "    no_punct = ''.join([character for character in document if character not in keep_comma])\n",
    "    no_punct_lower = str.lower(no_punct)\n",
    "    \n",
    "    return no_punct_lower"
   ]
  },
  {
   "cell_type": "code",
   "execution_count": 44,
   "id": "f5669fda",
   "metadata": {
    "pycharm": {
     "name": "#%%\n"
    }
   },
   "outputs": [
    {
     "data": {
      "text/plain": [
       "0       schneider family book award, vermonts picture ...\n",
       "1                                                      na\n",
       "2                                                      na\n",
       "3                            national book award finalist\n",
       "4                                                      na\n",
       "                              ...                        \n",
       "7829                                                   na\n",
       "7830                                                   na\n",
       "7831                                                   na\n",
       "7832                                                   na\n",
       "7833                                                   na\n",
       "Name: Award, Length: 7834, dtype: object"
      ]
     },
     "execution_count": 44,
     "metadata": {},
     "output_type": "execute_result"
    }
   ],
   "source": [
    "Award = Award.apply(remove_punctuation_lower)\n",
    "Award"
   ]
  },
  {
   "cell_type": "markdown",
   "id": "5cfcdabc",
   "metadata": {
    "pycharm": {
     "name": "#%% md\n"
    }
   },
   "source": [
    "#### Split on comma kept from before & turn combined string into separate award tags in a list"
   ]
  },
  {
   "cell_type": "code",
   "execution_count": 45,
   "id": "d5b6b407",
   "metadata": {
    "pycharm": {
     "name": "#%%\n"
    }
   },
   "outputs": [],
   "source": [
    "def process_award(tags):\n",
    "    tags_list = tags.split(',')\n",
    "    cleaned_tags = []\n",
    "    \n",
    "    for item in tags_list:\n",
    "        item = item.strip()\n",
    "        item = item.replace(' ', '_')\n",
    "        cleaned_tags.append(item)\n",
    "    \n",
    "    # replace 'NA' by 'no' to represent no award has obtained for easier use\n",
    "    if cleaned_tags == ['na']:\n",
    "        cleaned_tags = ['no']\n",
    "    \n",
    "    return cleaned_tags "
   ]
  },
  {
   "cell_type": "code",
   "execution_count": 46,
   "id": "7ab03155",
   "metadata": {
    "pycharm": {
     "name": "#%%\n"
    }
   },
   "outputs": [
    {
     "data": {
      "text/plain": [
       "0       [schneider_family_book_award, vermonts_picture...\n",
       "1                                                    [no]\n",
       "2                                                    [no]\n",
       "3                          [national_book_award_finalist]\n",
       "4                                                    [no]\n",
       "                              ...                        \n",
       "7829                                                 [no]\n",
       "7830                                                 [no]\n",
       "7831                                                 [no]\n",
       "7832                                                 [no]\n",
       "7833                                                 [no]\n",
       "Name: Award, Length: 7834, dtype: object"
      ]
     },
     "execution_count": 46,
     "metadata": {},
     "output_type": "execute_result"
    }
   ],
   "source": [
    "Award = Award.apply(process_award)\n",
    "Award"
   ]
  },
  {
   "cell_type": "code",
   "execution_count": 47,
   "id": "73584523",
   "metadata": {
    "pycharm": {
     "name": "#%%\n"
    },
    "scrolled": true
   },
   "outputs": [],
   "source": [
    "df_info['Award'] = Award"
   ]
  },
  {
   "cell_type": "markdown",
   "id": "700ab385",
   "metadata": {
    "pycharm": {
     "name": "#%% md\n"
    }
   },
   "source": [
    "###  `Follower_Num`\n",
    "\n",
    "- Some entries are in the form of thousands (using k), e.g. 13.1k = 13100 in real numbers. We turn them into same format and cast types to int64"
   ]
  },
  {
   "cell_type": "code",
   "execution_count": 48,
   "id": "ddee6b03",
   "metadata": {
    "pycharm": {
     "name": "#%%\n"
    }
   },
   "outputs": [
    {
     "data": {
      "text/plain": [
       "'13.1k'"
      ]
     },
     "execution_count": 48,
     "metadata": {},
     "output_type": "execute_result"
    }
   ],
   "source": [
    "df_info['Follower_Num'][18]"
   ]
  },
  {
   "cell_type": "code",
   "execution_count": 49,
   "id": "3cf3a04f",
   "metadata": {
    "pycharm": {
     "name": "#%%\n"
    }
   },
   "outputs": [],
   "source": [
    "def digit_process(x):\n",
    "    # some cases, it will be nan\n",
    "    if pd.isna(x):\n",
    "        x = 0\n",
    "    \n",
    "    if 'k' in str(x):\n",
    "        x = float(x.split('k')[0])  # ensure if no numeric part, will become xx.0\n",
    "        x = str(x).replace('.', '')\n",
    "        x = int(x) * 100\n",
    "        \n",
    "    return int(float(x))"
   ]
  },
  {
   "cell_type": "code",
   "execution_count": 50,
   "id": "b57e99b3",
   "metadata": {
    "pycharm": {
     "name": "#%%\n"
    }
   },
   "outputs": [
    {
     "data": {
      "text/plain": [
       "13100"
      ]
     },
     "execution_count": 50,
     "metadata": {},
     "output_type": "execute_result"
    }
   ],
   "source": [
    "df_info['Follower_Num'] = df_info['Follower_Num'].apply(digit_process)\n",
    "df_info['Follower_Num'][18]"
   ]
  },
  {
   "cell_type": "markdown",
   "id": "62a78e9c",
   "metadata": {
    "pycharm": {
     "name": "#%% md\n"
    }
   },
   "source": [
    "### `Rating_Dist`"
   ]
  },
  {
   "cell_type": "code",
   "execution_count": 51,
   "id": "915ca6ba",
   "metadata": {
    "pycharm": {
     "name": "#%%\n"
    }
   },
   "outputs": [
    {
     "data": {
      "text/plain": [
       "\"['1894 (36%)', '1732 (33%)', '866 (16%)', '351 (6%)', '329 (6%)']\""
      ]
     },
     "execution_count": 51,
     "metadata": {},
     "output_type": "execute_result"
    }
   ],
   "source": [
    "df_info['Rating_Dist'][0]"
   ]
  },
  {
   "cell_type": "code",
   "execution_count": 52,
   "id": "e3385c6e",
   "metadata": {
    "pycharm": {
     "name": "#%%\n"
    }
   },
   "outputs": [],
   "source": [
    "dist = []\n",
    "for index, row in df_info['Rating_Dist'].iteritems():\n",
    "    num_list = re.findall(\"\\'(\\d*) \\(\", row)\n",
    "    dist_temp = []\n",
    "    for num in num_list:\n",
    "        num = int(num)\n",
    "        dist_temp.append(num)\n",
    "    \n",
    "    dist.append(dist_temp)"
   ]
  },
  {
   "cell_type": "code",
   "execution_count": 53,
   "id": "f9e4fc70",
   "metadata": {
    "pycharm": {
     "name": "#%%\n"
    }
   },
   "outputs": [
    {
     "data": {
      "text/html": [
       "<div>\n",
       "<style scoped>\n",
       "    .dataframe tbody tr th:only-of-type {\n",
       "        vertical-align: middle;\n",
       "    }\n",
       "\n",
       "    .dataframe tbody tr th {\n",
       "        vertical-align: top;\n",
       "    }\n",
       "\n",
       "    .dataframe thead th {\n",
       "        text-align: right;\n",
       "    }\n",
       "</style>\n",
       "<table border=\"1\" class=\"dataframe\">\n",
       "  <thead>\n",
       "    <tr style=\"text-align: right;\">\n",
       "      <th></th>\n",
       "      <th>Five_Star</th>\n",
       "      <th>Four_Star</th>\n",
       "      <th>Three_Star</th>\n",
       "      <th>Two_Star</th>\n",
       "      <th>One_Star</th>\n",
       "    </tr>\n",
       "  </thead>\n",
       "  <tbody>\n",
       "    <tr>\n",
       "      <th>0</th>\n",
       "      <td>1894</td>\n",
       "      <td>1732</td>\n",
       "      <td>866</td>\n",
       "      <td>351</td>\n",
       "      <td>329</td>\n",
       "    </tr>\n",
       "    <tr>\n",
       "      <th>1</th>\n",
       "      <td>3446</td>\n",
       "      <td>2345</td>\n",
       "      <td>1346</td>\n",
       "      <td>395</td>\n",
       "      <td>254</td>\n",
       "    </tr>\n",
       "    <tr>\n",
       "      <th>2</th>\n",
       "      <td>368</td>\n",
       "      <td>319</td>\n",
       "      <td>183</td>\n",
       "      <td>41</td>\n",
       "      <td>26</td>\n",
       "    </tr>\n",
       "    <tr>\n",
       "      <th>3</th>\n",
       "      <td>3048</td>\n",
       "      <td>3155</td>\n",
       "      <td>1300</td>\n",
       "      <td>257</td>\n",
       "      <td>65</td>\n",
       "    </tr>\n",
       "    <tr>\n",
       "      <th>4</th>\n",
       "      <td>1009</td>\n",
       "      <td>745</td>\n",
       "      <td>370</td>\n",
       "      <td>116</td>\n",
       "      <td>73</td>\n",
       "    </tr>\n",
       "    <tr>\n",
       "      <th>...</th>\n",
       "      <td>...</td>\n",
       "      <td>...</td>\n",
       "      <td>...</td>\n",
       "      <td>...</td>\n",
       "      <td>...</td>\n",
       "    </tr>\n",
       "    <tr>\n",
       "      <th>7829</th>\n",
       "      <td>5932</td>\n",
       "      <td>1694</td>\n",
       "      <td>676</td>\n",
       "      <td>220</td>\n",
       "      <td>178</td>\n",
       "    </tr>\n",
       "    <tr>\n",
       "      <th>7830</th>\n",
       "      <td>5556</td>\n",
       "      <td>1603</td>\n",
       "      <td>371</td>\n",
       "      <td>33</td>\n",
       "      <td>9</td>\n",
       "    </tr>\n",
       "    <tr>\n",
       "      <th>7831</th>\n",
       "      <td>5342</td>\n",
       "      <td>1429</td>\n",
       "      <td>319</td>\n",
       "      <td>50</td>\n",
       "      <td>13</td>\n",
       "    </tr>\n",
       "    <tr>\n",
       "      <th>7832</th>\n",
       "      <td>6996</td>\n",
       "      <td>2997</td>\n",
       "      <td>764</td>\n",
       "      <td>76</td>\n",
       "      <td>25</td>\n",
       "    </tr>\n",
       "    <tr>\n",
       "      <th>7833</th>\n",
       "      <td>4132</td>\n",
       "      <td>1499</td>\n",
       "      <td>514</td>\n",
       "      <td>87</td>\n",
       "      <td>39</td>\n",
       "    </tr>\n",
       "  </tbody>\n",
       "</table>\n",
       "<p>7834 rows × 5 columns</p>\n",
       "</div>"
      ],
      "text/plain": [
       "      Five_Star  Four_Star  Three_Star  Two_Star  One_Star\n",
       "0          1894       1732         866       351       329\n",
       "1          3446       2345        1346       395       254\n",
       "2           368        319         183        41        26\n",
       "3          3048       3155        1300       257        65\n",
       "4          1009        745         370       116        73\n",
       "...         ...        ...         ...       ...       ...\n",
       "7829       5932       1694         676       220       178\n",
       "7830       5556       1603         371        33         9\n",
       "7831       5342       1429         319        50        13\n",
       "7832       6996       2997         764        76        25\n",
       "7833       4132       1499         514        87        39\n",
       "\n",
       "[7834 rows x 5 columns]"
      ]
     },
     "execution_count": 53,
     "metadata": {},
     "output_type": "execute_result"
    }
   ],
   "source": [
    "rating_df = pd.DataFrame(data=dist, columns=['Five_Star', 'Four_Star', 'Three_Star', 'Two_Star', 'One_Star'])\n",
    "rating_df"
   ]
  },
  {
   "cell_type": "code",
   "execution_count": 54,
   "id": "16646f4d",
   "metadata": {
    "pycharm": {
     "name": "#%%\n"
    }
   },
   "outputs": [],
   "source": [
    "# drop original rating distribution strings, concatenate cleaned ratings data\n",
    "df_info.drop(['Rating_Dist'], axis=1, inplace=True)\n",
    "df_info = pd.concat([df_info, rating_df], axis=1)"
   ]
  },
  {
   "cell_type": "markdown",
   "id": "32cc36b3",
   "metadata": {
    "pycharm": {
     "name": "#%% md\n"
    }
   },
   "source": [
    "### 1.1.3 &nbsp; Book reviews dataframe `df_reviews`"
   ]
  },
  {
   "cell_type": "markdown",
   "id": "97b28193",
   "metadata": {
    "pycharm": {
     "name": "#%% md\n"
    }
   },
   "source": [
    "### `N_Review`, `N_Follower`\n",
    "\n",
    "- Similar as before, nan -> 0; change 'k' into thousand; drop suffixes like 'follower', 'like'"
   ]
  },
  {
   "cell_type": "code",
   "execution_count": 55,
   "id": "f1f8f5eb",
   "metadata": {
    "pycharm": {
     "name": "#%%\n"
    }
   },
   "outputs": [
    {
     "name": "stdout",
     "output_type": "stream",
     "text": [
      "995\n",
      "151\n"
     ]
    }
   ],
   "source": [
    "print(df_reviews.iloc[9643, 3])\n",
    "print(df_reviews.iloc[4300, 4])"
   ]
  },
  {
   "cell_type": "code",
   "execution_count": 56,
   "id": "acc4a1e7",
   "metadata": {
    "pycharm": {
     "name": "#%%\n"
    }
   },
   "outputs": [],
   "source": [
    "def digit_process2(x):\n",
    "    # some cases, it will be nan\n",
    "    if pd.isna(x):\n",
    "        x = 0\n",
    "    \n",
    "    if 'k' in str(x):\n",
    "        x = float(x.split('k')[0])  # ensure if no numeric part, will become xx.0\n",
    "        x = str(x).replace('.', '')\n",
    "        x = int(x) * 10 ** 2\n",
    "        \n",
    "    # some data like '1 follower'\n",
    "    if 'follower' in str(x):\n",
    "        x = str(x).split(' follower')[0]\n",
    "    \n",
    "    if ',' in str(x):\n",
    "        x = str(x).replace(',', '')\n",
    "\n",
    "    return int(x)"
   ]
  },
  {
   "cell_type": "code",
   "execution_count": 57,
   "id": "de0c25f4",
   "metadata": {
    "pycharm": {
     "name": "#%%\n"
    }
   },
   "outputs": [
    {
     "name": "stdout",
     "output_type": "stream",
     "text": [
      "995\n",
      "151\n"
     ]
    }
   ],
   "source": [
    "df_reviews[['N_Review', 'N_Follower']] = df_reviews[['N_Review', 'N_Follower']].applymap(digit_process2)\n",
    "\n",
    "print(df_reviews.iloc[9643, 3])\n",
    "print(df_reviews.iloc[4300, 4])"
   ]
  },
  {
   "cell_type": "markdown",
   "id": "09367afd",
   "metadata": {
    "pycharm": {
     "name": "#%% md\n"
    }
   },
   "source": [
    "### `N_Likes`, `N_Comments`"
   ]
  },
  {
   "cell_type": "code",
   "execution_count": 58,
   "id": "2db3dc73",
   "metadata": {
    "pycharm": {
     "name": "#%%\n"
    }
   },
   "outputs": [],
   "source": [
    "def digit_process3(x):\n",
    "    # some cases, it will be nan\n",
    "    if pd.isna(x):\n",
    "        x = 0\n",
    "    \n",
    "    if ',' in str(x):\n",
    "        x = str(x).replace(',', '')\n",
    "    \n",
    "    # modify enties in form: '1 like', '1 comment'\n",
    "    if 'like' in str(x):\n",
    "        x = str(x).split(' like')[0]\n",
    "    \n",
    "    if 'comment' in str(x):\n",
    "        x = str(x).split(' comment')[0]\n",
    "    \n",
    "    # some tricky entry '3.0'\n",
    "    if '.0' in str(x):\n",
    "        x = str(x).replace('.0', '')\n",
    "        \n",
    "    return int(x)"
   ]
  },
  {
   "cell_type": "code",
   "execution_count": 59,
   "id": "4cf06ff8",
   "metadata": {
    "pycharm": {
     "name": "#%%\n"
    }
   },
   "outputs": [],
   "source": [
    "df_reviews[['N_Likes', 'N_Comments']] = df_reviews[['N_Likes', 'N_Comments']].applymap(digit_process3)"
   ]
  },
  {
   "cell_type": "markdown",
   "id": "e264d96b",
   "metadata": {
    "pycharm": {
     "name": "#%% md\n"
    }
   },
   "source": [
    "### 1.1.4 &nbsp; Additional tricky cleansings "
   ]
  },
  {
   "cell_type": "markdown",
   "id": "235f5883",
   "metadata": {
    "pycharm": {
     "name": "#%% md\n"
    }
   },
   "source": [
    "### `Author`\n",
    "\n",
    "- We will drop some entries where *Author_Name* are *Anonymous* / *Unknown*\n",
    "- One interesting case is **William Shakespeare***, who authored ***12.4k*** books on GoodReads website, we guess this is due to website wrongly classifying all books that written by other authors but with the same name into his lists. In whatever case, we can think of this as outlier to delete it."
   ]
  },
  {
   "cell_type": "code",
   "execution_count": 60,
   "id": "59dc13d7",
   "metadata": {
    "pycharm": {
     "name": "#%%\n"
    }
   },
   "outputs": [
    {
     "data": {
      "text/plain": [
       "array([ 280111,  930470, 5883777, 1923820,    1622,  102868,   42607,\n",
       "         52357,    1420,   13006,   12938,    8852,   12957,   12996,\n",
       "         18135,    3049,    3590,   93101,  188572,   19351,    8921,\n",
       "        194373,   24128,  608474,   47021,   12985,    1625,  754713,\n",
       "        194366,  736131,  159964,  534289,   42038,  569564,  118252,\n",
       "        608947,  790550,  203818,  821535,  290882,  646462,  241902,\n",
       "        104837, 5031805,   37526,  265205,   42058,  901111,  616330,\n",
       "        162823,  381112,  463877,  103390,   44133], dtype=int64)"
      ]
     },
     "execution_count": 60,
     "metadata": {},
     "output_type": "execute_result"
    }
   ],
   "source": [
    "author = ['William Shakespeare', 'Anonymous', 'Unknown', 'Arthur Conan Doyle']\n",
    "\n",
    "uid_list = df_info[df_info['Author'].isin(author)]['Uid'].values\n",
    "uid_list"
   ]
  },
  {
   "cell_type": "code",
   "execution_count": 61,
   "id": "096bcef0",
   "metadata": {
    "pycharm": {
     "name": "#%%\n"
    }
   },
   "outputs": [],
   "source": [
    "df_info = df_info[~df_info['Author'].isin(author)].reset_index(drop=True)"
   ]
  },
  {
   "cell_type": "code",
   "execution_count": 62,
   "id": "659f2ebf",
   "metadata": {
    "pycharm": {
     "name": "#%%\n"
    }
   },
   "outputs": [],
   "source": [
    "df_reviews = df_reviews[~df_reviews['Uid'].isin(uid_list)].reset_index(drop=True)"
   ]
  },
  {
   "cell_type": "markdown",
   "id": "31ce4de4",
   "metadata": {
    "pycharm": {
     "name": "#%% md\n"
    }
   },
   "source": [
    "### `Book_Authored`\n",
    "\n",
    "- As a result of above cleansing on authors, we can cast `Book_Authored` into int64 type now (otherwise will cause error at '12.4k')"
   ]
  },
  {
   "cell_type": "code",
   "execution_count": 63,
   "id": "96f561c6",
   "metadata": {
    "pycharm": {
     "name": "#%%\n"
    }
   },
   "outputs": [],
   "source": [
    "df_info['Book_Authored'] = df_info['Book_Authored'].astype('int64')"
   ]
  },
  {
   "cell_type": "markdown",
   "id": "cb6b67af",
   "metadata": {},
   "source": [
    "#### Some books are not in English, so we did not scraped useful reviews for them and we drop these books for simplicity"
   ]
  },
  {
   "cell_type": "code",
   "execution_count": 65,
   "id": "ef72a548",
   "metadata": {},
   "outputs": [
    {
     "data": {
      "text/plain": [
       "7776"
      ]
     },
     "execution_count": 65,
     "metadata": {},
     "output_type": "execute_result"
    }
   ],
   "source": [
    "Uid = df_reviews['Uid'].unique()\n",
    "len(Uid)"
   ]
  },
  {
   "cell_type": "code",
   "execution_count": 66,
   "id": "f11089a3",
   "metadata": {},
   "outputs": [],
   "source": [
    "df_info = df_info[df_info['Uid'].isin(Uid)]"
   ]
  },
  {
   "cell_type": "code",
   "execution_count": 67,
   "id": "545344ee",
   "metadata": {
    "pycharm": {
     "name": "#%%\n"
    }
   },
   "outputs": [
    {
     "name": "stdout",
     "output_type": "stream",
     "text": [
      "<class 'pandas.core.frame.DataFrame'>\n",
      "Int64Index: 7776 entries, 0 to 7779\n",
      "Data columns (total 19 columns):\n",
      " #   Column         Non-Null Count  Dtype  \n",
      "---  ------         --------------  -----  \n",
      " 0   Uid            7776 non-null   int64  \n",
      " 1   Title          7776 non-null   object \n",
      " 2   Genres         7776 non-null   object \n",
      " 3   Author         7776 non-null   object \n",
      " 4   Rating         7776 non-null   float64\n",
      " 5   Publish_Date   7776 non-null   object \n",
      " 6   Page_Num       7776 non-null   int64  \n",
      " 7   Award          7776 non-null   object \n",
      " 8   Description    7761 non-null   object \n",
      " 9   Author_Desc    7116 non-null   object \n",
      " 10  Book_Authored  7776 non-null   int64  \n",
      " 11  Follower_Num   7776 non-null   int64  \n",
      " 12  Review_Num     7776 non-null   int64  \n",
      " 13  Rating_Num     7776 non-null   int64  \n",
      " 14  Five_Star      7776 non-null   int64  \n",
      " 15  Four_Star      7776 non-null   int64  \n",
      " 16  Three_Star     7776 non-null   int64  \n",
      " 17  Two_Star       7776 non-null   int64  \n",
      " 18  One_Star       7776 non-null   int64  \n",
      "dtypes: float64(1), int64(11), object(7)\n",
      "memory usage: 1.2+ MB\n"
     ]
    }
   ],
   "source": [
    "df_info.info()"
   ]
  },
  {
   "cell_type": "markdown",
   "id": "a20d9fbc",
   "metadata": {},
   "source": [
    "#### Drop duplicated records: we detect duplicates by 3 key factors\n",
    "- Sometimes a reviewer will review a book several times, so we also use Review_Date as a reference"
   ]
  },
  {
   "cell_type": "code",
   "execution_count": 69,
   "id": "44660cb8",
   "metadata": {},
   "outputs": [],
   "source": [
    "df_reviews = df_reviews.drop_duplicates(subset=['Uid', 'Reviewer', 'Review_Date'])"
   ]
  },
  {
   "cell_type": "code",
   "execution_count": 70,
   "id": "fc575e3b",
   "metadata": {
    "pycharm": {
     "name": "#%%\n"
    },
    "scrolled": true
   },
   "outputs": [
    {
     "name": "stdout",
     "output_type": "stream",
     "text": [
      "<class 'pandas.core.frame.DataFrame'>\n",
      "Int64Index: 114034 entries, 0 to 114062\n",
      "Data columns (total 10 columns):\n",
      " #   Column         Non-Null Count   Dtype \n",
      "---  ------         --------------   ----- \n",
      " 0   Uid            114034 non-null  int64 \n",
      " 1   Title          114034 non-null  object\n",
      " 2   Reviewer       114034 non-null  object\n",
      " 3   N_Review       114034 non-null  int64 \n",
      " 4   N_Follower     114034 non-null  int64 \n",
      " 5   Review_Rating  114034 non-null  int64 \n",
      " 6   Review_Date    114034 non-null  object\n",
      " 7   Content        114034 non-null  object\n",
      " 8   N_Likes        114034 non-null  int64 \n",
      " 9   N_Comments     114034 non-null  int64 \n",
      "dtypes: int64(6), object(4)\n",
      "memory usage: 9.6+ MB\n"
     ]
    }
   ],
   "source": [
    "df_reviews.info()"
   ]
  },
  {
   "cell_type": "markdown",
   "id": "ac8bd522",
   "metadata": {
    "pycharm": {
     "name": "#%% md\n"
    }
   },
   "source": [
    "#### Store the final cleaned datasets"
   ]
  },
  {
   "cell_type": "code",
   "execution_count": 71,
   "id": "3be9f18f",
   "metadata": {
    "pycharm": {
     "name": "#%%\n"
    }
   },
   "outputs": [],
   "source": [
    "df_info.to_csv('./Book_info_cleaned.csv', index=False)\n",
    "df_reviews.to_csv('./Book_reviews_cleaned.csv', index=False)"
   ]
  },
  {
   "cell_type": "code",
   "execution_count": null,
   "id": "af72179f",
   "metadata": {
    "pycharm": {
     "name": "#%%\n"
    }
   },
   "outputs": [],
   "source": []
  }
 ],
 "metadata": {
  "kernelspec": {
   "display_name": "Python 3 (ipykernel)",
   "language": "python",
   "name": "python3"
  },
  "language_info": {
   "codemirror_mode": {
    "name": "ipython",
    "version": 3
   },
   "file_extension": ".py",
   "mimetype": "text/x-python",
   "name": "python",
   "nbconvert_exporter": "python",
   "pygments_lexer": "ipython3",
   "version": "3.8.10"
  }
 },
 "nbformat": 4,
 "nbformat_minor": 5
}
