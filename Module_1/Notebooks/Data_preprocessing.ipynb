{
 "cells": [
  {
   "cell_type": "markdown",
   "id": "c28e1b14",
   "metadata": {},
   "source": [
    "### 2.2.1 &nbsp; Data pre-processing\n",
    "\n",
    "- In web scraping step, to avoid the loss of all previous information caused by error, we separately stored each book's information into CSVs\n",
    "- So we first combine books' infomation & reviews CSVs under each genre, then based on this, combine books in all genres to 2 comprehensive CSVs\n",
    "    - **Book_info.csv**\n",
    "    - **Book_reviews.csv**\n",
    "   \n",
    "### !!! NOTE !!! Since original source of web scraping data is too large, we only provide a small sample in submission for demonstartion purposes, its running result might not look as below"
   ]
  },
  {
   "cell_type": "code",
   "execution_count": 1,
   "id": "fc9ed09c",
   "metadata": {},
   "outputs": [],
   "source": [
    "import pandas as pd\n",
    "import numpy as np\n",
    "import os"
   ]
  },
  {
   "cell_type": "code",
   "execution_count": 2,
   "id": "21ca8f2a",
   "metadata": {},
   "outputs": [
    {
     "name": "stdout",
     "output_type": "stream",
     "text": [
      "The total genre number:  40\n",
      "\n",
      "The detailed genre names are: \n",
      " ['art', 'biography', 'business', 'chick-lit', 'children-s', 'christian', 'classics', 'comics', 'contemporary', 'cookbooks', 'crime', 'ebooks', 'fantasy', 'fiction', 'gay-and-lesbian', 'graphic-novels', 'historical-fiction', 'history', 'horror', 'humor-and-comedy', 'manga', 'memoir', 'music', 'mystery', 'nonfiction', 'paranormal', 'philosophy', 'poetry', 'psychology', 'religion', 'romance', 'science', 'science-fiction', 'self-help', 'spirituality', 'sports', 'suspense', 'thriller', 'travel', 'young-adult']\n"
     ]
    }
   ],
   "source": [
    "# read book genres\n",
    "path = './book_stats/'\n",
    "\n",
    "genre_folders = os.listdir(path)\n",
    "print(\"The total genre number: \", len(genre_folders))\n",
    "print()\n",
    "print(\"The detailed genre names are: \\n\", genre_folders)"
   ]
  },
  {
   "cell_type": "markdown",
   "id": "ba9e7a9e",
   "metadata": {},
   "source": [
    "#### Combination of Book information & review files"
   ]
  },
  {
   "cell_type": "code",
   "execution_count": 3,
   "id": "a7736a75",
   "metadata": {},
   "outputs": [],
   "source": [
    "# for each genre, access the book info & review files\n",
    "for genre in genre_folders:\n",
    "    info_path = path + genre + '/basic_info/'\n",
    "    review_path = path + genre + '/book_reviews/'\n",
    "    \n",
    "    info_files = os.listdir(info_path)\n",
    "    review_files = os.listdir(review_path)\n",
    "    \n",
    "    # combine books' info together into one file \n",
    "    for i in range(len(info_files)):\n",
    "        if i == 0:\n",
    "            book_info = pd.read_csv(info_path + info_files[i])\n",
    "        else:\n",
    "            df_temp = pd.read_csv(info_path + info_files[i])\n",
    "            book_info = pd.concat([book_info, df_temp], ignore_index=True)\n",
    "            \n",
    "    for i in range(len(review_files)):\n",
    "        if i == 0:\n",
    "            book_reviews = pd.read_csv(review_path + review_files[i])\n",
    "        else:\n",
    "            df_temp = pd.read_csv(review_path + review_files[i])\n",
    "            book_reviews = pd.concat([book_reviews, df_temp], ignore_index=True)\n",
    "            \n",
    "    # store each genre's books' data\n",
    "    book_info.to_csv(path + genre + '/book_info.csv', index=False)\n",
    "    book_reviews.to_csv(path + genre + '/book_reviews.csv', index=False)"
   ]
  },
  {
   "cell_type": "code",
   "execution_count": 4,
   "id": "3e705fda",
   "metadata": {},
   "outputs": [],
   "source": [
    "# starting from each genre, we combine all books' info & reviews together\n",
    "\n",
    "df_info = pd.DataFrame()\n",
    "df_reviews = pd.DataFrame()\n",
    "\n",
    "for genre in genre_folders:\n",
    "    info_path = path + genre + '/book_info.csv'\n",
    "    review_path = path + genre + '/book_reviews.csv'\n",
    "    \n",
    "    info_temp = pd.read_csv(info_path)\n",
    "    review_temp = pd.read_csv(review_path)\n",
    "    \n",
    "    df_info = pd.concat([df_info, info_temp], ignore_index=True)\n",
    "    df_reviews = pd.concat([df_reviews, review_temp], ignore_index=True)"
   ]
  },
  {
   "cell_type": "code",
   "execution_count": 5,
   "id": "c714a05a",
   "metadata": {},
   "outputs": [],
   "source": [
    "# one typo in creating feature names\n",
    "df_info.rename(columns={'Rating_Dist:': 'Rating_Dist'}, inplace=True)\n",
    "\n",
    "# rename 'rate' as 'rating' for more clear expressions\n",
    "df_info.rename(columns={'Rate': 'Rating'}, inplace=True)\n",
    "df_reviews.rename(columns={'Review_Rate': 'Review_Rating'}, inplace=True)"
   ]
  },
  {
   "cell_type": "markdown",
   "id": "2f7a6def",
   "metadata": {},
   "source": [
    "#### Take a look at two datasets"
   ]
  },
  {
   "cell_type": "code",
   "execution_count": null,
   "id": "aa4a6f48",
   "metadata": {},
   "outputs": [],
   "source": [
    "df_info.info()\n",
    "df_info.head()"
   ]
  },
  {
   "cell_type": "code",
   "execution_count": null,
   "id": "f4d03ca5",
   "metadata": {},
   "outputs": [],
   "source": [
    "df_reviews.info()\n",
    "df_reviews.head()"
   ]
  },
  {
   "cell_type": "markdown",
   "id": "eae88eee",
   "metadata": {},
   "source": [
    "#### Store raw (uncleaned) datasets"
   ]
  },
  {
   "cell_type": "code",
   "execution_count": 14,
   "id": "10067c08",
   "metadata": {},
   "outputs": [],
   "source": [
    "df_info.to_csv('Book_info.csv', index=False)\n",
    "df_reviews.to_csv('Book_reviews.csv', index=False)"
   ]
  },
  {
   "cell_type": "code",
   "execution_count": null,
   "id": "5ea801cb",
   "metadata": {},
   "outputs": [],
   "source": []
  }
 ],
 "metadata": {
  "kernelspec": {
   "display_name": "Python 3 (ipykernel)",
   "language": "python",
   "name": "python3"
  },
  "language_info": {
   "codemirror_mode": {
    "name": "ipython",
    "version": 3
   },
   "file_extension": ".py",
   "mimetype": "text/x-python",
   "name": "python",
   "nbconvert_exporter": "python",
   "pygments_lexer": "ipython3",
   "version": "3.8.10"
  }
 },
 "nbformat": 4,
 "nbformat_minor": 5
}
